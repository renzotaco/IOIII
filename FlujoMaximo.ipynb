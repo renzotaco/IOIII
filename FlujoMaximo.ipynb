{
 "cells": [
  {
   "cell_type": "code",
   "execution_count": 6,
   "id": "b5761a91",
   "metadata": {},
   "outputs": [
    {
     "name": "stdout",
     "output_type": "stream",
     "text": [
      "Max flow: 60\n",
      "\n",
      "  Arc    Flow / Capacity\n",
      "0 -> 1    20  /  20\n",
      "0 -> 2    30  /  30\n",
      "0 -> 3    10  /  10\n",
      "1 -> 2     0  /  40\n",
      "1 -> 4    20  /  30\n",
      "2 -> 3    10  /  10\n",
      "2 -> 4    20  /  20\n",
      "3 -> 2     0  /   5\n",
      "3 -> 4    20  /  20\n",
      "Source side min-cut: [0]\n",
      "Sink side min-cut: [4, 1]\n"
     ]
    }
   ],
   "source": [
    "from ortools.graph import pywrapgraph\n",
    "start_nodes = [0, 0, 0, 1, 1, 2, 2, 3, 3]\n",
    "end_nodes = [1, 2, 3, 2, 4, 3, 4, 2, 4]\n",
    "capacities = [20, 30, 10, 40, 30, 10, 20, 5, 20]\n",
    "max_flow = pywrapgraph.SimpleMaxFlow()\n",
    "for i in range(0, len(start_nodes)):\n",
    "    max_flow.AddArcWithCapacity(start_nodes[i], end_nodes[i], capacities[i])\n",
    "# Find the maximum flow between node 0 and node 4.\n",
    "if max_flow.Solve(0, 4) == max_flow.OPTIMAL:\n",
    "    print('Max flow:', max_flow.OptimalFlow())\n",
    "    print('')\n",
    "    print('  Arc    Flow / Capacity')\n",
    "    for i in range(max_flow.NumArcs()):\n",
    "        print('%1s -> %1s   %3s  / %3s' % (\n",
    "          max_flow.Tail(i),\n",
    "          max_flow.Head(i),\n",
    "          max_flow.Flow(i),\n",
    "          max_flow.Capacity(i)))\n",
    "    print('Source side min-cut:', max_flow.GetSourceSideMinCut())\n",
    "    print('Sink side min-cut:', max_flow.GetSinkSideMinCut())\n",
    "else:\n",
    "    print('There was an issue with the max flow input.')"
   ]
  },
  {
   "cell_type": "code",
   "execution_count": 5,
   "id": "42c71d78",
   "metadata": {},
   "outputs": [
    {
     "name": "stdout",
     "output_type": "stream",
     "text": [
      "Costo Mínimo: 150\n",
      "\n",
      "  Ruta    Flujo / Capacidad  Costo\n",
      "0 -> 1    12  /  15        48\n",
      "0 -> 2     8  /   8        32\n",
      "1 -> 2     8  /  20        16\n",
      "1 -> 3     4  /   4         8\n",
      "1 -> 4     0  /  10         0\n",
      "2 -> 3    12  /  15        12\n",
      "2 -> 4     4  /   4        12\n",
      "3 -> 4    11  /  20        22\n",
      "4 -> 2     0  /   5         0\n"
     ]
    }
   ],
   "source": [
    "\n",
    "from ortools.graph import pywrapgraph\n",
    "#between each pair. For instance, the arc from node 0 to node 1 has acapacity of 15 and a unit cost of 4.\n",
    "start_nodes = [ 0, 0,  1, 1,  1,  2, 2,  3, 4]\n",
    "end_nodes   = [ 1, 2,  2, 3,  4,  3, 4,  4, 2]\n",
    "capacities  = [15, 8, 20, 4, 10, 15, 4, 20, 5]\n",
    "unit_costs  = [ 4, 4,  2, 2,  6,  1, 3,  2, 3]\n",
    "# Define an array of supplies at each node.\n",
    "supplies = [20, 0, 0, -5, -15]\n",
    "# Instantiate a SimpleMinCostFlow solver.\n",
    "min_cost_flow = pywrapgraph.SimpleMinCostFlow()\n",
    "# Add each arc.\n",
    "for i in range(0, len(start_nodes)):\n",
    "    min_cost_flow.AddArcWithCapacityAndUnitCost(start_nodes[i], end_nodes[i],\n",
    "                                                capacities[i], unit_costs[i])\n",
    "# Add node supplies.\n",
    "for i in range(0, len(supplies)):\n",
    "    min_cost_flow.SetNodeSupply(i, supplies[i])\n",
    " # Find the minimum cost flow between node 0 and node 4.\n",
    "if min_cost_flow.Solve() == min_cost_flow.OPTIMAL:\n",
    "    print('Costo Mínimo:', min_cost_flow.OptimalCost())\n",
    "    print('')\n",
    "    print('  Ruta    Flujo / Capacidad  Costo')\n",
    "    for i in range(min_cost_flow.NumArcs()):\n",
    "      cost = min_cost_flow.Flow(i) * min_cost_flow.UnitCost(i)\n",
    "      print('%1s -> %1s   %3s  / %3s       %3s' % (\n",
    "          min_cost_flow.Tail(i),\n",
    "          min_cost_flow.Head(i),\n",
    "          min_cost_flow.Flow(i),\n",
    "          min_cost_flow.Capacity(i),\n",
    "          cost))\n",
    "else:\n",
    "    print('Hubo un problema con la entrada del flujo máximo.')\n",
    "    "
   ]
  },
  {
   "cell_type": "code",
   "execution_count": null,
   "id": "aebcd644",
   "metadata": {},
   "outputs": [],
   "source": []
  }
 ],
 "metadata": {
  "kernelspec": {
   "display_name": "Python 3",
   "language": "python",
   "name": "python3"
  },
  "language_info": {
   "codemirror_mode": {
    "name": "ipython",
    "version": 3
   },
   "file_extension": ".py",
   "mimetype": "text/x-python",
   "name": "python",
   "nbconvert_exporter": "python",
   "pygments_lexer": "ipython3",
   "version": "3.8.10"
  }
 },
 "nbformat": 4,
 "nbformat_minor": 5
}
