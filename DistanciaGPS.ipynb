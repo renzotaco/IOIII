{
  "nbformat": 4,
  "nbformat_minor": 0,
  "metadata": {
    "colab": {
      "name": "DistanciaGPS.ipynb",
      "provenance": [],
      "authorship_tag": "ABX9TyNXQF4p1Uav4N5OQ5J5HD7c",
      "include_colab_link": true
    },
    "kernelspec": {
      "name": "python3",
      "display_name": "Python 3"
    },
    "language_info": {
      "name": "python"
    }
  },
  "cells": [
    {
      "cell_type": "markdown",
      "metadata": {
        "id": "view-in-github",
        "colab_type": "text"
      },
      "source": [
        "<a href=\"https://colab.research.google.com/github/renzotaco/IOIII/blob/main/DistanciaGPS.ipynb\" target=\"_parent\"><img src=\"https://colab.research.google.com/assets/colab-badge.svg\" alt=\"Open In Colab\"/></a>"
      ]
    },
    {
      "cell_type": "markdown",
      "metadata": {
        "id": "txIPoAajbC9X"
      },
      "source": [
        "Calcular Distancia entre dos puntos GPS\n",
        "La formula Harvesine para la aproximación esférica de la distancia (d) entre dos puntos de la superficie terrestre se encuentra a continuación:"
      ]
    },
    {
      "cell_type": "markdown",
      "metadata": {
        "id": "BIRQOyFWa3PL"
      },
      "source": [
        "![haversine.png](data:image/png;base64,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)"
      ]
    },
    {
      "cell_type": "markdown",
      "metadata": {
        "id": "2jAhSio7bW8_"
      },
      "source": [
        "donde Φ1, Φ2 y λ1, λ2 se refieren a la latitud y a la longitud, expresadas ambas en radianes, de los puntos 1 y 2 respectivamente y r corresponde al radio terrestre (Ecuatorial 6378.1 km, Polar 6356.8 km, Medio 6371.0 km). "
      ]
    },
    {
      "cell_type": "code",
      "metadata": {
        "colab": {
          "base_uri": "https://localhost:8080/"
        },
        "id": "fLe_V80MZ-yx",
        "outputId": "9b1399ef-16dd-450a-dec3-879945785ea1"
      },
      "source": [
        "import math\n",
        "\n",
        "def haversine(lat1, lon1, lat2, lon2):\n",
        "    rad=math.pi/180\n",
        "    dlat=lat2-lat1\n",
        "    dlon=lon2-lon1\n",
        "    R=6372.795477598\n",
        "    a=(math.sin(rad*dlat/2))**2 + math.cos(rad*lat1)*math.cos(rad*lat2)*(math.sin(rad*dlon/2))**2\n",
        "    distancia=2*R*math.asin(math.sqrt(a))\n",
        "    return distancia\n",
        "\n",
        "print(haversine(-17.19202, -70.93874, -17.19111, -70.92896))\n"
      ],
      "execution_count": null,
      "outputs": [
        {
          "output_type": "stream",
          "name": "stdout",
          "text": [
            "1.0441098339821444\n"
          ]
        }
      ]
    },
    {
      "cell_type": "code",
      "metadata": {
        "colab": {
          "base_uri": "https://localhost:8080/"
        },
        "id": "fhJURM0Ncxui",
        "outputId": "77ce5b1d-1132-42f0-dd93-08f02ab7a135"
      },
      "source": [
        "from math import acos, cos, sin, radians\n",
        "\n",
        "def distancia_puntos(punto_1, punto_2):\n",
        "    punto_1 = (radians(punto_1[0]), radians(punto_1[1]))\n",
        "    punto_2 = (radians(punto_2[0]), radians(punto_2[1]))\n",
        "\n",
        "    distancia = acos(sin(punto_1[0])*sin(punto_2[0]) + cos(punto_1[0])*cos(punto_2[0])*cos(punto_1[1] - punto_2[1]))\n",
        "\n",
        "    return distancia * 6371.01\n",
        "\n",
        "if __name__ == \"__main__\":\n",
        "    punto_1 = (-17.19202, -70.93874)\n",
        "    punto_2 = (-17.19111, -70.92896)\n",
        "\n",
        "    resultado = distancia_puntos(punto_1, punto_2)\n",
        "\n",
        "    print('La distancia en kilómetros entre Punto1 y Punto2 es de %f' % resultado)"
      ],
      "execution_count": null,
      "outputs": [
        {
          "output_type": "stream",
          "name": "stdout",
          "text": [
            "La distancia en kilómetros entre Punto1 y Punto2 es de 1.043817\n"
          ]
        }
      ]
    },
    {
      "cell_type": "code",
      "metadata": {
        "id": "7Ny0XuFYhBgS"
      },
      "source": [
        "import folium\n",
        "from folium import plugins\n",
        "import pandas as pd\n",
        "import matplotlib.pyplot as plt\n",
        "import seaborn as sns\n",
        "\n",
        "%matplotlib inline"
      ],
      "execution_count": null,
      "outputs": []
    },
    {
      "cell_type": "code",
      "metadata": {
        "colab": {
          "base_uri": "https://localhost:8080/",
          "height": 204
        },
        "id": "U2KP4i-Ihd8h",
        "outputId": "332d989b-456b-4b80-cd07-300dcf4cc4c0"
      },
      "source": [
        "#Para abrir excel\n",
        "df = pd.read_excel('CPMOQ.xlsx', sheet_name=1)\n",
        " #Para abrir CSV\n",
        " #df = pd.read_csv('MapsLugares.csv')\n",
        "df.head()"
      ],
      "execution_count": null,
      "outputs": [
        {
          "output_type": "execute_result",
          "data": {
            "text/html": [
              "<div>\n",
              "<style scoped>\n",
              "    .dataframe tbody tr th:only-of-type {\n",
              "        vertical-align: middle;\n",
              "    }\n",
              "\n",
              "    .dataframe tbody tr th {\n",
              "        vertical-align: top;\n",
              "    }\n",
              "\n",
              "    .dataframe thead th {\n",
              "        text-align: right;\n",
              "    }\n",
              "</style>\n",
              "<table border=\"1\" class=\"dataframe\">\n",
              "  <thead>\n",
              "    <tr style=\"text-align: right;\">\n",
              "      <th></th>\n",
              "      <th>Nodo</th>\n",
              "      <th>Colegio</th>\n",
              "      <th>Distrito</th>\n",
              "      <th>Lugar</th>\n",
              "      <th>Latitud</th>\n",
              "      <th>Longitud</th>\n",
              "      <th>Altitud</th>\n",
              "    </tr>\n",
              "  </thead>\n",
              "  <tbody>\n",
              "    <tr>\n",
              "      <th>0</th>\n",
              "      <td>0</td>\n",
              "      <td>ALEXANDER FLEMING</td>\n",
              "      <td>MOQUEGUA</td>\n",
              "      <td>AVENIDA LA PAZ 310</td>\n",
              "      <td>-17.19202</td>\n",
              "      <td>-70.93874</td>\n",
              "      <td>1396</td>\n",
              "    </tr>\n",
              "    <tr>\n",
              "      <th>1</th>\n",
              "      <td>1</td>\n",
              "      <td>JUAN PABLO II</td>\n",
              "      <td>MOQUEGUA</td>\n",
              "      <td>MZ C LOTE 11</td>\n",
              "      <td>-17.19111</td>\n",
              "      <td>-70.92896</td>\n",
              "      <td>1441</td>\n",
              "    </tr>\n",
              "    <tr>\n",
              "      <th>2</th>\n",
              "      <td>2</td>\n",
              "      <td>BENJAMIN FRANKLIN</td>\n",
              "      <td>MOQUEGUA</td>\n",
              "      <td>JIRON LIMA 905</td>\n",
              "      <td>-17.19125</td>\n",
              "      <td>-70.93304</td>\n",
              "      <td>1417</td>\n",
              "    </tr>\n",
              "    <tr>\n",
              "      <th>3</th>\n",
              "      <td>3</td>\n",
              "      <td>BILINGÜE MAX UHLE</td>\n",
              "      <td>MOQUEGUA</td>\n",
              "      <td>MZ B LOTE 11</td>\n",
              "      <td>-17.19080</td>\n",
              "      <td>-70.92845</td>\n",
              "      <td>1438</td>\n",
              "    </tr>\n",
              "    <tr>\n",
              "      <th>4</th>\n",
              "      <td>4</td>\n",
              "      <td>CEBA - LORD BYRON</td>\n",
              "      <td>MOQUEGUA</td>\n",
              "      <td>CALLE AREQUIPA 340</td>\n",
              "      <td>-17.19325</td>\n",
              "      <td>-70.93365</td>\n",
              "      <td>1431</td>\n",
              "    </tr>\n",
              "  </tbody>\n",
              "</table>\n",
              "</div>"
            ],
            "text/plain": [
              "   Nodo            Colegio  Distrito  ...   Latitud  Longitud  Altitud\n",
              "0     0  ALEXANDER FLEMING  MOQUEGUA  ... -17.19202 -70.93874     1396\n",
              "1     1      JUAN PABLO II  MOQUEGUA  ... -17.19111 -70.92896     1441\n",
              "2     2  BENJAMIN FRANKLIN  MOQUEGUA  ... -17.19125 -70.93304     1417\n",
              "3     3  BILINGÜE MAX UHLE  MOQUEGUA  ... -17.19080 -70.92845     1438\n",
              "4     4  CEBA - LORD BYRON  MOQUEGUA  ... -17.19325 -70.93365     1431\n",
              "\n",
              "[5 rows x 7 columns]"
            ]
          },
          "metadata": {},
          "execution_count": 4
        }
      ]
    },
    {
      "cell_type": "code",
      "metadata": {
        "colab": {
          "base_uri": "https://localhost:8080/",
          "height": 763
        },
        "id": "_l67WGrGhGEb",
        "outputId": "b78e4798-3078-4dec-9014-2ee3fa084a2d"
      },
      "source": [
        "m = folium.Map([-17.19111, -70.92896],  zoom_start=14)\n",
        "\n",
        "for index, row in df.iterrows():\n",
        "    folium.Marker([row['Latitud'], row['Longitud']], \n",
        "                  popup=row['Colegio'],\n",
        "                  icon=folium.Icon(icon='ok-sign')\n",
        "                 ).add_to(m)\n",
        "m"
      ],
      "execution_count": null,
      "outputs": [
        {
          "output_type": "execute_result",
          "data": {
            "text/html": [
              "<div style=\"width:100%;\"><div style=\"position:relative;width:100%;height:0;padding-bottom:60%;\"><span style=\"color:#565656\">Make this Notebook Trusted to load map: File -> Trust Notebook</span><iframe src=\"about:blank\" style=\"position:absolute;width:100%;height:100%;left:0;top:0;border:none !important;\" data-html=%3C%21DOCTYPE%20html%3E%0A%3Chead%3E%20%20%20%20%0A%20%20%20%20%3Cmeta%20http-equiv%3D%22content-type%22%20content%3D%22text/html%3B%20charset%3DUTF-8%22%20/%3E%0A%20%20%20%20%3Cscript%3EL_PREFER_CANVAS%3Dfalse%3B%20L_NO_TOUCH%3Dfalse%3B%20L_DISABLE_3D%3Dfalse%3B%3C/script%3E%0A%20%20%20%20%3Cscript%20src%3D%22https%3A//cdn.jsdelivr.net/npm/leaflet%401.4.0/dist/leaflet.js%22%3E%3C/script%3E%0A%20%20%20%20%3Cscript%20src%3D%22https%3A//code.jquery.com/jquery-1.12.4.min.js%22%3E%3C/script%3E%0A%20%20%20%20%3Cscript%20src%3D%22https%3A//maxcdn.bootstrapcdn.com/bootstrap/3.2.0/js/bootstrap.min.js%22%3E%3C/script%3E%0A%20%20%20%20%3Cscript%20src%3D%22https%3A//cdnjs.cloudflare.com/ajax/libs/Leaflet.awesome-markers/2.0.2/leaflet.awesome-markers.js%22%3E%3C/script%3E%0A%20%20%20%20%3Clink%20rel%3D%22stylesheet%22%20href%3D%22https%3A//cdn.jsdelivr.net/npm/leaflet%401.4.0/dist/leaflet.css%22/%3E%0A%20%20%20%20%3Clink%20rel%3D%22stylesheet%22%20href%3D%22https%3A//maxcdn.bootstrapcdn.com/bootstrap/3.2.0/css/bootstrap.min.css%22/%3E%0A%20%20%20%20%3Clink%20rel%3D%22stylesheet%22%20href%3D%22https%3A//maxcdn.bootstrapcdn.com/bootstrap/3.2.0/css/bootstrap-theme.min.css%22/%3E%0A%20%20%20%20%3Clink%20rel%3D%22stylesheet%22%20href%3D%22https%3A//maxcdn.bootstrapcdn.com/font-awesome/4.6.3/css/font-awesome.min.css%22/%3E%0A%20%20%20%20%3Clink%20rel%3D%22stylesheet%22%20href%3D%22https%3A//cdnjs.cloudflare.com/ajax/libs/Leaflet.awesome-markers/2.0.2/leaflet.awesome-markers.css%22/%3E%0A%20%20%20%20%3Clink%20rel%3D%22stylesheet%22%20href%3D%22https%3A//rawcdn.githack.com/python-visualization/folium/master/folium/templates/leaflet.awesome.rotate.css%22/%3E%0A%20%20%20%20%3Cstyle%3Ehtml%2C%20body%20%7Bwidth%3A%20100%25%3Bheight%3A%20100%25%3Bmargin%3A%200%3Bpadding%3A%200%3B%7D%3C/style%3E%0A%20%20%20%20%3Cstyle%3E%23map%20%7Bposition%3Aabsolute%3Btop%3A0%3Bbottom%3A0%3Bright%3A0%3Bleft%3A0%3B%7D%3C/style%3E%0A%20%20%20%20%0A%20%20%20%20%3Cmeta%20name%3D%22viewport%22%20content%3D%22width%3Ddevice-width%2C%0A%20%20%20%20%20%20%20%20initial-scale%3D1.0%2C%20maximum-scale%3D1.0%2C%20user-scalable%3Dno%22%20/%3E%0A%20%20%20%20%3Cstyle%3E%23map_b7f0af205de3477ebb5692c8a709a5cd%20%7B%0A%20%20%20%20%20%20%20%20position%3A%20relative%3B%0A%20%20%20%20%20%20%20%20width%3A%20100.0%25%3B%0A%20%20%20%20%20%20%20%20height%3A%20100.0%25%3B%0A%20%20%20%20%20%20%20%20left%3A%200.0%25%3B%0A%20%20%20%20%20%20%20%20top%3A%200.0%25%3B%0A%20%20%20%20%20%20%20%20%7D%0A%20%20%20%20%3C/style%3E%0A%3C/head%3E%0A%3Cbody%3E%20%20%20%20%0A%20%20%20%20%0A%20%20%20%20%3Cdiv%20class%3D%22folium-map%22%20id%3D%22map_b7f0af205de3477ebb5692c8a709a5cd%22%20%3E%3C/div%3E%0A%3C/body%3E%0A%3Cscript%3E%20%20%20%20%0A%20%20%20%20%0A%20%20%20%20%0A%20%20%20%20%20%20%20%20var%20bounds%20%3D%20null%3B%0A%20%20%20%20%0A%0A%20%20%20%20var%20map_b7f0af205de3477ebb5692c8a709a5cd%20%3D%20L.map%28%0A%20%20%20%20%20%20%20%20%27map_b7f0af205de3477ebb5692c8a709a5cd%27%2C%20%7B%0A%20%20%20%20%20%20%20%20center%3A%20%5B-17.19111%2C%20-70.92896%5D%2C%0A%20%20%20%20%20%20%20%20zoom%3A%2014%2C%0A%20%20%20%20%20%20%20%20maxBounds%3A%20bounds%2C%0A%20%20%20%20%20%20%20%20layers%3A%20%5B%5D%2C%0A%20%20%20%20%20%20%20%20worldCopyJump%3A%20false%2C%0A%20%20%20%20%20%20%20%20crs%3A%20L.CRS.EPSG3857%2C%0A%20%20%20%20%20%20%20%20zoomControl%3A%20true%2C%0A%20%20%20%20%20%20%20%20%7D%29%3B%0A%0A%0A%20%20%20%20%0A%20%20%20%20var%20tile_layer_6be5752e20a04123be55009144c76ef2%20%3D%20L.tileLayer%28%0A%20%20%20%20%20%20%20%20%27https%3A//%7Bs%7D.tile.openstreetmap.org/%7Bz%7D/%7Bx%7D/%7By%7D.png%27%2C%0A%20%20%20%20%20%20%20%20%7B%0A%20%20%20%20%20%20%20%20%22attribution%22%3A%20null%2C%0A%20%20%20%20%20%20%20%20%22detectRetina%22%3A%20false%2C%0A%20%20%20%20%20%20%20%20%22maxNativeZoom%22%3A%2018%2C%0A%20%20%20%20%20%20%20%20%22maxZoom%22%3A%2018%2C%0A%20%20%20%20%20%20%20%20%22minZoom%22%3A%200%2C%0A%20%20%20%20%20%20%20%20%22noWrap%22%3A%20false%2C%0A%20%20%20%20%20%20%20%20%22opacity%22%3A%201%2C%0A%20%20%20%20%20%20%20%20%22subdomains%22%3A%20%22abc%22%2C%0A%20%20%20%20%20%20%20%20%22tms%22%3A%20false%0A%7D%29.addTo%28map_b7f0af205de3477ebb5692c8a709a5cd%29%3B%0A%20%20%20%20%0A%20%20%20%20%20%20%20%20var%20marker_a54ea21a189045a59ae8e192dccaa44f%20%3D%20L.marker%28%0A%20%20%20%20%20%20%20%20%20%20%20%20%5B-17.19202%2C%20-70.93874%5D%2C%0A%20%20%20%20%20%20%20%20%20%20%20%20%7B%0A%20%20%20%20%20%20%20%20%20%20%20%20%20%20%20%20icon%3A%20new%20L.Icon.Default%28%29%2C%0A%20%20%20%20%20%20%20%20%20%20%20%20%20%20%20%20%7D%0A%20%20%20%20%20%20%20%20%20%20%20%20%29.addTo%28map_b7f0af205de3477ebb5692c8a709a5cd%29%3B%0A%20%20%20%20%20%20%20%20%0A%20%20%20%20%0A%0A%20%20%20%20%20%20%20%20%20%20%20%20%20%20%20%20var%20icon_c94a0338164e4071a4399504220a0300%20%3D%20L.AwesomeMarkers.icon%28%7B%0A%20%20%20%20%20%20%20%20%20%20%20%20%20%20%20%20%20%20%20%20icon%3A%20%27ok-sign%27%2C%0A%20%20%20%20%20%20%20%20%20%20%20%20%20%20%20%20%20%20%20%20iconColor%3A%20%27white%27%2C%0A%20%20%20%20%20%20%20%20%20%20%20%20%20%20%20%20%20%20%20%20markerColor%3A%20%27blue%27%2C%0A%20%20%20%20%20%20%20%20%20%20%20%20%20%20%20%20%20%20%20%20prefix%3A%20%27glyphicon%27%2C%0A%20%20%20%20%20%20%20%20%20%20%20%20%20%20%20%20%20%20%20%20extraClasses%3A%20%27fa-rotate-0%27%0A%20%20%20%20%20%20%20%20%20%20%20%20%20%20%20%20%20%20%20%20%7D%29%3B%0A%20%20%20%20%20%20%20%20%20%20%20%20%20%20%20%20marker_a54ea21a189045a59ae8e192dccaa44f.setIcon%28icon_c94a0338164e4071a4399504220a0300%29%3B%0A%20%20%20%20%20%20%20%20%20%20%20%20%0A%20%20%20%20%0A%20%20%20%20%20%20%20%20%20%20%20%20var%20popup_74c4ef2ac2f44b47ae39c6dfcef41a9e%20%3D%20L.popup%28%7BmaxWidth%3A%20%27100%25%27%0A%20%20%20%20%20%20%20%20%20%20%20%20%0A%20%20%20%20%20%20%20%20%20%20%20%20%7D%29%3B%0A%0A%20%20%20%20%20%20%20%20%20%20%20%20%0A%20%20%20%20%20%20%20%20%20%20%20%20%20%20%20%20var%20html_8ecf78363ffa4e5b8b6df81693586afe%20%3D%20%24%28%60%3Cdiv%20id%3D%22html_8ecf78363ffa4e5b8b6df81693586afe%22%20style%3D%22width%3A%20100.0%25%3B%20height%3A%20100.0%25%3B%22%3EALEXANDER%20FLEMING%3C/div%3E%60%29%5B0%5D%3B%0A%20%20%20%20%20%20%20%20%20%20%20%20%20%20%20%20popup_74c4ef2ac2f44b47ae39c6dfcef41a9e.setContent%28html_8ecf78363ffa4e5b8b6df81693586afe%29%3B%0A%20%20%20%20%20%20%20%20%20%20%20%20%0A%0A%20%20%20%20%20%20%20%20%20%20%20%20marker_a54ea21a189045a59ae8e192dccaa44f.bindPopup%28popup_74c4ef2ac2f44b47ae39c6dfcef41a9e%29%0A%20%20%20%20%20%20%20%20%20%20%20%20%3B%0A%0A%20%20%20%20%20%20%20%20%20%20%20%20%0A%20%20%20%20%20%20%20%20%0A%20%20%20%20%0A%20%20%20%20%20%20%20%20var%20marker_71d35e3ee72f4e798cadab64084a8241%20%3D%20L.marker%28%0A%20%20%20%20%20%20%20%20%20%20%20%20%5B-17.191110000000002%2C%20-70.92896%5D%2C%0A%20%20%20%20%20%20%20%20%20%20%20%20%7B%0A%20%20%20%20%20%20%20%20%20%20%20%20%20%20%20%20icon%3A%20new%20L.Icon.Default%28%29%2C%0A%20%20%20%20%20%20%20%20%20%20%20%20%20%20%20%20%7D%0A%20%20%20%20%20%20%20%20%20%20%20%20%29.addTo%28map_b7f0af205de3477ebb5692c8a709a5cd%29%3B%0A%20%20%20%20%20%20%20%20%0A%20%20%20%20%0A%0A%20%20%20%20%20%20%20%20%20%20%20%20%20%20%20%20var%20icon_cdc84fb01c52411380479b67fc34ee6f%20%3D%20L.AwesomeMarkers.icon%28%7B%0A%20%20%20%20%20%20%20%20%20%20%20%20%20%20%20%20%20%20%20%20icon%3A%20%27ok-sign%27%2C%0A%20%20%20%20%20%20%20%20%20%20%20%20%20%20%20%20%20%20%20%20iconColor%3A%20%27white%27%2C%0A%20%20%20%20%20%20%20%20%20%20%20%20%20%20%20%20%20%20%20%20markerColor%3A%20%27blue%27%2C%0A%20%20%20%20%20%20%20%20%20%20%20%20%20%20%20%20%20%20%20%20prefix%3A%20%27glyphicon%27%2C%0A%20%20%20%20%20%20%20%20%20%20%20%20%20%20%20%20%20%20%20%20extraClasses%3A%20%27fa-rotate-0%27%0A%20%20%20%20%20%20%20%20%20%20%20%20%20%20%20%20%20%20%20%20%7D%29%3B%0A%20%20%20%20%20%20%20%20%20%20%20%20%20%20%20%20marker_71d35e3ee72f4e798cadab64084a8241.setIcon%28icon_cdc84fb01c52411380479b67fc34ee6f%29%3B%0A%20%20%20%20%20%20%20%20%20%20%20%20%0A%20%20%20%20%0A%20%20%20%20%20%20%20%20%20%20%20%20var%20popup_d506b9630d15446e88eb17b2d6c16a21%20%3D%20L.popup%28%7BmaxWidth%3A%20%27100%25%27%0A%20%20%20%20%20%20%20%20%20%20%20%20%0A%20%20%20%20%20%20%20%20%20%20%20%20%7D%29%3B%0A%0A%20%20%20%20%20%20%20%20%20%20%20%20%0A%20%20%20%20%20%20%20%20%20%20%20%20%20%20%20%20var%20html_26fee6a353fb457c9bada1185263aa97%20%3D%20%24%28%60%3Cdiv%20id%3D%22html_26fee6a353fb457c9bada1185263aa97%22%20style%3D%22width%3A%20100.0%25%3B%20height%3A%20100.0%25%3B%22%3EJUAN%20PABLO%20II%3C/div%3E%60%29%5B0%5D%3B%0A%20%20%20%20%20%20%20%20%20%20%20%20%20%20%20%20popup_d506b9630d15446e88eb17b2d6c16a21.setContent%28html_26fee6a353fb457c9bada1185263aa97%29%3B%0A%20%20%20%20%20%20%20%20%20%20%20%20%0A%0A%20%20%20%20%20%20%20%20%20%20%20%20marker_71d35e3ee72f4e798cadab64084a8241.bindPopup%28popup_d506b9630d15446e88eb17b2d6c16a21%29%0A%20%20%20%20%20%20%20%20%20%20%20%20%3B%0A%0A%20%20%20%20%20%20%20%20%20%20%20%20%0A%20%20%20%20%20%20%20%20%0A%20%20%20%20%0A%20%20%20%20%20%20%20%20var%20marker_fb8e0f3431c04aa2b94ae5a6549d2725%20%3D%20L.marker%28%0A%20%20%20%20%20%20%20%20%20%20%20%20%5B-17.19125%2C%20-70.93304%5D%2C%0A%20%20%20%20%20%20%20%20%20%20%20%20%7B%0A%20%20%20%20%20%20%20%20%20%20%20%20%20%20%20%20icon%3A%20new%20L.Icon.Default%28%29%2C%0A%20%20%20%20%20%20%20%20%20%20%20%20%20%20%20%20%7D%0A%20%20%20%20%20%20%20%20%20%20%20%20%29.addTo%28map_b7f0af205de3477ebb5692c8a709a5cd%29%3B%0A%20%20%20%20%20%20%20%20%0A%20%20%20%20%0A%0A%20%20%20%20%20%20%20%20%20%20%20%20%20%20%20%20var%20icon_292752897b424cf5ab78d0a67b3fd90d%20%3D%20L.AwesomeMarkers.icon%28%7B%0A%20%20%20%20%20%20%20%20%20%20%20%20%20%20%20%20%20%20%20%20icon%3A%20%27ok-sign%27%2C%0A%20%20%20%20%20%20%20%20%20%20%20%20%20%20%20%20%20%20%20%20iconColor%3A%20%27white%27%2C%0A%20%20%20%20%20%20%20%20%20%20%20%20%20%20%20%20%20%20%20%20markerColor%3A%20%27blue%27%2C%0A%20%20%20%20%20%20%20%20%20%20%20%20%20%20%20%20%20%20%20%20prefix%3A%20%27glyphicon%27%2C%0A%20%20%20%20%20%20%20%20%20%20%20%20%20%20%20%20%20%20%20%20extraClasses%3A%20%27fa-rotate-0%27%0A%20%20%20%20%20%20%20%20%20%20%20%20%20%20%20%20%20%20%20%20%7D%29%3B%0A%20%20%20%20%20%20%20%20%20%20%20%20%20%20%20%20marker_fb8e0f3431c04aa2b94ae5a6549d2725.setIcon%28icon_292752897b424cf5ab78d0a67b3fd90d%29%3B%0A%20%20%20%20%20%20%20%20%20%20%20%20%0A%20%20%20%20%0A%20%20%20%20%20%20%20%20%20%20%20%20var%20popup_50b3ab6e0bb94177b2dab9dbe2473632%20%3D%20L.popup%28%7BmaxWidth%3A%20%27100%25%27%0A%20%20%20%20%20%20%20%20%20%20%20%20%0A%20%20%20%20%20%20%20%20%20%20%20%20%7D%29%3B%0A%0A%20%20%20%20%20%20%20%20%20%20%20%20%0A%20%20%20%20%20%20%20%20%20%20%20%20%20%20%20%20var%20html_e77c4757ccab49d79eda5bb0700d270f%20%3D%20%24%28%60%3Cdiv%20id%3D%22html_e77c4757ccab49d79eda5bb0700d270f%22%20style%3D%22width%3A%20100.0%25%3B%20height%3A%20100.0%25%3B%22%3EBENJAMIN%20FRANKLIN%3C/div%3E%60%29%5B0%5D%3B%0A%20%20%20%20%20%20%20%20%20%20%20%20%20%20%20%20popup_50b3ab6e0bb94177b2dab9dbe2473632.setContent%28html_e77c4757ccab49d79eda5bb0700d270f%29%3B%0A%20%20%20%20%20%20%20%20%20%20%20%20%0A%0A%20%20%20%20%20%20%20%20%20%20%20%20marker_fb8e0f3431c04aa2b94ae5a6549d2725.bindPopup%28popup_50b3ab6e0bb94177b2dab9dbe2473632%29%0A%20%20%20%20%20%20%20%20%20%20%20%20%3B%0A%0A%20%20%20%20%20%20%20%20%20%20%20%20%0A%20%20%20%20%20%20%20%20%0A%20%20%20%20%0A%20%20%20%20%20%20%20%20var%20marker_77597110d84347ca9fecc7840084d355%20%3D%20L.marker%28%0A%20%20%20%20%20%20%20%20%20%20%20%20%5B-17.1908%2C%20-70.92845%5D%2C%0A%20%20%20%20%20%20%20%20%20%20%20%20%7B%0A%20%20%20%20%20%20%20%20%20%20%20%20%20%20%20%20icon%3A%20new%20L.Icon.Default%28%29%2C%0A%20%20%20%20%20%20%20%20%20%20%20%20%20%20%20%20%7D%0A%20%20%20%20%20%20%20%20%20%20%20%20%29.addTo%28map_b7f0af205de3477ebb5692c8a709a5cd%29%3B%0A%20%20%20%20%20%20%20%20%0A%20%20%20%20%0A%0A%20%20%20%20%20%20%20%20%20%20%20%20%20%20%20%20var%20icon_8fd48fb6dcaa40e78a9aa54564fe5478%20%3D%20L.AwesomeMarkers.icon%28%7B%0A%20%20%20%20%20%20%20%20%20%20%20%20%20%20%20%20%20%20%20%20icon%3A%20%27ok-sign%27%2C%0A%20%20%20%20%20%20%20%20%20%20%20%20%20%20%20%20%20%20%20%20iconColor%3A%20%27white%27%2C%0A%20%20%20%20%20%20%20%20%20%20%20%20%20%20%20%20%20%20%20%20markerColor%3A%20%27blue%27%2C%0A%20%20%20%20%20%20%20%20%20%20%20%20%20%20%20%20%20%20%20%20prefix%3A%20%27glyphicon%27%2C%0A%20%20%20%20%20%20%20%20%20%20%20%20%20%20%20%20%20%20%20%20extraClasses%3A%20%27fa-rotate-0%27%0A%20%20%20%20%20%20%20%20%20%20%20%20%20%20%20%20%20%20%20%20%7D%29%3B%0A%20%20%20%20%20%20%20%20%20%20%20%20%20%20%20%20marker_77597110d84347ca9fecc7840084d355.setIcon%28icon_8fd48fb6dcaa40e78a9aa54564fe5478%29%3B%0A%20%20%20%20%20%20%20%20%20%20%20%20%0A%20%20%20%20%0A%20%20%20%20%20%20%20%20%20%20%20%20var%20popup_e942940f71b84ff399f0c718c7813d26%20%3D%20L.popup%28%7BmaxWidth%3A%20%27100%25%27%0A%20%20%20%20%20%20%20%20%20%20%20%20%0A%20%20%20%20%20%20%20%20%20%20%20%20%7D%29%3B%0A%0A%20%20%20%20%20%20%20%20%20%20%20%20%0A%20%20%20%20%20%20%20%20%20%20%20%20%20%20%20%20var%20html_4f85db3d10024f2e8880e8228259554e%20%3D%20%24%28%60%3Cdiv%20id%3D%22html_4f85db3d10024f2e8880e8228259554e%22%20style%3D%22width%3A%20100.0%25%3B%20height%3A%20100.0%25%3B%22%3EBILING%C3%9CE%20MAX%20UHLE%3C/div%3E%60%29%5B0%5D%3B%0A%20%20%20%20%20%20%20%20%20%20%20%20%20%20%20%20popup_e942940f71b84ff399f0c718c7813d26.setContent%28html_4f85db3d10024f2e8880e8228259554e%29%3B%0A%20%20%20%20%20%20%20%20%20%20%20%20%0A%0A%20%20%20%20%20%20%20%20%20%20%20%20marker_77597110d84347ca9fecc7840084d355.bindPopup%28popup_e942940f71b84ff399f0c718c7813d26%29%0A%20%20%20%20%20%20%20%20%20%20%20%20%3B%0A%0A%20%20%20%20%20%20%20%20%20%20%20%20%0A%20%20%20%20%20%20%20%20%0A%20%20%20%20%0A%20%20%20%20%20%20%20%20var%20marker_baeb99de3aee41d78c933dcadf4b7489%20%3D%20L.marker%28%0A%20%20%20%20%20%20%20%20%20%20%20%20%5B-17.19325%2C%20-70.93365%5D%2C%0A%20%20%20%20%20%20%20%20%20%20%20%20%7B%0A%20%20%20%20%20%20%20%20%20%20%20%20%20%20%20%20icon%3A%20new%20L.Icon.Default%28%29%2C%0A%20%20%20%20%20%20%20%20%20%20%20%20%20%20%20%20%7D%0A%20%20%20%20%20%20%20%20%20%20%20%20%29.addTo%28map_b7f0af205de3477ebb5692c8a709a5cd%29%3B%0A%20%20%20%20%20%20%20%20%0A%20%20%20%20%0A%0A%20%20%20%20%20%20%20%20%20%20%20%20%20%20%20%20var%20icon_fc865546d8c048beaf63c20d7c196df7%20%3D%20L.AwesomeMarkers.icon%28%7B%0A%20%20%20%20%20%20%20%20%20%20%20%20%20%20%20%20%20%20%20%20icon%3A%20%27ok-sign%27%2C%0A%20%20%20%20%20%20%20%20%20%20%20%20%20%20%20%20%20%20%20%20iconColor%3A%20%27white%27%2C%0A%20%20%20%20%20%20%20%20%20%20%20%20%20%20%20%20%20%20%20%20markerColor%3A%20%27blue%27%2C%0A%20%20%20%20%20%20%20%20%20%20%20%20%20%20%20%20%20%20%20%20prefix%3A%20%27glyphicon%27%2C%0A%20%20%20%20%20%20%20%20%20%20%20%20%20%20%20%20%20%20%20%20extraClasses%3A%20%27fa-rotate-0%27%0A%20%20%20%20%20%20%20%20%20%20%20%20%20%20%20%20%20%20%20%20%7D%29%3B%0A%20%20%20%20%20%20%20%20%20%20%20%20%20%20%20%20marker_baeb99de3aee41d78c933dcadf4b7489.setIcon%28icon_fc865546d8c048beaf63c20d7c196df7%29%3B%0A%20%20%20%20%20%20%20%20%20%20%20%20%0A%20%20%20%20%0A%20%20%20%20%20%20%20%20%20%20%20%20var%20popup_75c22726f5654096a6ff69018a85b994%20%3D%20L.popup%28%7BmaxWidth%3A%20%27100%25%27%0A%20%20%20%20%20%20%20%20%20%20%20%20%0A%20%20%20%20%20%20%20%20%20%20%20%20%7D%29%3B%0A%0A%20%20%20%20%20%20%20%20%20%20%20%20%0A%20%20%20%20%20%20%20%20%20%20%20%20%20%20%20%20var%20html_6c924d90518446dab048e9a1c8ffc4c0%20%3D%20%24%28%60%3Cdiv%20id%3D%22html_6c924d90518446dab048e9a1c8ffc4c0%22%20style%3D%22width%3A%20100.0%25%3B%20height%3A%20100.0%25%3B%22%3ECEBA%20-%20LORD%20BYRON%3C/div%3E%60%29%5B0%5D%3B%0A%20%20%20%20%20%20%20%20%20%20%20%20%20%20%20%20popup_75c22726f5654096a6ff69018a85b994.setContent%28html_6c924d90518446dab048e9a1c8ffc4c0%29%3B%0A%20%20%20%20%20%20%20%20%20%20%20%20%0A%0A%20%20%20%20%20%20%20%20%20%20%20%20marker_baeb99de3aee41d78c933dcadf4b7489.bindPopup%28popup_75c22726f5654096a6ff69018a85b994%29%0A%20%20%20%20%20%20%20%20%20%20%20%20%3B%0A%0A%20%20%20%20%20%20%20%20%20%20%20%20%0A%20%20%20%20%20%20%20%20%0A%20%20%20%20%0A%20%20%20%20%20%20%20%20var%20marker_e9c66eeb4dae447b8a754bcddddb21d4%20%3D%20L.marker%28%0A%20%20%20%20%20%20%20%20%20%20%20%20%5B-17.19657%2C%20-70.93493000000001%5D%2C%0A%20%20%20%20%20%20%20%20%20%20%20%20%7B%0A%20%20%20%20%20%20%20%20%20%20%20%20%20%20%20%20icon%3A%20new%20L.Icon.Default%28%29%2C%0A%20%20%20%20%20%20%20%20%20%20%20%20%20%20%20%20%7D%0A%20%20%20%20%20%20%20%20%20%20%20%20%29.addTo%28map_b7f0af205de3477ebb5692c8a709a5cd%29%3B%0A%20%20%20%20%20%20%20%20%0A%20%20%20%20%0A%0A%20%20%20%20%20%20%20%20%20%20%20%20%20%20%20%20var%20icon_bc27f13a0b5641e29cbf995c9344cbde%20%3D%20L.AwesomeMarkers.icon%28%7B%0A%20%20%20%20%20%20%20%20%20%20%20%20%20%20%20%20%20%20%20%20icon%3A%20%27ok-sign%27%2C%0A%20%20%20%20%20%20%20%20%20%20%20%20%20%20%20%20%20%20%20%20iconColor%3A%20%27white%27%2C%0A%20%20%20%20%20%20%20%20%20%20%20%20%20%20%20%20%20%20%20%20markerColor%3A%20%27blue%27%2C%0A%20%20%20%20%20%20%20%20%20%20%20%20%20%20%20%20%20%20%20%20prefix%3A%20%27glyphicon%27%2C%0A%20%20%20%20%20%20%20%20%20%20%20%20%20%20%20%20%20%20%20%20extraClasses%3A%20%27fa-rotate-0%27%0A%20%20%20%20%20%20%20%20%20%20%20%20%20%20%20%20%20%20%20%20%7D%29%3B%0A%20%20%20%20%20%20%20%20%20%20%20%20%20%20%20%20marker_e9c66eeb4dae447b8a754bcddddb21d4.setIcon%28icon_bc27f13a0b5641e29cbf995c9344cbde%29%3B%0A%20%20%20%20%20%20%20%20%20%20%20%20%0A%20%20%20%20%0A%20%20%20%20%20%20%20%20%20%20%20%20var%20popup_4167f4be94ec4d12b1a0ef24337b05a6%20%3D%20L.popup%28%7BmaxWidth%3A%20%27100%25%27%0A%20%20%20%20%20%20%20%20%20%20%20%20%0A%20%20%20%20%20%20%20%20%20%20%20%20%7D%29%3B%0A%0A%20%20%20%20%20%20%20%20%20%20%20%20%0A%20%20%20%20%20%20%20%20%20%20%20%20%20%20%20%20var%20html_3a28df0340564b5293ffd8df361656c3%20%3D%20%24%28%60%3Cdiv%20id%3D%22html_3a28df0340564b5293ffd8df361656c3%22%20style%3D%22width%3A%20100.0%25%3B%20height%3A%20100.0%25%3B%22%3ECOLEGIO%20ADVENTISTA%20FERNANDO%20STAHL%3C/div%3E%60%29%5B0%5D%3B%0A%20%20%20%20%20%20%20%20%20%20%20%20%20%20%20%20popup_4167f4be94ec4d12b1a0ef24337b05a6.setContent%28html_3a28df0340564b5293ffd8df361656c3%29%3B%0A%20%20%20%20%20%20%20%20%20%20%20%20%0A%0A%20%20%20%20%20%20%20%20%20%20%20%20marker_e9c66eeb4dae447b8a754bcddddb21d4.bindPopup%28popup_4167f4be94ec4d12b1a0ef24337b05a6%29%0A%20%20%20%20%20%20%20%20%20%20%20%20%3B%0A%0A%20%20%20%20%20%20%20%20%20%20%20%20%0A%20%20%20%20%20%20%20%20%0A%20%20%20%20%0A%20%20%20%20%20%20%20%20var%20marker_2dfc3954eee245bb8939f6d05410ddfa%20%3D%20L.marker%28%0A%20%20%20%20%20%20%20%20%20%20%20%20%5B-17.18723%2C%20-70.92546%5D%2C%0A%20%20%20%20%20%20%20%20%20%20%20%20%7B%0A%20%20%20%20%20%20%20%20%20%20%20%20%20%20%20%20icon%3A%20new%20L.Icon.Default%28%29%2C%0A%20%20%20%20%20%20%20%20%20%20%20%20%20%20%20%20%7D%0A%20%20%20%20%20%20%20%20%20%20%20%20%29.addTo%28map_b7f0af205de3477ebb5692c8a709a5cd%29%3B%0A%20%20%20%20%20%20%20%20%0A%20%20%20%20%0A%0A%20%20%20%20%20%20%20%20%20%20%20%20%20%20%20%20var%20icon_dd3a5daaa80a4010809cf7ed097e5a7c%20%3D%20L.AwesomeMarkers.icon%28%7B%0A%20%20%20%20%20%20%20%20%20%20%20%20%20%20%20%20%20%20%20%20icon%3A%20%27ok-sign%27%2C%0A%20%20%20%20%20%20%20%20%20%20%20%20%20%20%20%20%20%20%20%20iconColor%3A%20%27white%27%2C%0A%20%20%20%20%20%20%20%20%20%20%20%20%20%20%20%20%20%20%20%20markerColor%3A%20%27blue%27%2C%0A%20%20%20%20%20%20%20%20%20%20%20%20%20%20%20%20%20%20%20%20prefix%3A%20%27glyphicon%27%2C%0A%20%20%20%20%20%20%20%20%20%20%20%20%20%20%20%20%20%20%20%20extraClasses%3A%20%27fa-rotate-0%27%0A%20%20%20%20%20%20%20%20%20%20%20%20%20%20%20%20%20%20%20%20%7D%29%3B%0A%20%20%20%20%20%20%20%20%20%20%20%20%20%20%20%20marker_2dfc3954eee245bb8939f6d05410ddfa.setIcon%28icon_dd3a5daaa80a4010809cf7ed097e5a7c%29%3B%0A%20%20%20%20%20%20%20%20%20%20%20%20%0A%20%20%20%20%0A%20%20%20%20%20%20%20%20%20%20%20%20var%20popup_59bdbcdad0ca4ad8abc648ce069630fe%20%3D%20L.popup%28%7BmaxWidth%3A%20%27100%25%27%0A%20%20%20%20%20%20%20%20%20%20%20%20%0A%20%20%20%20%20%20%20%20%20%20%20%20%7D%29%3B%0A%0A%20%20%20%20%20%20%20%20%20%20%20%20%0A%20%20%20%20%20%20%20%20%20%20%20%20%20%20%20%20var%20html_3c33ed62320246ecad8786641af991fd%20%3D%20%24%28%60%3Cdiv%20id%3D%22html_3c33ed62320246ecad8786641af991fd%22%20style%3D%22width%3A%20100.0%25%3B%20height%3A%20100.0%25%3B%22%3EEMMI%20PIKLER%3C/div%3E%60%29%5B0%5D%3B%0A%20%20%20%20%20%20%20%20%20%20%20%20%20%20%20%20popup_59bdbcdad0ca4ad8abc648ce069630fe.setContent%28html_3c33ed62320246ecad8786641af991fd%29%3B%0A%20%20%20%20%20%20%20%20%20%20%20%20%0A%0A%20%20%20%20%20%20%20%20%20%20%20%20marker_2dfc3954eee245bb8939f6d05410ddfa.bindPopup%28popup_59bdbcdad0ca4ad8abc648ce069630fe%29%0A%20%20%20%20%20%20%20%20%20%20%20%20%3B%0A%0A%20%20%20%20%20%20%20%20%20%20%20%20%0A%20%20%20%20%20%20%20%20%0A%20%20%20%20%0A%20%20%20%20%20%20%20%20var%20marker_b212bc9c8b714a838cbf9b5d9ed9279d%20%3D%20L.marker%28%0A%20%20%20%20%20%20%20%20%20%20%20%20%5B-17.19353%2C%20-70.93808%5D%2C%0A%20%20%20%20%20%20%20%20%20%20%20%20%7B%0A%20%20%20%20%20%20%20%20%20%20%20%20%20%20%20%20icon%3A%20new%20L.Icon.Default%28%29%2C%0A%20%20%20%20%20%20%20%20%20%20%20%20%20%20%20%20%7D%0A%20%20%20%20%20%20%20%20%20%20%20%20%29.addTo%28map_b7f0af205de3477ebb5692c8a709a5cd%29%3B%0A%20%20%20%20%20%20%20%20%0A%20%20%20%20%0A%0A%20%20%20%20%20%20%20%20%20%20%20%20%20%20%20%20var%20icon_05f62095aaa044e792ecf71e7548dd2b%20%3D%20L.AwesomeMarkers.icon%28%7B%0A%20%20%20%20%20%20%20%20%20%20%20%20%20%20%20%20%20%20%20%20icon%3A%20%27ok-sign%27%2C%0A%20%20%20%20%20%20%20%20%20%20%20%20%20%20%20%20%20%20%20%20iconColor%3A%20%27white%27%2C%0A%20%20%20%20%20%20%20%20%20%20%20%20%20%20%20%20%20%20%20%20markerColor%3A%20%27blue%27%2C%0A%20%20%20%20%20%20%20%20%20%20%20%20%20%20%20%20%20%20%20%20prefix%3A%20%27glyphicon%27%2C%0A%20%20%20%20%20%20%20%20%20%20%20%20%20%20%20%20%20%20%20%20extraClasses%3A%20%27fa-rotate-0%27%0A%20%20%20%20%20%20%20%20%20%20%20%20%20%20%20%20%20%20%20%20%7D%29%3B%0A%20%20%20%20%20%20%20%20%20%20%20%20%20%20%20%20marker_b212bc9c8b714a838cbf9b5d9ed9279d.setIcon%28icon_05f62095aaa044e792ecf71e7548dd2b%29%3B%0A%20%20%20%20%20%20%20%20%20%20%20%20%0A%20%20%20%20%0A%20%20%20%20%20%20%20%20%20%20%20%20var%20popup_4e99b51c1d6341e498f68a37fe5c8977%20%3D%20L.popup%28%7BmaxWidth%3A%20%27100%25%27%0A%20%20%20%20%20%20%20%20%20%20%20%20%0A%20%20%20%20%20%20%20%20%20%20%20%20%7D%29%3B%0A%0A%20%20%20%20%20%20%20%20%20%20%20%20%0A%20%20%20%20%20%20%20%20%20%20%20%20%20%20%20%20var%20html_5bdf1741b4f7428da65539c1405cce2f%20%3D%20%24%28%60%3Cdiv%20id%3D%22html_5bdf1741b4f7428da65539c1405cce2f%22%20style%3D%22width%3A%20100.0%25%3B%20height%3A%20100.0%25%3B%22%3EFLAVISUR%3C/div%3E%60%29%5B0%5D%3B%0A%20%20%20%20%20%20%20%20%20%20%20%20%20%20%20%20popup_4e99b51c1d6341e498f68a37fe5c8977.setContent%28html_5bdf1741b4f7428da65539c1405cce2f%29%3B%0A%20%20%20%20%20%20%20%20%20%20%20%20%0A%0A%20%20%20%20%20%20%20%20%20%20%20%20marker_b212bc9c8b714a838cbf9b5d9ed9279d.bindPopup%28popup_4e99b51c1d6341e498f68a37fe5c8977%29%0A%20%20%20%20%20%20%20%20%20%20%20%20%3B%0A%0A%20%20%20%20%20%20%20%20%20%20%20%20%0A%20%20%20%20%20%20%20%20%0A%20%20%20%20%0A%20%20%20%20%20%20%20%20var%20marker_3049d8994dd5485ab76c7ea1e1c6b9cd%20%3D%20L.marker%28%0A%20%20%20%20%20%20%20%20%20%20%20%20%5B-17.189020000000003%2C%20-70.94032%5D%2C%0A%20%20%20%20%20%20%20%20%20%20%20%20%7B%0A%20%20%20%20%20%20%20%20%20%20%20%20%20%20%20%20icon%3A%20new%20L.Icon.Default%28%29%2C%0A%20%20%20%20%20%20%20%20%20%20%20%20%20%20%20%20%7D%0A%20%20%20%20%20%20%20%20%20%20%20%20%29.addTo%28map_b7f0af205de3477ebb5692c8a709a5cd%29%3B%0A%20%20%20%20%20%20%20%20%0A%20%20%20%20%0A%0A%20%20%20%20%20%20%20%20%20%20%20%20%20%20%20%20var%20icon_2e58d329e15a4476a483b1f8051779b5%20%3D%20L.AwesomeMarkers.icon%28%7B%0A%20%20%20%20%20%20%20%20%20%20%20%20%20%20%20%20%20%20%20%20icon%3A%20%27ok-sign%27%2C%0A%20%20%20%20%20%20%20%20%20%20%20%20%20%20%20%20%20%20%20%20iconColor%3A%20%27white%27%2C%0A%20%20%20%20%20%20%20%20%20%20%20%20%20%20%20%20%20%20%20%20markerColor%3A%20%27blue%27%2C%0A%20%20%20%20%20%20%20%20%20%20%20%20%20%20%20%20%20%20%20%20prefix%3A%20%27glyphicon%27%2C%0A%20%20%20%20%20%20%20%20%20%20%20%20%20%20%20%20%20%20%20%20extraClasses%3A%20%27fa-rotate-0%27%0A%20%20%20%20%20%20%20%20%20%20%20%20%20%20%20%20%20%20%20%20%7D%29%3B%0A%20%20%20%20%20%20%20%20%20%20%20%20%20%20%20%20marker_3049d8994dd5485ab76c7ea1e1c6b9cd.setIcon%28icon_2e58d329e15a4476a483b1f8051779b5%29%3B%0A%20%20%20%20%20%20%20%20%20%20%20%20%0A%20%20%20%20%0A%20%20%20%20%20%20%20%20%20%20%20%20var%20popup_cb1c6f228bce43b19d6d9a36f610918d%20%3D%20L.popup%28%7BmaxWidth%3A%20%27100%25%27%0A%20%20%20%20%20%20%20%20%20%20%20%20%0A%20%20%20%20%20%20%20%20%20%20%20%20%7D%29%3B%0A%0A%20%20%20%20%20%20%20%20%20%20%20%20%0A%20%20%20%20%20%20%20%20%20%20%20%20%20%20%20%20var%20html_7824f7f2d8eb42f2a1a1e48fb99842b4%20%3D%20%24%28%60%3Cdiv%20id%3D%22html_7824f7f2d8eb42f2a1a1e48fb99842b4%22%20style%3D%22width%3A%20100.0%25%3B%20height%3A%20100.0%25%3B%22%3EFRANCISCO%20FAHLMAN%20SELINGER%3C/div%3E%60%29%5B0%5D%3B%0A%20%20%20%20%20%20%20%20%20%20%20%20%20%20%20%20popup_cb1c6f228bce43b19d6d9a36f610918d.setContent%28html_7824f7f2d8eb42f2a1a1e48fb99842b4%29%3B%0A%20%20%20%20%20%20%20%20%20%20%20%20%0A%0A%20%20%20%20%20%20%20%20%20%20%20%20marker_3049d8994dd5485ab76c7ea1e1c6b9cd.bindPopup%28popup_cb1c6f228bce43b19d6d9a36f610918d%29%0A%20%20%20%20%20%20%20%20%20%20%20%20%3B%0A%0A%20%20%20%20%20%20%20%20%20%20%20%20%0A%20%20%20%20%20%20%20%20%0A%20%20%20%20%0A%20%20%20%20%20%20%20%20var%20marker_82f11ca7dcbd4ea8ad8ea23634a509ce%20%3D%20L.marker%28%0A%20%20%20%20%20%20%20%20%20%20%20%20%5B-17.189420000000002%2C%20-70.93798000000001%5D%2C%0A%20%20%20%20%20%20%20%20%20%20%20%20%7B%0A%20%20%20%20%20%20%20%20%20%20%20%20%20%20%20%20icon%3A%20new%20L.Icon.Default%28%29%2C%0A%20%20%20%20%20%20%20%20%20%20%20%20%20%20%20%20%7D%0A%20%20%20%20%20%20%20%20%20%20%20%20%29.addTo%28map_b7f0af205de3477ebb5692c8a709a5cd%29%3B%0A%20%20%20%20%20%20%20%20%0A%20%20%20%20%0A%0A%20%20%20%20%20%20%20%20%20%20%20%20%20%20%20%20var%20icon_79dfb0e776824d8183eea5889ac2d167%20%3D%20L.AwesomeMarkers.icon%28%7B%0A%20%20%20%20%20%20%20%20%20%20%20%20%20%20%20%20%20%20%20%20icon%3A%20%27ok-sign%27%2C%0A%20%20%20%20%20%20%20%20%20%20%20%20%20%20%20%20%20%20%20%20iconColor%3A%20%27white%27%2C%0A%20%20%20%20%20%20%20%20%20%20%20%20%20%20%20%20%20%20%20%20markerColor%3A%20%27blue%27%2C%0A%20%20%20%20%20%20%20%20%20%20%20%20%20%20%20%20%20%20%20%20prefix%3A%20%27glyphicon%27%2C%0A%20%20%20%20%20%20%20%20%20%20%20%20%20%20%20%20%20%20%20%20extraClasses%3A%20%27fa-rotate-0%27%0A%20%20%20%20%20%20%20%20%20%20%20%20%20%20%20%20%20%20%20%20%7D%29%3B%0A%20%20%20%20%20%20%20%20%20%20%20%20%20%20%20%20marker_82f11ca7dcbd4ea8ad8ea23634a509ce.setIcon%28icon_79dfb0e776824d8183eea5889ac2d167%29%3B%0A%20%20%20%20%20%20%20%20%20%20%20%20%0A%20%20%20%20%0A%20%20%20%20%20%20%20%20%20%20%20%20var%20popup_e91ede5e9b054bb4ab01a1549423f140%20%3D%20L.popup%28%7BmaxWidth%3A%20%27100%25%27%0A%20%20%20%20%20%20%20%20%20%20%20%20%0A%20%20%20%20%20%20%20%20%20%20%20%20%7D%29%3B%0A%0A%20%20%20%20%20%20%20%20%20%20%20%20%0A%20%20%20%20%20%20%20%20%20%20%20%20%20%20%20%20var%20html_dc4f2d8c3fa3447e8a59d79091654930%20%3D%20%24%28%60%3Cdiv%20id%3D%22html_dc4f2d8c3fa3447e8a59d79091654930%22%20style%3D%22width%3A%20100.0%25%3B%20height%3A%20100.0%25%3B%22%3EHOPE%20S%20SCHOOL%3C/div%3E%60%29%5B0%5D%3B%0A%20%20%20%20%20%20%20%20%20%20%20%20%20%20%20%20popup_e91ede5e9b054bb4ab01a1549423f140.setContent%28html_dc4f2d8c3fa3447e8a59d79091654930%29%3B%0A%20%20%20%20%20%20%20%20%20%20%20%20%0A%0A%20%20%20%20%20%20%20%20%20%20%20%20marker_82f11ca7dcbd4ea8ad8ea23634a509ce.bindPopup%28popup_e91ede5e9b054bb4ab01a1549423f140%29%0A%20%20%20%20%20%20%20%20%20%20%20%20%3B%0A%0A%20%20%20%20%20%20%20%20%20%20%20%20%0A%20%20%20%20%20%20%20%20%0A%20%20%20%20%0A%20%20%20%20%20%20%20%20var%20marker_68aec04895144da69ece6ecfbc6707e7%20%3D%20L.marker%28%0A%20%20%20%20%20%20%20%20%20%20%20%20%5B-17.188229999999997%2C%20-70.93521%5D%2C%0A%20%20%20%20%20%20%20%20%20%20%20%20%7B%0A%20%20%20%20%20%20%20%20%20%20%20%20%20%20%20%20icon%3A%20new%20L.Icon.Default%28%29%2C%0A%20%20%20%20%20%20%20%20%20%20%20%20%20%20%20%20%7D%0A%20%20%20%20%20%20%20%20%20%20%20%20%29.addTo%28map_b7f0af205de3477ebb5692c8a709a5cd%29%3B%0A%20%20%20%20%20%20%20%20%0A%20%20%20%20%0A%0A%20%20%20%20%20%20%20%20%20%20%20%20%20%20%20%20var%20icon_4b21737bd00e4efba87c88bb27f15ef8%20%3D%20L.AwesomeMarkers.icon%28%7B%0A%20%20%20%20%20%20%20%20%20%20%20%20%20%20%20%20%20%20%20%20icon%3A%20%27ok-sign%27%2C%0A%20%20%20%20%20%20%20%20%20%20%20%20%20%20%20%20%20%20%20%20iconColor%3A%20%27white%27%2C%0A%20%20%20%20%20%20%20%20%20%20%20%20%20%20%20%20%20%20%20%20markerColor%3A%20%27blue%27%2C%0A%20%20%20%20%20%20%20%20%20%20%20%20%20%20%20%20%20%20%20%20prefix%3A%20%27glyphicon%27%2C%0A%20%20%20%20%20%20%20%20%20%20%20%20%20%20%20%20%20%20%20%20extraClasses%3A%20%27fa-rotate-0%27%0A%20%20%20%20%20%20%20%20%20%20%20%20%20%20%20%20%20%20%20%20%7D%29%3B%0A%20%20%20%20%20%20%20%20%20%20%20%20%20%20%20%20marker_68aec04895144da69ece6ecfbc6707e7.setIcon%28icon_4b21737bd00e4efba87c88bb27f15ef8%29%3B%0A%20%20%20%20%20%20%20%20%20%20%20%20%0A%20%20%20%20%0A%20%20%20%20%20%20%20%20%20%20%20%20var%20popup_9fc8900092374844884e2503e4873964%20%3D%20L.popup%28%7BmaxWidth%3A%20%27100%25%27%0A%20%20%20%20%20%20%20%20%20%20%20%20%0A%20%20%20%20%20%20%20%20%20%20%20%20%7D%29%3B%0A%0A%20%20%20%20%20%20%20%20%20%20%20%20%0A%20%20%20%20%20%20%20%20%20%20%20%20%20%20%20%20var%20html_158f6c00d1a54f3d8b44c04c2648011c%20%3D%20%24%28%60%3Cdiv%20id%3D%22html_158f6c00d1a54f3d8b44c04c2648011c%22%20style%3D%22width%3A%20100.0%25%3B%20height%3A%20100.0%25%3B%22%3EINNOVA%20SCHOOLS%20%3C/div%3E%60%29%5B0%5D%3B%0A%20%20%20%20%20%20%20%20%20%20%20%20%20%20%20%20popup_9fc8900092374844884e2503e4873964.setContent%28html_158f6c00d1a54f3d8b44c04c2648011c%29%3B%0A%20%20%20%20%20%20%20%20%20%20%20%20%0A%0A%20%20%20%20%20%20%20%20%20%20%20%20marker_68aec04895144da69ece6ecfbc6707e7.bindPopup%28popup_9fc8900092374844884e2503e4873964%29%0A%20%20%20%20%20%20%20%20%20%20%20%20%3B%0A%0A%20%20%20%20%20%20%20%20%20%20%20%20%0A%20%20%20%20%20%20%20%20%0A%20%20%20%20%0A%20%20%20%20%20%20%20%20var%20marker_baa25f471bd54d80bfe3da9e6a0e2fae%20%3D%20L.marker%28%0A%20%20%20%20%20%20%20%20%20%20%20%20%5B-17.1904%2C%20-70.93139000000001%5D%2C%0A%20%20%20%20%20%20%20%20%20%20%20%20%7B%0A%20%20%20%20%20%20%20%20%20%20%20%20%20%20%20%20icon%3A%20new%20L.Icon.Default%28%29%2C%0A%20%20%20%20%20%20%20%20%20%20%20%20%20%20%20%20%7D%0A%20%20%20%20%20%20%20%20%20%20%20%20%29.addTo%28map_b7f0af205de3477ebb5692c8a709a5cd%29%3B%0A%20%20%20%20%20%20%20%20%0A%20%20%20%20%0A%0A%20%20%20%20%20%20%20%20%20%20%20%20%20%20%20%20var%20icon_7413f8e7fe68425db8877fc0e7b30c9c%20%3D%20L.AwesomeMarkers.icon%28%7B%0A%20%20%20%20%20%20%20%20%20%20%20%20%20%20%20%20%20%20%20%20icon%3A%20%27ok-sign%27%2C%0A%20%20%20%20%20%20%20%20%20%20%20%20%20%20%20%20%20%20%20%20iconColor%3A%20%27white%27%2C%0A%20%20%20%20%20%20%20%20%20%20%20%20%20%20%20%20%20%20%20%20markerColor%3A%20%27blue%27%2C%0A%20%20%20%20%20%20%20%20%20%20%20%20%20%20%20%20%20%20%20%20prefix%3A%20%27glyphicon%27%2C%0A%20%20%20%20%20%20%20%20%20%20%20%20%20%20%20%20%20%20%20%20extraClasses%3A%20%27fa-rotate-0%27%0A%20%20%20%20%20%20%20%20%20%20%20%20%20%20%20%20%20%20%20%20%7D%29%3B%0A%20%20%20%20%20%20%20%20%20%20%20%20%20%20%20%20marker_baa25f471bd54d80bfe3da9e6a0e2fae.setIcon%28icon_7413f8e7fe68425db8877fc0e7b30c9c%29%3B%0A%20%20%20%20%20%20%20%20%20%20%20%20%0A%20%20%20%20%0A%20%20%20%20%20%20%20%20%20%20%20%20var%20popup_d016c1460c3640c39c18cf3f45e41918%20%3D%20L.popup%28%7BmaxWidth%3A%20%27100%25%27%0A%20%20%20%20%20%20%20%20%20%20%20%20%0A%20%20%20%20%20%20%20%20%20%20%20%20%7D%29%3B%0A%0A%20%20%20%20%20%20%20%20%20%20%20%20%0A%20%20%20%20%20%20%20%20%20%20%20%20%20%20%20%20var%20html_2aae8274f93345eaa89cbf3e5c73f13f%20%3D%20%24%28%60%3Cdiv%20id%3D%22html_2aae8274f93345eaa89cbf3e5c73f13f%22%20style%3D%22width%3A%20100.0%25%3B%20height%3A%20100.0%25%3B%22%3EJUAN%20XXIII%3C/div%3E%60%29%5B0%5D%3B%0A%20%20%20%20%20%20%20%20%20%20%20%20%20%20%20%20popup_d016c1460c3640c39c18cf3f45e41918.setContent%28html_2aae8274f93345eaa89cbf3e5c73f13f%29%3B%0A%20%20%20%20%20%20%20%20%20%20%20%20%0A%0A%20%20%20%20%20%20%20%20%20%20%20%20marker_baa25f471bd54d80bfe3da9e6a0e2fae.bindPopup%28popup_d016c1460c3640c39c18cf3f45e41918%29%0A%20%20%20%20%20%20%20%20%20%20%20%20%3B%0A%0A%20%20%20%20%20%20%20%20%20%20%20%20%0A%20%20%20%20%20%20%20%20%0A%20%20%20%20%0A%20%20%20%20%20%20%20%20var%20marker_cfaf0adb99ef424c8f33208ae4e6edbc%20%3D%20L.marker%28%0A%20%20%20%20%20%20%20%20%20%20%20%20%5B-17.188679999999998%2C%20-70.9282%5D%2C%0A%20%20%20%20%20%20%20%20%20%20%20%20%7B%0A%20%20%20%20%20%20%20%20%20%20%20%20%20%20%20%20icon%3A%20new%20L.Icon.Default%28%29%2C%0A%20%20%20%20%20%20%20%20%20%20%20%20%20%20%20%20%7D%0A%20%20%20%20%20%20%20%20%20%20%20%20%29.addTo%28map_b7f0af205de3477ebb5692c8a709a5cd%29%3B%0A%20%20%20%20%20%20%20%20%0A%20%20%20%20%0A%0A%20%20%20%20%20%20%20%20%20%20%20%20%20%20%20%20var%20icon_937c102abf3248bdbac5827947541209%20%3D%20L.AwesomeMarkers.icon%28%7B%0A%20%20%20%20%20%20%20%20%20%20%20%20%20%20%20%20%20%20%20%20icon%3A%20%27ok-sign%27%2C%0A%20%20%20%20%20%20%20%20%20%20%20%20%20%20%20%20%20%20%20%20iconColor%3A%20%27white%27%2C%0A%20%20%20%20%20%20%20%20%20%20%20%20%20%20%20%20%20%20%20%20markerColor%3A%20%27blue%27%2C%0A%20%20%20%20%20%20%20%20%20%20%20%20%20%20%20%20%20%20%20%20prefix%3A%20%27glyphicon%27%2C%0A%20%20%20%20%20%20%20%20%20%20%20%20%20%20%20%20%20%20%20%20extraClasses%3A%20%27fa-rotate-0%27%0A%20%20%20%20%20%20%20%20%20%20%20%20%20%20%20%20%20%20%20%20%7D%29%3B%0A%20%20%20%20%20%20%20%20%20%20%20%20%20%20%20%20marker_cfaf0adb99ef424c8f33208ae4e6edbc.setIcon%28icon_937c102abf3248bdbac5827947541209%29%3B%0A%20%20%20%20%20%20%20%20%20%20%20%20%0A%20%20%20%20%0A%20%20%20%20%20%20%20%20%20%20%20%20var%20popup_07999e8be823448f82a4404647ae3584%20%3D%20L.popup%28%7BmaxWidth%3A%20%27100%25%27%0A%20%20%20%20%20%20%20%20%20%20%20%20%0A%20%20%20%20%20%20%20%20%20%20%20%20%7D%29%3B%0A%0A%20%20%20%20%20%20%20%20%20%20%20%20%0A%20%20%20%20%20%20%20%20%20%20%20%20%20%20%20%20var%20html_8053566e98c14061aa2a7293d9638011%20%3D%20%24%28%60%3Cdiv%20id%3D%22html_8053566e98c14061aa2a7293d9638011%22%20style%3D%22width%3A%20100.0%25%3B%20height%3A%20100.0%25%3B%22%3EKINDERLAND%3C/div%3E%60%29%5B0%5D%3B%0A%20%20%20%20%20%20%20%20%20%20%20%20%20%20%20%20popup_07999e8be823448f82a4404647ae3584.setContent%28html_8053566e98c14061aa2a7293d9638011%29%3B%0A%20%20%20%20%20%20%20%20%20%20%20%20%0A%0A%20%20%20%20%20%20%20%20%20%20%20%20marker_cfaf0adb99ef424c8f33208ae4e6edbc.bindPopup%28popup_07999e8be823448f82a4404647ae3584%29%0A%20%20%20%20%20%20%20%20%20%20%20%20%3B%0A%0A%20%20%20%20%20%20%20%20%20%20%20%20%0A%20%20%20%20%20%20%20%20%0A%20%20%20%20%0A%20%20%20%20%20%20%20%20var%20marker_f9954cca8553439bb8a164b4f03e1ad0%20%3D%20L.marker%28%0A%20%20%20%20%20%20%20%20%20%20%20%20%5B-17.19108%2C%20-70.94926%5D%2C%0A%20%20%20%20%20%20%20%20%20%20%20%20%7B%0A%20%20%20%20%20%20%20%20%20%20%20%20%20%20%20%20icon%3A%20new%20L.Icon.Default%28%29%2C%0A%20%20%20%20%20%20%20%20%20%20%20%20%20%20%20%20%7D%0A%20%20%20%20%20%20%20%20%20%20%20%20%29.addTo%28map_b7f0af205de3477ebb5692c8a709a5cd%29%3B%0A%20%20%20%20%20%20%20%20%0A%20%20%20%20%0A%0A%20%20%20%20%20%20%20%20%20%20%20%20%20%20%20%20var%20icon_aa4600927fb6425bb5d1b58c312f1b5a%20%3D%20L.AwesomeMarkers.icon%28%7B%0A%20%20%20%20%20%20%20%20%20%20%20%20%20%20%20%20%20%20%20%20icon%3A%20%27ok-sign%27%2C%0A%20%20%20%20%20%20%20%20%20%20%20%20%20%20%20%20%20%20%20%20iconColor%3A%20%27white%27%2C%0A%20%20%20%20%20%20%20%20%20%20%20%20%20%20%20%20%20%20%20%20markerColor%3A%20%27blue%27%2C%0A%20%20%20%20%20%20%20%20%20%20%20%20%20%20%20%20%20%20%20%20prefix%3A%20%27glyphicon%27%2C%0A%20%20%20%20%20%20%20%20%20%20%20%20%20%20%20%20%20%20%20%20extraClasses%3A%20%27fa-rotate-0%27%0A%20%20%20%20%20%20%20%20%20%20%20%20%20%20%20%20%20%20%20%20%7D%29%3B%0A%20%20%20%20%20%20%20%20%20%20%20%20%20%20%20%20marker_f9954cca8553439bb8a164b4f03e1ad0.setIcon%28icon_aa4600927fb6425bb5d1b58c312f1b5a%29%3B%0A%20%20%20%20%20%20%20%20%20%20%20%20%0A%20%20%20%20%0A%20%20%20%20%20%20%20%20%20%20%20%20var%20popup_357f2b90bbc94432934d3c5dc912905d%20%3D%20L.popup%28%7BmaxWidth%3A%20%27100%25%27%0A%20%20%20%20%20%20%20%20%20%20%20%20%0A%20%20%20%20%20%20%20%20%20%20%20%20%7D%29%3B%0A%0A%20%20%20%20%20%20%20%20%20%20%20%20%0A%20%20%20%20%20%20%20%20%20%20%20%20%20%20%20%20var%20html_9d2c9ab31f2e4b5798265097cfef75eb%20%3D%20%24%28%60%3Cdiv%20id%3D%22html_9d2c9ab31f2e4b5798265097cfef75eb%22%20style%3D%22width%3A%20100.0%25%3B%20height%3A%20100.0%25%3B%22%3ELITHVIN%3C/div%3E%60%29%5B0%5D%3B%0A%20%20%20%20%20%20%20%20%20%20%20%20%20%20%20%20popup_357f2b90bbc94432934d3c5dc912905d.setContent%28html_9d2c9ab31f2e4b5798265097cfef75eb%29%3B%0A%20%20%20%20%20%20%20%20%20%20%20%20%0A%0A%20%20%20%20%20%20%20%20%20%20%20%20marker_f9954cca8553439bb8a164b4f03e1ad0.bindPopup%28popup_357f2b90bbc94432934d3c5dc912905d%29%0A%20%20%20%20%20%20%20%20%20%20%20%20%3B%0A%0A%20%20%20%20%20%20%20%20%20%20%20%20%0A%20%20%20%20%20%20%20%20%0A%20%20%20%20%0A%20%20%20%20%20%20%20%20var%20marker_d9b599b51f364071b7ac444ea9411289%20%3D%20L.marker%28%0A%20%20%20%20%20%20%20%20%20%20%20%20%5B-17.1872%2C%20-70.92659%5D%2C%0A%20%20%20%20%20%20%20%20%20%20%20%20%7B%0A%20%20%20%20%20%20%20%20%20%20%20%20%20%20%20%20icon%3A%20new%20L.Icon.Default%28%29%2C%0A%20%20%20%20%20%20%20%20%20%20%20%20%20%20%20%20%7D%0A%20%20%20%20%20%20%20%20%20%20%20%20%29.addTo%28map_b7f0af205de3477ebb5692c8a709a5cd%29%3B%0A%20%20%20%20%20%20%20%20%0A%20%20%20%20%0A%0A%20%20%20%20%20%20%20%20%20%20%20%20%20%20%20%20var%20icon_79b5fdc84c254cf9be486cbff2993894%20%3D%20L.AwesomeMarkers.icon%28%7B%0A%20%20%20%20%20%20%20%20%20%20%20%20%20%20%20%20%20%20%20%20icon%3A%20%27ok-sign%27%2C%0A%20%20%20%20%20%20%20%20%20%20%20%20%20%20%20%20%20%20%20%20iconColor%3A%20%27white%27%2C%0A%20%20%20%20%20%20%20%20%20%20%20%20%20%20%20%20%20%20%20%20markerColor%3A%20%27blue%27%2C%0A%20%20%20%20%20%20%20%20%20%20%20%20%20%20%20%20%20%20%20%20prefix%3A%20%27glyphicon%27%2C%0A%20%20%20%20%20%20%20%20%20%20%20%20%20%20%20%20%20%20%20%20extraClasses%3A%20%27fa-rotate-0%27%0A%20%20%20%20%20%20%20%20%20%20%20%20%20%20%20%20%20%20%20%20%7D%29%3B%0A%20%20%20%20%20%20%20%20%20%20%20%20%20%20%20%20marker_d9b599b51f364071b7ac444ea9411289.setIcon%28icon_79b5fdc84c254cf9be486cbff2993894%29%3B%0A%20%20%20%20%20%20%20%20%20%20%20%20%0A%20%20%20%20%0A%20%20%20%20%20%20%20%20%20%20%20%20var%20popup_7f9c70bd3b324e5397986972cf5f0b4e%20%3D%20L.popup%28%7BmaxWidth%3A%20%27100%25%27%0A%20%20%20%20%20%20%20%20%20%20%20%20%0A%20%20%20%20%20%20%20%20%20%20%20%20%7D%29%3B%0A%0A%20%20%20%20%20%20%20%20%20%20%20%20%0A%20%20%20%20%20%20%20%20%20%20%20%20%20%20%20%20var%20html_b13aa4539d8649f0b5e7adaeb801ce00%20%3D%20%24%28%60%3Cdiv%20id%3D%22html_b13aa4539d8649f0b5e7adaeb801ce00%22%20style%3D%22width%3A%20100.0%25%3B%20height%3A%20100.0%25%3B%22%3EMY%20LITTLE%20BEE%20COLLEGE%3C/div%3E%60%29%5B0%5D%3B%0A%20%20%20%20%20%20%20%20%20%20%20%20%20%20%20%20popup_7f9c70bd3b324e5397986972cf5f0b4e.setContent%28html_b13aa4539d8649f0b5e7adaeb801ce00%29%3B%0A%20%20%20%20%20%20%20%20%20%20%20%20%0A%0A%20%20%20%20%20%20%20%20%20%20%20%20marker_d9b599b51f364071b7ac444ea9411289.bindPopup%28popup_7f9c70bd3b324e5397986972cf5f0b4e%29%0A%20%20%20%20%20%20%20%20%20%20%20%20%3B%0A%0A%20%20%20%20%20%20%20%20%20%20%20%20%0A%20%20%20%20%20%20%20%20%0A%20%20%20%20%0A%20%20%20%20%20%20%20%20var%20marker_42467d10fffe4e21bb671a2ec253ead5%20%3D%20L.marker%28%0A%20%20%20%20%20%20%20%20%20%20%20%20%5B-17.18897%2C%20-70.92709%5D%2C%0A%20%20%20%20%20%20%20%20%20%20%20%20%7B%0A%20%20%20%20%20%20%20%20%20%20%20%20%20%20%20%20icon%3A%20new%20L.Icon.Default%28%29%2C%0A%20%20%20%20%20%20%20%20%20%20%20%20%20%20%20%20%7D%0A%20%20%20%20%20%20%20%20%20%20%20%20%29.addTo%28map_b7f0af205de3477ebb5692c8a709a5cd%29%3B%0A%20%20%20%20%20%20%20%20%0A%20%20%20%20%0A%0A%20%20%20%20%20%20%20%20%20%20%20%20%20%20%20%20var%20icon_454a99e4c96648c9ae42daf59139d725%20%3D%20L.AwesomeMarkers.icon%28%7B%0A%20%20%20%20%20%20%20%20%20%20%20%20%20%20%20%20%20%20%20%20icon%3A%20%27ok-sign%27%2C%0A%20%20%20%20%20%20%20%20%20%20%20%20%20%20%20%20%20%20%20%20iconColor%3A%20%27white%27%2C%0A%20%20%20%20%20%20%20%20%20%20%20%20%20%20%20%20%20%20%20%20markerColor%3A%20%27blue%27%2C%0A%20%20%20%20%20%20%20%20%20%20%20%20%20%20%20%20%20%20%20%20prefix%3A%20%27glyphicon%27%2C%0A%20%20%20%20%20%20%20%20%20%20%20%20%20%20%20%20%20%20%20%20extraClasses%3A%20%27fa-rotate-0%27%0A%20%20%20%20%20%20%20%20%20%20%20%20%20%20%20%20%20%20%20%20%7D%29%3B%0A%20%20%20%20%20%20%20%20%20%20%20%20%20%20%20%20marker_42467d10fffe4e21bb671a2ec253ead5.setIcon%28icon_454a99e4c96648c9ae42daf59139d725%29%3B%0A%20%20%20%20%20%20%20%20%20%20%20%20%0A%20%20%20%20%0A%20%20%20%20%20%20%20%20%20%20%20%20var%20popup_54572161ef474bc19a83c41d59b4100d%20%3D%20L.popup%28%7BmaxWidth%3A%20%27100%25%27%0A%20%20%20%20%20%20%20%20%20%20%20%20%0A%20%20%20%20%20%20%20%20%20%20%20%20%7D%29%3B%0A%0A%20%20%20%20%20%20%20%20%20%20%20%20%0A%20%20%20%20%20%20%20%20%20%20%20%20%20%20%20%20var%20html_2a15a88606dc4f78bad1b523a5fc5bc2%20%3D%20%24%28%60%3Cdiv%20id%3D%22html_2a15a88606dc4f78bad1b523a5fc5bc2%22%20style%3D%22width%3A%20100.0%25%3B%20height%3A%20100.0%25%3B%22%3ENI%C3%91A%20MARIA%3C/div%3E%60%29%5B0%5D%3B%0A%20%20%20%20%20%20%20%20%20%20%20%20%20%20%20%20popup_54572161ef474bc19a83c41d59b4100d.setContent%28html_2a15a88606dc4f78bad1b523a5fc5bc2%29%3B%0A%20%20%20%20%20%20%20%20%20%20%20%20%0A%0A%20%20%20%20%20%20%20%20%20%20%20%20marker_42467d10fffe4e21bb671a2ec253ead5.bindPopup%28popup_54572161ef474bc19a83c41d59b4100d%29%0A%20%20%20%20%20%20%20%20%20%20%20%20%3B%0A%0A%20%20%20%20%20%20%20%20%20%20%20%20%0A%20%20%20%20%20%20%20%20%0A%20%20%20%20%0A%20%20%20%20%20%20%20%20var%20marker_e4538b9a39c44328b54474f9c3b8abe9%20%3D%20L.marker%28%0A%20%20%20%20%20%20%20%20%20%20%20%20%5B-17.191470000000002%2C%20-70.92777%5D%2C%0A%20%20%20%20%20%20%20%20%20%20%20%20%7B%0A%20%20%20%20%20%20%20%20%20%20%20%20%20%20%20%20icon%3A%20new%20L.Icon.Default%28%29%2C%0A%20%20%20%20%20%20%20%20%20%20%20%20%20%20%20%20%7D%0A%20%20%20%20%20%20%20%20%20%20%20%20%29.addTo%28map_b7f0af205de3477ebb5692c8a709a5cd%29%3B%0A%20%20%20%20%20%20%20%20%0A%20%20%20%20%0A%0A%20%20%20%20%20%20%20%20%20%20%20%20%20%20%20%20var%20icon_4abd8ddcfc00451cacd03f8fdf1fc577%20%3D%20L.AwesomeMarkers.icon%28%7B%0A%20%20%20%20%20%20%20%20%20%20%20%20%20%20%20%20%20%20%20%20icon%3A%20%27ok-sign%27%2C%0A%20%20%20%20%20%20%20%20%20%20%20%20%20%20%20%20%20%20%20%20iconColor%3A%20%27white%27%2C%0A%20%20%20%20%20%20%20%20%20%20%20%20%20%20%20%20%20%20%20%20markerColor%3A%20%27blue%27%2C%0A%20%20%20%20%20%20%20%20%20%20%20%20%20%20%20%20%20%20%20%20prefix%3A%20%27glyphicon%27%2C%0A%20%20%20%20%20%20%20%20%20%20%20%20%20%20%20%20%20%20%20%20extraClasses%3A%20%27fa-rotate-0%27%0A%20%20%20%20%20%20%20%20%20%20%20%20%20%20%20%20%20%20%20%20%7D%29%3B%0A%20%20%20%20%20%20%20%20%20%20%20%20%20%20%20%20marker_e4538b9a39c44328b54474f9c3b8abe9.setIcon%28icon_4abd8ddcfc00451cacd03f8fdf1fc577%29%3B%0A%20%20%20%20%20%20%20%20%20%20%20%20%0A%20%20%20%20%0A%20%20%20%20%20%20%20%20%20%20%20%20var%20popup_248be1d0f6d343b29acfa5f64c1e6634%20%3D%20L.popup%28%7BmaxWidth%3A%20%27100%25%27%0A%20%20%20%20%20%20%20%20%20%20%20%20%0A%20%20%20%20%20%20%20%20%20%20%20%20%7D%29%3B%0A%0A%20%20%20%20%20%20%20%20%20%20%20%20%0A%20%20%20%20%20%20%20%20%20%20%20%20%20%20%20%20var%20html_696e76e3954846e0b92245243364c329%20%3D%20%24%28%60%3Cdiv%20id%3D%22html_696e76e3954846e0b92245243364c329%22%20style%3D%22width%3A%20100.0%25%3B%20height%3A%20100.0%25%3B%22%3ENUESTRA%20SE%C3%91ORA%20DE%20MONSERRAT%3C/div%3E%60%29%5B0%5D%3B%0A%20%20%20%20%20%20%20%20%20%20%20%20%20%20%20%20popup_248be1d0f6d343b29acfa5f64c1e6634.setContent%28html_696e76e3954846e0b92245243364c329%29%3B%0A%20%20%20%20%20%20%20%20%20%20%20%20%0A%0A%20%20%20%20%20%20%20%20%20%20%20%20marker_e4538b9a39c44328b54474f9c3b8abe9.bindPopup%28popup_248be1d0f6d343b29acfa5f64c1e6634%29%0A%20%20%20%20%20%20%20%20%20%20%20%20%3B%0A%0A%20%20%20%20%20%20%20%20%20%20%20%20%0A%20%20%20%20%20%20%20%20%0A%20%20%20%20%0A%20%20%20%20%20%20%20%20var%20marker_ed80f1a298e8401fa735698c2a08fe4a%20%3D%20L.marker%28%0A%20%20%20%20%20%20%20%20%20%20%20%20%5B-17.196360000000002%2C%20-70.936%5D%2C%0A%20%20%20%20%20%20%20%20%20%20%20%20%7B%0A%20%20%20%20%20%20%20%20%20%20%20%20%20%20%20%20icon%3A%20new%20L.Icon.Default%28%29%2C%0A%20%20%20%20%20%20%20%20%20%20%20%20%20%20%20%20%7D%0A%20%20%20%20%20%20%20%20%20%20%20%20%29.addTo%28map_b7f0af205de3477ebb5692c8a709a5cd%29%3B%0A%20%20%20%20%20%20%20%20%0A%20%20%20%20%0A%0A%20%20%20%20%20%20%20%20%20%20%20%20%20%20%20%20var%20icon_e6a3301d4e314ee29fff1aadb1230b0a%20%3D%20L.AwesomeMarkers.icon%28%7B%0A%20%20%20%20%20%20%20%20%20%20%20%20%20%20%20%20%20%20%20%20icon%3A%20%27ok-sign%27%2C%0A%20%20%20%20%20%20%20%20%20%20%20%20%20%20%20%20%20%20%20%20iconColor%3A%20%27white%27%2C%0A%20%20%20%20%20%20%20%20%20%20%20%20%20%20%20%20%20%20%20%20markerColor%3A%20%27blue%27%2C%0A%20%20%20%20%20%20%20%20%20%20%20%20%20%20%20%20%20%20%20%20prefix%3A%20%27glyphicon%27%2C%0A%20%20%20%20%20%20%20%20%20%20%20%20%20%20%20%20%20%20%20%20extraClasses%3A%20%27fa-rotate-0%27%0A%20%20%20%20%20%20%20%20%20%20%20%20%20%20%20%20%20%20%20%20%7D%29%3B%0A%20%20%20%20%20%20%20%20%20%20%20%20%20%20%20%20marker_ed80f1a298e8401fa735698c2a08fe4a.setIcon%28icon_e6a3301d4e314ee29fff1aadb1230b0a%29%3B%0A%20%20%20%20%20%20%20%20%20%20%20%20%0A%20%20%20%20%0A%20%20%20%20%20%20%20%20%20%20%20%20var%20popup_f0224a31cd544492aca7ff6a063df02a%20%3D%20L.popup%28%7BmaxWidth%3A%20%27100%25%27%0A%20%20%20%20%20%20%20%20%20%20%20%20%0A%20%20%20%20%20%20%20%20%20%20%20%20%7D%29%3B%0A%0A%20%20%20%20%20%20%20%20%20%20%20%20%0A%20%20%20%20%20%20%20%20%20%20%20%20%20%20%20%20var%20html_4ff3a97c10024fad83383af42134c4cc%20%3D%20%24%28%60%3Cdiv%20id%3D%22html_4ff3a97c10024fad83383af42134c4cc%22%20style%3D%22width%3A%20100.0%25%3B%20height%3A%20100.0%25%3B%22%3EPERU%20MEX%20MARIA%20BELEN%3C/div%3E%60%29%5B0%5D%3B%0A%20%20%20%20%20%20%20%20%20%20%20%20%20%20%20%20popup_f0224a31cd544492aca7ff6a063df02a.setContent%28html_4ff3a97c10024fad83383af42134c4cc%29%3B%0A%20%20%20%20%20%20%20%20%20%20%20%20%0A%0A%20%20%20%20%20%20%20%20%20%20%20%20marker_ed80f1a298e8401fa735698c2a08fe4a.bindPopup%28popup_f0224a31cd544492aca7ff6a063df02a%29%0A%20%20%20%20%20%20%20%20%20%20%20%20%3B%0A%0A%20%20%20%20%20%20%20%20%20%20%20%20%0A%20%20%20%20%20%20%20%20%0A%20%20%20%20%0A%20%20%20%20%20%20%20%20var%20marker_f8147e556f0c45b5a4ecdc485166919a%20%3D%20L.marker%28%0A%20%20%20%20%20%20%20%20%20%20%20%20%5B-17.1961%2C%20-70.93405%5D%2C%0A%20%20%20%20%20%20%20%20%20%20%20%20%7B%0A%20%20%20%20%20%20%20%20%20%20%20%20%20%20%20%20icon%3A%20new%20L.Icon.Default%28%29%2C%0A%20%20%20%20%20%20%20%20%20%20%20%20%20%20%20%20%7D%0A%20%20%20%20%20%20%20%20%20%20%20%20%29.addTo%28map_b7f0af205de3477ebb5692c8a709a5cd%29%3B%0A%20%20%20%20%20%20%20%20%0A%20%20%20%20%0A%0A%20%20%20%20%20%20%20%20%20%20%20%20%20%20%20%20var%20icon_35e092da2cf8482e9d26303e36f87b1a%20%3D%20L.AwesomeMarkers.icon%28%7B%0A%20%20%20%20%20%20%20%20%20%20%20%20%20%20%20%20%20%20%20%20icon%3A%20%27ok-sign%27%2C%0A%20%20%20%20%20%20%20%20%20%20%20%20%20%20%20%20%20%20%20%20iconColor%3A%20%27white%27%2C%0A%20%20%20%20%20%20%20%20%20%20%20%20%20%20%20%20%20%20%20%20markerColor%3A%20%27blue%27%2C%0A%20%20%20%20%20%20%20%20%20%20%20%20%20%20%20%20%20%20%20%20prefix%3A%20%27glyphicon%27%2C%0A%20%20%20%20%20%20%20%20%20%20%20%20%20%20%20%20%20%20%20%20extraClasses%3A%20%27fa-rotate-0%27%0A%20%20%20%20%20%20%20%20%20%20%20%20%20%20%20%20%20%20%20%20%7D%29%3B%0A%20%20%20%20%20%20%20%20%20%20%20%20%20%20%20%20marker_f8147e556f0c45b5a4ecdc485166919a.setIcon%28icon_35e092da2cf8482e9d26303e36f87b1a%29%3B%0A%20%20%20%20%20%20%20%20%20%20%20%20%0A%20%20%20%20%0A%20%20%20%20%20%20%20%20%20%20%20%20var%20popup_943acd55ca894b3ea3523add03d9bc9c%20%3D%20L.popup%28%7BmaxWidth%3A%20%27100%25%27%0A%20%20%20%20%20%20%20%20%20%20%20%20%0A%20%20%20%20%20%20%20%20%20%20%20%20%7D%29%3B%0A%0A%20%20%20%20%20%20%20%20%20%20%20%20%0A%20%20%20%20%20%20%20%20%20%20%20%20%20%20%20%20var%20html_e4ca11972d7748798d7b17d9b785cd5e%20%3D%20%24%28%60%3Cdiv%20id%3D%22html_e4ca11972d7748798d7b17d9b785cd5e%22%20style%3D%22width%3A%20100.0%25%3B%20height%3A%20100.0%25%3B%22%3EROBERT%20GAGNE%3C/div%3E%60%29%5B0%5D%3B%0A%20%20%20%20%20%20%20%20%20%20%20%20%20%20%20%20popup_943acd55ca894b3ea3523add03d9bc9c.setContent%28html_e4ca11972d7748798d7b17d9b785cd5e%29%3B%0A%20%20%20%20%20%20%20%20%20%20%20%20%0A%0A%20%20%20%20%20%20%20%20%20%20%20%20marker_f8147e556f0c45b5a4ecdc485166919a.bindPopup%28popup_943acd55ca894b3ea3523add03d9bc9c%29%0A%20%20%20%20%20%20%20%20%20%20%20%20%3B%0A%0A%20%20%20%20%20%20%20%20%20%20%20%20%0A%20%20%20%20%20%20%20%20%0A%20%20%20%20%0A%20%20%20%20%20%20%20%20var%20marker_a335c85b95624234a53294fd518e9da9%20%3D%20L.marker%28%0A%20%20%20%20%20%20%20%20%20%20%20%20%5B-17.19454%2C%20-70.93556%5D%2C%0A%20%20%20%20%20%20%20%20%20%20%20%20%7B%0A%20%20%20%20%20%20%20%20%20%20%20%20%20%20%20%20icon%3A%20new%20L.Icon.Default%28%29%2C%0A%20%20%20%20%20%20%20%20%20%20%20%20%20%20%20%20%7D%0A%20%20%20%20%20%20%20%20%20%20%20%20%29.addTo%28map_b7f0af205de3477ebb5692c8a709a5cd%29%3B%0A%20%20%20%20%20%20%20%20%0A%20%20%20%20%0A%0A%20%20%20%20%20%20%20%20%20%20%20%20%20%20%20%20var%20icon_02127807b3f54956ae60383bfaaf7790%20%3D%20L.AwesomeMarkers.icon%28%7B%0A%20%20%20%20%20%20%20%20%20%20%20%20%20%20%20%20%20%20%20%20icon%3A%20%27ok-sign%27%2C%0A%20%20%20%20%20%20%20%20%20%20%20%20%20%20%20%20%20%20%20%20iconColor%3A%20%27white%27%2C%0A%20%20%20%20%20%20%20%20%20%20%20%20%20%20%20%20%20%20%20%20markerColor%3A%20%27blue%27%2C%0A%20%20%20%20%20%20%20%20%20%20%20%20%20%20%20%20%20%20%20%20prefix%3A%20%27glyphicon%27%2C%0A%20%20%20%20%20%20%20%20%20%20%20%20%20%20%20%20%20%20%20%20extraClasses%3A%20%27fa-rotate-0%27%0A%20%20%20%20%20%20%20%20%20%20%20%20%20%20%20%20%20%20%20%20%7D%29%3B%0A%20%20%20%20%20%20%20%20%20%20%20%20%20%20%20%20marker_a335c85b95624234a53294fd518e9da9.setIcon%28icon_02127807b3f54956ae60383bfaaf7790%29%3B%0A%20%20%20%20%20%20%20%20%20%20%20%20%0A%20%20%20%20%0A%20%20%20%20%20%20%20%20%20%20%20%20var%20popup_e7845a540f0c43ddbad22212febce379%20%3D%20L.popup%28%7BmaxWidth%3A%20%27100%25%27%0A%20%20%20%20%20%20%20%20%20%20%20%20%0A%20%20%20%20%20%20%20%20%20%20%20%20%7D%29%3B%0A%0A%20%20%20%20%20%20%20%20%20%20%20%20%0A%20%20%20%20%20%20%20%20%20%20%20%20%20%20%20%20var%20html_0ab57399f3db4dfe8e2ee6eeb06d6fa3%20%3D%20%24%28%60%3Cdiv%20id%3D%22html_0ab57399f3db4dfe8e2ee6eeb06d6fa3%22%20style%3D%22width%3A%20100.0%25%3B%20height%3A%20100.0%25%3B%22%3ESANTA%20MARIA%20EUFRASIA%20INFOTEC%3C/div%3E%60%29%5B0%5D%3B%0A%20%20%20%20%20%20%20%20%20%20%20%20%20%20%20%20popup_e7845a540f0c43ddbad22212febce379.setContent%28html_0ab57399f3db4dfe8e2ee6eeb06d6fa3%29%3B%0A%20%20%20%20%20%20%20%20%20%20%20%20%0A%0A%20%20%20%20%20%20%20%20%20%20%20%20marker_a335c85b95624234a53294fd518e9da9.bindPopup%28popup_e7845a540f0c43ddbad22212febce379%29%0A%20%20%20%20%20%20%20%20%20%20%20%20%3B%0A%0A%20%20%20%20%20%20%20%20%20%20%20%20%0A%20%20%20%20%20%20%20%20%0A%20%20%20%20%0A%20%20%20%20%20%20%20%20var%20marker_51e547dabef24c5c9e3af1a92a47342f%20%3D%20L.marker%28%0A%20%20%20%20%20%20%20%20%20%20%20%20%5B-17.197020000000002%2C%20-70.91508%5D%2C%0A%20%20%20%20%20%20%20%20%20%20%20%20%7B%0A%20%20%20%20%20%20%20%20%20%20%20%20%20%20%20%20icon%3A%20new%20L.Icon.Default%28%29%2C%0A%20%20%20%20%20%20%20%20%20%20%20%20%20%20%20%20%7D%0A%20%20%20%20%20%20%20%20%20%20%20%20%29.addTo%28map_b7f0af205de3477ebb5692c8a709a5cd%29%3B%0A%20%20%20%20%20%20%20%20%0A%20%20%20%20%0A%0A%20%20%20%20%20%20%20%20%20%20%20%20%20%20%20%20var%20icon_f6ffe186eb0145b5a4e4ea9f791b3503%20%3D%20L.AwesomeMarkers.icon%28%7B%0A%20%20%20%20%20%20%20%20%20%20%20%20%20%20%20%20%20%20%20%20icon%3A%20%27ok-sign%27%2C%0A%20%20%20%20%20%20%20%20%20%20%20%20%20%20%20%20%20%20%20%20iconColor%3A%20%27white%27%2C%0A%20%20%20%20%20%20%20%20%20%20%20%20%20%20%20%20%20%20%20%20markerColor%3A%20%27blue%27%2C%0A%20%20%20%20%20%20%20%20%20%20%20%20%20%20%20%20%20%20%20%20prefix%3A%20%27glyphicon%27%2C%0A%20%20%20%20%20%20%20%20%20%20%20%20%20%20%20%20%20%20%20%20extraClasses%3A%20%27fa-rotate-0%27%0A%20%20%20%20%20%20%20%20%20%20%20%20%20%20%20%20%20%20%20%20%7D%29%3B%0A%20%20%20%20%20%20%20%20%20%20%20%20%20%20%20%20marker_51e547dabef24c5c9e3af1a92a47342f.setIcon%28icon_f6ffe186eb0145b5a4e4ea9f791b3503%29%3B%0A%20%20%20%20%20%20%20%20%20%20%20%20%0A%20%20%20%20%0A%20%20%20%20%20%20%20%20%20%20%20%20var%20popup_95cd8ccffbaa405a85be1024d72dfaf7%20%3D%20L.popup%28%7BmaxWidth%3A%20%27100%25%27%0A%20%20%20%20%20%20%20%20%20%20%20%20%0A%20%20%20%20%20%20%20%20%20%20%20%20%7D%29%3B%0A%0A%20%20%20%20%20%20%20%20%20%20%20%20%0A%20%20%20%20%20%20%20%20%20%20%20%20%20%20%20%20var%20html_0f8bc9d71c244b8fb6d23e228394aed3%20%3D%20%24%28%60%3Cdiv%20id%3D%22html_0f8bc9d71c244b8fb6d23e228394aed3%22%20style%3D%22width%3A%20100.0%25%3B%20height%3A%20100.0%25%3B%22%3EVIRGEN%20DE%20GUADALUPE%3C/div%3E%60%29%5B0%5D%3B%0A%20%20%20%20%20%20%20%20%20%20%20%20%20%20%20%20popup_95cd8ccffbaa405a85be1024d72dfaf7.setContent%28html_0f8bc9d71c244b8fb6d23e228394aed3%29%3B%0A%20%20%20%20%20%20%20%20%20%20%20%20%0A%0A%20%20%20%20%20%20%20%20%20%20%20%20marker_51e547dabef24c5c9e3af1a92a47342f.bindPopup%28popup_95cd8ccffbaa405a85be1024d72dfaf7%29%0A%20%20%20%20%20%20%20%20%20%20%20%20%3B%0A%0A%20%20%20%20%20%20%20%20%20%20%20%20%0A%20%20%20%20%20%20%20%20%0A%20%20%20%20%0A%20%20%20%20%20%20%20%20var%20marker_357271c3fd0245b29820dec05ca74abf%20%3D%20L.marker%28%0A%20%20%20%20%20%20%20%20%20%20%20%20%5B-17.20934%2C%20-70.94385%5D%2C%0A%20%20%20%20%20%20%20%20%20%20%20%20%7B%0A%20%20%20%20%20%20%20%20%20%20%20%20%20%20%20%20icon%3A%20new%20L.Icon.Default%28%29%2C%0A%20%20%20%20%20%20%20%20%20%20%20%20%20%20%20%20%7D%0A%20%20%20%20%20%20%20%20%20%20%20%20%29.addTo%28map_b7f0af205de3477ebb5692c8a709a5cd%29%3B%0A%20%20%20%20%20%20%20%20%0A%20%20%20%20%0A%0A%20%20%20%20%20%20%20%20%20%20%20%20%20%20%20%20var%20icon_c2cce135264346b9a8a1d146d8536ae3%20%3D%20L.AwesomeMarkers.icon%28%7B%0A%20%20%20%20%20%20%20%20%20%20%20%20%20%20%20%20%20%20%20%20icon%3A%20%27ok-sign%27%2C%0A%20%20%20%20%20%20%20%20%20%20%20%20%20%20%20%20%20%20%20%20iconColor%3A%20%27white%27%2C%0A%20%20%20%20%20%20%20%20%20%20%20%20%20%20%20%20%20%20%20%20markerColor%3A%20%27blue%27%2C%0A%20%20%20%20%20%20%20%20%20%20%20%20%20%20%20%20%20%20%20%20prefix%3A%20%27glyphicon%27%2C%0A%20%20%20%20%20%20%20%20%20%20%20%20%20%20%20%20%20%20%20%20extraClasses%3A%20%27fa-rotate-0%27%0A%20%20%20%20%20%20%20%20%20%20%20%20%20%20%20%20%20%20%20%20%7D%29%3B%0A%20%20%20%20%20%20%20%20%20%20%20%20%20%20%20%20marker_357271c3fd0245b29820dec05ca74abf.setIcon%28icon_c2cce135264346b9a8a1d146d8536ae3%29%3B%0A%20%20%20%20%20%20%20%20%20%20%20%20%0A%20%20%20%20%0A%20%20%20%20%20%20%20%20%20%20%20%20var%20popup_0aa8b0f9cae44125b646023cd7f708f2%20%3D%20L.popup%28%7BmaxWidth%3A%20%27100%25%27%0A%20%20%20%20%20%20%20%20%20%20%20%20%0A%20%20%20%20%20%20%20%20%20%20%20%20%7D%29%3B%0A%0A%20%20%20%20%20%20%20%20%20%20%20%20%0A%20%20%20%20%20%20%20%20%20%20%20%20%20%20%20%20var%20html_b9ab5bd2fcb84a24aee40100e26e1228%20%3D%20%24%28%60%3Cdiv%20id%3D%22html_b9ab5bd2fcb84a24aee40100e26e1228%22%20style%3D%22width%3A%20100.0%25%3B%20height%3A%20100.0%25%3B%22%3ELORD%20BYRON%3C/div%3E%60%29%5B0%5D%3B%0A%20%20%20%20%20%20%20%20%20%20%20%20%20%20%20%20popup_0aa8b0f9cae44125b646023cd7f708f2.setContent%28html_b9ab5bd2fcb84a24aee40100e26e1228%29%3B%0A%20%20%20%20%20%20%20%20%20%20%20%20%0A%0A%20%20%20%20%20%20%20%20%20%20%20%20marker_357271c3fd0245b29820dec05ca74abf.bindPopup%28popup_0aa8b0f9cae44125b646023cd7f708f2%29%0A%20%20%20%20%20%20%20%20%20%20%20%20%3B%0A%0A%20%20%20%20%20%20%20%20%20%20%20%20%0A%20%20%20%20%20%20%20%20%0A%20%20%20%20%0A%20%20%20%20%20%20%20%20var%20marker_5d61bbe53cc64e8a99bf9ac83cb0257e%20%3D%20L.marker%28%0A%20%20%20%20%20%20%20%20%20%20%20%20%5B-17.20901%2C%20-70.95671999999999%5D%2C%0A%20%20%20%20%20%20%20%20%20%20%20%20%7B%0A%20%20%20%20%20%20%20%20%20%20%20%20%20%20%20%20icon%3A%20new%20L.Icon.Default%28%29%2C%0A%20%20%20%20%20%20%20%20%20%20%20%20%20%20%20%20%7D%0A%20%20%20%20%20%20%20%20%20%20%20%20%29.addTo%28map_b7f0af205de3477ebb5692c8a709a5cd%29%3B%0A%20%20%20%20%20%20%20%20%0A%20%20%20%20%0A%0A%20%20%20%20%20%20%20%20%20%20%20%20%20%20%20%20var%20icon_160fdd87723442fd981e1d7cd094cf02%20%3D%20L.AwesomeMarkers.icon%28%7B%0A%20%20%20%20%20%20%20%20%20%20%20%20%20%20%20%20%20%20%20%20icon%3A%20%27ok-sign%27%2C%0A%20%20%20%20%20%20%20%20%20%20%20%20%20%20%20%20%20%20%20%20iconColor%3A%20%27white%27%2C%0A%20%20%20%20%20%20%20%20%20%20%20%20%20%20%20%20%20%20%20%20markerColor%3A%20%27blue%27%2C%0A%20%20%20%20%20%20%20%20%20%20%20%20%20%20%20%20%20%20%20%20prefix%3A%20%27glyphicon%27%2C%0A%20%20%20%20%20%20%20%20%20%20%20%20%20%20%20%20%20%20%20%20extraClasses%3A%20%27fa-rotate-0%27%0A%20%20%20%20%20%20%20%20%20%20%20%20%20%20%20%20%20%20%20%20%7D%29%3B%0A%20%20%20%20%20%20%20%20%20%20%20%20%20%20%20%20marker_5d61bbe53cc64e8a99bf9ac83cb0257e.setIcon%28icon_160fdd87723442fd981e1d7cd094cf02%29%3B%0A%20%20%20%20%20%20%20%20%20%20%20%20%0A%20%20%20%20%0A%20%20%20%20%20%20%20%20%20%20%20%20var%20popup_b662230804ec4745aa7c473889fbba85%20%3D%20L.popup%28%7BmaxWidth%3A%20%27100%25%27%0A%20%20%20%20%20%20%20%20%20%20%20%20%0A%20%20%20%20%20%20%20%20%20%20%20%20%7D%29%3B%0A%0A%20%20%20%20%20%20%20%20%20%20%20%20%0A%20%20%20%20%20%20%20%20%20%20%20%20%20%20%20%20var%20html_6068780986b04e2bbf553d624c99d346%20%3D%20%24%28%60%3Cdiv%20id%3D%22html_6068780986b04e2bbf553d624c99d346%22%20style%3D%22width%3A%20100.0%25%3B%20height%3A%20100.0%25%3B%22%3ESAN%20MARTIN%20DE%20PORRAS%3C/div%3E%60%29%5B0%5D%3B%0A%20%20%20%20%20%20%20%20%20%20%20%20%20%20%20%20popup_b662230804ec4745aa7c473889fbba85.setContent%28html_6068780986b04e2bbf553d624c99d346%29%3B%0A%20%20%20%20%20%20%20%20%20%20%20%20%0A%0A%20%20%20%20%20%20%20%20%20%20%20%20marker_5d61bbe53cc64e8a99bf9ac83cb0257e.bindPopup%28popup_b662230804ec4745aa7c473889fbba85%29%0A%20%20%20%20%20%20%20%20%20%20%20%20%3B%0A%0A%20%20%20%20%20%20%20%20%20%20%20%20%0A%20%20%20%20%20%20%20%20%0A%20%20%20%20%0A%20%20%20%20%20%20%20%20var%20marker_dead1561e2ab4faa85a212e0a09a95e8%20%3D%20L.marker%28%0A%20%20%20%20%20%20%20%20%20%20%20%20%5B-17.19612%2C%20-70.94639000000001%5D%2C%0A%20%20%20%20%20%20%20%20%20%20%20%20%7B%0A%20%20%20%20%20%20%20%20%20%20%20%20%20%20%20%20icon%3A%20new%20L.Icon.Default%28%29%2C%0A%20%20%20%20%20%20%20%20%20%20%20%20%20%20%20%20%7D%0A%20%20%20%20%20%20%20%20%20%20%20%20%29.addTo%28map_b7f0af205de3477ebb5692c8a709a5cd%29%3B%0A%20%20%20%20%20%20%20%20%0A%20%20%20%20%0A%0A%20%20%20%20%20%20%20%20%20%20%20%20%20%20%20%20var%20icon_e0de9675d8c74403bfea8aa3cffc15d4%20%3D%20L.AwesomeMarkers.icon%28%7B%0A%20%20%20%20%20%20%20%20%20%20%20%20%20%20%20%20%20%20%20%20icon%3A%20%27ok-sign%27%2C%0A%20%20%20%20%20%20%20%20%20%20%20%20%20%20%20%20%20%20%20%20iconColor%3A%20%27white%27%2C%0A%20%20%20%20%20%20%20%20%20%20%20%20%20%20%20%20%20%20%20%20markerColor%3A%20%27blue%27%2C%0A%20%20%20%20%20%20%20%20%20%20%20%20%20%20%20%20%20%20%20%20prefix%3A%20%27glyphicon%27%2C%0A%20%20%20%20%20%20%20%20%20%20%20%20%20%20%20%20%20%20%20%20extraClasses%3A%20%27fa-rotate-0%27%0A%20%20%20%20%20%20%20%20%20%20%20%20%20%20%20%20%20%20%20%20%7D%29%3B%0A%20%20%20%20%20%20%20%20%20%20%20%20%20%20%20%20marker_dead1561e2ab4faa85a212e0a09a95e8.setIcon%28icon_e0de9675d8c74403bfea8aa3cffc15d4%29%3B%0A%20%20%20%20%20%20%20%20%20%20%20%20%0A%20%20%20%20%0A%20%20%20%20%20%20%20%20%20%20%20%20var%20popup_ddd322ebab4f4292a9b9c4a5457cc2e3%20%3D%20L.popup%28%7BmaxWidth%3A%20%27100%25%27%0A%20%20%20%20%20%20%20%20%20%20%20%20%0A%20%20%20%20%20%20%20%20%20%20%20%20%7D%29%3B%0A%0A%20%20%20%20%20%20%20%20%20%20%20%20%0A%20%20%20%20%20%20%20%20%20%20%20%20%20%20%20%20var%20html_3f3c28b8a5dd4d0f8ef315f282026819%20%3D%20%24%28%60%3Cdiv%20id%3D%22html_3f3c28b8a5dd4d0f8ef315f282026819%22%20style%3D%22width%3A%20100.0%25%3B%20height%3A%20100.0%25%3B%22%3EGRUPO%20ITEP%3C/div%3E%60%29%5B0%5D%3B%0A%20%20%20%20%20%20%20%20%20%20%20%20%20%20%20%20popup_ddd322ebab4f4292a9b9c4a5457cc2e3.setContent%28html_3f3c28b8a5dd4d0f8ef315f282026819%29%3B%0A%20%20%20%20%20%20%20%20%20%20%20%20%0A%0A%20%20%20%20%20%20%20%20%20%20%20%20marker_dead1561e2ab4faa85a212e0a09a95e8.bindPopup%28popup_ddd322ebab4f4292a9b9c4a5457cc2e3%29%0A%20%20%20%20%20%20%20%20%20%20%20%20%3B%0A%0A%20%20%20%20%20%20%20%20%20%20%20%20%0A%20%20%20%20%20%20%20%20%0A%20%20%20%20%0A%20%20%20%20%20%20%20%20var%20marker_9475001bbac74805b0145749d2b0a70e%20%3D%20L.marker%28%0A%20%20%20%20%20%20%20%20%20%20%20%20%5B-17.19124%2C%20-70.95063%5D%2C%0A%20%20%20%20%20%20%20%20%20%20%20%20%7B%0A%20%20%20%20%20%20%20%20%20%20%20%20%20%20%20%20icon%3A%20new%20L.Icon.Default%28%29%2C%0A%20%20%20%20%20%20%20%20%20%20%20%20%20%20%20%20%7D%0A%20%20%20%20%20%20%20%20%20%20%20%20%29.addTo%28map_b7f0af205de3477ebb5692c8a709a5cd%29%3B%0A%20%20%20%20%20%20%20%20%0A%20%20%20%20%0A%0A%20%20%20%20%20%20%20%20%20%20%20%20%20%20%20%20var%20icon_c1a55905c2034a838f25560e84acf2d1%20%3D%20L.AwesomeMarkers.icon%28%7B%0A%20%20%20%20%20%20%20%20%20%20%20%20%20%20%20%20%20%20%20%20icon%3A%20%27ok-sign%27%2C%0A%20%20%20%20%20%20%20%20%20%20%20%20%20%20%20%20%20%20%20%20iconColor%3A%20%27white%27%2C%0A%20%20%20%20%20%20%20%20%20%20%20%20%20%20%20%20%20%20%20%20markerColor%3A%20%27blue%27%2C%0A%20%20%20%20%20%20%20%20%20%20%20%20%20%20%20%20%20%20%20%20prefix%3A%20%27glyphicon%27%2C%0A%20%20%20%20%20%20%20%20%20%20%20%20%20%20%20%20%20%20%20%20extraClasses%3A%20%27fa-rotate-0%27%0A%20%20%20%20%20%20%20%20%20%20%20%20%20%20%20%20%20%20%20%20%7D%29%3B%0A%20%20%20%20%20%20%20%20%20%20%20%20%20%20%20%20marker_9475001bbac74805b0145749d2b0a70e.setIcon%28icon_c1a55905c2034a838f25560e84acf2d1%29%3B%0A%20%20%20%20%20%20%20%20%20%20%20%20%0A%20%20%20%20%0A%20%20%20%20%20%20%20%20%20%20%20%20var%20popup_c3b5f27782824c9db38db5352ea5938f%20%3D%20L.popup%28%7BmaxWidth%3A%20%27100%25%27%0A%20%20%20%20%20%20%20%20%20%20%20%20%0A%20%20%20%20%20%20%20%20%20%20%20%20%7D%29%3B%0A%0A%20%20%20%20%20%20%20%20%20%20%20%20%0A%20%20%20%20%20%20%20%20%20%20%20%20%20%20%20%20var%20html_1a15fb8d066f41348653c6d059775cdf%20%3D%20%24%28%60%3Cdiv%20id%3D%22html_1a15fb8d066f41348653c6d059775cdf%22%20style%3D%22width%3A%20100.0%25%3B%20height%3A%20100.0%25%3B%22%3EMITCHELL%20%26%20PORTER%3C/div%3E%60%29%5B0%5D%3B%0A%20%20%20%20%20%20%20%20%20%20%20%20%20%20%20%20popup_c3b5f27782824c9db38db5352ea5938f.setContent%28html_1a15fb8d066f41348653c6d059775cdf%29%3B%0A%20%20%20%20%20%20%20%20%20%20%20%20%0A%0A%20%20%20%20%20%20%20%20%20%20%20%20marker_9475001bbac74805b0145749d2b0a70e.bindPopup%28popup_c3b5f27782824c9db38db5352ea5938f%29%0A%20%20%20%20%20%20%20%20%20%20%20%20%3B%0A%0A%20%20%20%20%20%20%20%20%20%20%20%20%0A%20%20%20%20%20%20%20%20%0A%3C/script%3E onload=\"this.contentDocument.open();this.contentDocument.write(    decodeURIComponent(this.getAttribute('data-html')));this.contentDocument.close();\" allowfullscreen webkitallowfullscreen mozallowfullscreen></iframe></div></div>"
            ],
            "text/plain": [
              "<folium.folium.Map at 0x7f610b8f0290>"
            ]
          },
          "metadata": {},
          "execution_count": 5
        }
      ]
    },
    {
      "cell_type": "code",
      "metadata": {
        "colab": {
          "base_uri": "https://localhost:8080/"
        },
        "id": "ritCSBLLh7dJ",
        "outputId": "20481eae-967b-488e-b7df-6e343f82dae6"
      },
      "source": [
        "c = 0\n",
        "la = []\n",
        "lo = []\n",
        "for index, row in df.iterrows():\n",
        "    la.append(row['Latitud'])\n",
        "    lo.append(row['Longitud'])\n",
        "    c = c + 1\n",
        "\n",
        "print(la)\n",
        "print(lo)\n",
        "print(c)\n",
        "\n",
        "d = c\n",
        "distancias = [[0] * c for i in range(c)]\n",
        "for i in range(c):\n",
        "    for j in range(d):\n",
        "        distancias[i][j]=(haversine(la[i], lo[i], la[j], lo[j]))\n",
        "\n",
        "for row in distancias:\n",
        "    print(' '.join([str(elem) for elem in row]))\n"
      ],
      "execution_count": null,
      "outputs": [
        {
          "output_type": "stream",
          "name": "stdout",
          "text": [
            "[-17.19202, -17.191110000000002, -17.19125, -17.1908, -17.19325, -17.19657, -17.18723, -17.19353, -17.189020000000003, -17.189420000000002, -17.188229999999997, -17.1904, -17.188679999999998, -17.19108, -17.1872, -17.18897, -17.191470000000002, -17.196360000000002, -17.1961, -17.19454, -17.197020000000002, -17.20934, -17.20901, -17.19612, -17.19124]\n",
            "[-70.93874, -70.92896, -70.93304, -70.92845, -70.93365, -70.93493000000001, -70.92546, -70.93808, -70.94032, -70.93798000000001, -70.93521, -70.93139000000001, -70.9282, -70.94926, -70.92659, -70.92709, -70.92777, -70.936, -70.93405, -70.93556, -70.91508, -70.94385, -70.95671999999999, -70.94639000000001, -70.95063]\n",
            "25\n",
            "0.0 1.044109833982106 0.6116893206662838 1.1017724512963745 0.5578791914236744 0.6480787164115719 1.5083330630926743 0.18200507696056964 0.3735338286368389 0.30025211309262045 0.5642646748316457 0.8015060431136366 1.179961040120837 1.1227013966651578 1.3979217913747315 1.283541929508995 1.1672410445841366 0.5637223244577727 0.6740015852236987 0.43901569613190405 2.5747750847679085 2.00148871555237 2.6871449643643253 0.9320370914896636 1.266369159905465\n",
            "1.044109833982106 0.0 0.4338085524459146 0.0642305625832887 0.5522693160216104 0.8781812456475667 0.5696970568214479 1.0057465836018011 1.2292682299234696 0.9767027053612032 0.7373313583740905 0.2700117953004709 0.2820863458526103 2.1570227972992275 0.5025463108623246 0.31006130068801274 0.1326343793274329 0.9489714641084582 0.774955332485138 0.7983454670483532 1.61468759255207 2.571846773095724 3.558617910163595 1.9340530992428386 2.3026369213015725\n",
            "0.6116893206662838 0.4338085524459146 0.0 0.49028205086346344 0.23170304336482894 0.6248734496232451 0.9212242347845151 0.59254174945714 0.8123485505540915 0.562994946957225 0.4074285711398263 0.1991907428306144 0.5883901595573342 1.7235940984249833 0.8201499251554902 0.68119745750948 0.5605087835458432 0.6495851132055777 0.550018796766129 0.45343832316540755 2.0133714709024133 2.3168342120738687 3.198845176120993 1.5184162915392296 1.869062147651562\n",
            "1.1017724512963745 0.0642305625832887 0.49028205086346344 0.0 0.616078653999698 0.941253773560666 0.5085390387175143 1.0673534854547018 1.2767245690437572 1.0242029374641342 0.7730927584399347 0.3155490568033657 0.23729129845191857 2.2114325203483047 0.4465350990350226 0.24962676132610606 0.10379899586879501 1.0129239954057248 0.8375995288080815 0.86243695203296 1.5801371116214262 2.632454258954062 3.6228252017743565 1.9959573942171513 2.357292688996732\n",
            "0.5578791914236744 0.5522693160216104 0.23170304336482894 0.616078653999698 0.0 0.39352121177972754 1.0980325327489349 0.4717424854206795 0.8506841325551601 0.6270235652489778 0.58244151232386 0.3976846253748351 0.7705400602155001 1.6761334455442818 1.007764066108171 0.8440950343755248 0.6554059488726418 0.4266216337338365 0.31983145432893706 0.248545728219103 2.0172163373685437 2.0922046752651102 3.0135074342890737 1.3908189432432905 1.818033580107108\n",
            "0.6480787164115719 0.8781812456475667 0.6248734496232451 0.941253773560666 0.39352121177972754 0.0 1.446290771108438 0.4757693330764155 1.0164659859928333 0.8587661730173057 0.9281040309385076 0.7825896117557591 1.132039331616452 1.6405218801428634 1.3680192742492472 1.1868172209362813 0.9489874853748663 0.11606641152297684 0.10712492013653395 0.23550335720499965 2.109733373126627 1.7075294151322147 2.69715369041902 1.2187006977096753 1.7704196582384362\n",
            "1.5083330630926743 0.5696970568214479 0.9212242347845151 0.5085390387175143 1.0980325327489349 1.446290771108438 0.0 1.5130161697962015 1.5915089492222139 1.3524755799257597 1.0419795097646232 0.7220524629282207 0.33283430194754954 2.5649454090415267 0.12011945395965314 0.2597194868804078 0.5316528640498432 1.5117906941544415 1.3440385442514564 1.346413011162674 1.5499025399886794 3.1409897022815896 4.111049152620194 2.4338663378196275 2.7114545054226173\n",
            "0.18200507696056964 1.0057465836018011 0.59254174945714 1.0673534854547018 0.4717424854206795 0.4757693330764155 1.5130161697962015 0.0 0.5552338470335383 0.45726341791423813 0.6637084600663621 0.7915288431161697 1.1803079295500623 1.2188015438334294 1.4093612928469186 1.2731531350427572 1.1192075169369111 0.3846113673908654 0.5148523434477313 0.29037455827660313 2.4744963187490034 1.8622920240131673 2.6243117980034945 0.928784146803482 1.3576253024903608\n",
            "0.3735338286368389 1.2292682299234696 0.8123485505540915 1.2767245690437572 0.8506841325551601 1.0164659859928333 1.5915089492222139 0.5552338470335383 0.0 0.25259329247569356 0.5500450933712123 0.9612178328952504 1.288407426557634 0.9771862506897617 1.4729113089945207 1.4058090813936597 1.3610914518476644 0.936598081287839 1.0314971355553428 0.7954706255412354 2.825661688035541 2.291028251195087 2.824893042805983 1.0196225154863667 1.1229995713934802\n",
            "0.30025211309262045 0.9767027053612032 0.562994946957225 1.0242029374641342 0.6270235652489778 0.8587661730173057 1.3524755799257597 0.45726341791423813 0.25259329247569356 0.0 0.3227268311516371 0.7086721438508766 1.0424608055872724 1.2127238302901904 1.2352188783306421 1.158234245692509 1.1085915402790958 0.8000676262706005 0.8522998686486214 0.6248417911793469 2.575912225707593 2.301740085561136 2.9516890224552967 1.1635694437926585 1.3593163084999174\n",
            "0.5642646748316457 0.7373313583740905 0.4074285711398263 0.7730927584399347 0.58244151232386 0.9281040309385076 1.0419795097646232 0.6637084600663621 0.5500450933712123 0.3227268311516371 0.0 0.472244633858619 0.7465529879314482 1.5262076010679397 0.9230900741761411 0.8667366185726844 0.8688219421062029 0.9081573279232762 0.8839860131475267 0.7028223689325339 2.351789796782255 2.5210727306628167 3.2504655981308685 1.4769423924039582 1.6723512132073424\n",
            "0.8015060431136366 0.2700117953004709 0.1991907428306144 0.3155490568033657 0.3976846253748351 0.7825896117557591 0.7220524629282207 0.7915288431161697 0.9612178328952504 0.7086721438508766 0.472244633858619 0.0 0.38922387856116675 1.900324702294823 0.6219512816790745 0.48380170169356584 0.40264183564604433 0.824251412698942 0.6941388410335585 0.6390357719814399 1.8829646676042617 2.4880887388993966 3.395296230273958 1.7161265234169938 2.046524464990513\n",
            "1.179961040120837 0.2820863458526103 0.5883901595573342 0.23729129845191857 0.7705400602155001 1.132039331616452 0.33283430194754954 1.1803079295500623 1.288407426557634 1.0424608055872724 0.7465529879314482 0.38922387856116675 0.0 2.2536557323010573 0.23741392534680852 0.12227793229176152 0.3136669344967691 1.1902085383076373 1.0332012370621675 1.0180509865575142 1.6745007485774672 2.836473996696452 3.781010907306922 2.1025047644301504 2.4003111299486473\n",
            "1.1227013966651578 2.1570227972992275 1.7235940984249833 2.2114325203483047 1.6761334455442818 1.6405218801428634 2.5649454090415267 1.2188015438334294 0.9771862506897617 1.2127238302901904 1.5262076010679397 1.900324702294823 2.2536557323010573 0.0 2.447227299612721 2.36739607498839 2.2838759937243807 1.5264440089652345 1.709883197711059 1.5057205080176639 3.691416864126126 2.11076956035777 2.146033202518392 0.6381592545871859 0.14665600763680756\n",
            "1.3979217913747315 0.5025463108623246 0.8201499251554902 0.4465350990350226 1.007764066108171 1.3680192742492472 0.12011945395965314 1.4093612928469186 1.4729113089945207 1.2352188783306421 0.9230900741761411 0.6219512816790745 0.23741392534680852 2.447227299612721 0.0 0.2039135256149482 0.4912083556393279 1.4275055381341695 1.2681736666426036 1.254975248969326 1.6397419032332257 3.0704135852658028 4.016681284821353 2.326084985864184 2.5936697609999353\n",
            "1.283541929508995 0.31006130068801274 0.68119745750948 0.24962676132610606 0.8440950343755248 1.1868172209362813 0.2597194868804078 1.2731531350427572 1.4058090813936597 1.158234245692509 0.8667366185726844 0.48380170169356584 0.12227793229176152 2.36739607498839 0.2039135256149482 0.0 0.2873000618439814 1.253772061369619 1.084362944413472 1.092615470872716 1.5589135118490955 2.881756878304762 3.857447371776642 2.1995486182561836 2.5140174035630074\n",
            "1.1672410445841366 0.1326343793274329 0.5605087835458432 0.10379899586879501 0.6554059488726418 0.9489874853748663 0.5316528640498432 1.1192075169369111 1.3610914518476644 1.1085915402790958 0.8688219421062029 0.40264183564604433 0.3136669344967691 2.2838759937243807 0.4912083556393279 0.2873000618439814 0.0 1.0298271414784517 0.8428947196229468 0.8954009202756916 1.4829686268595292 2.621007144179344 3.642495753930707 2.0449642000872754 2.429169827230546\n",
            "0.5637223244577727 0.9489714641084582 0.6495851132055777 1.0129239954057248 0.4266216337338365 0.11606641152297684 1.5117906941544415 0.3846113673908654 0.936598081287839 0.8000676262706005 0.9081573279232762 0.824251412698942 1.1902085383076373 1.5264440089652345 1.4275055381341695 1.253772061369619 1.0298271414784517 0.0 0.2092041064656622 0.20776040905891266 2.2240443299564485 1.6673284229749952 2.61272490008931 1.1043038372052068 1.6555471728019024\n",
            "0.6740015852236987 0.774955332485138 0.550018796766129 0.8375995288080815 0.31983145432893706 0.10712492013653395 1.3440385442514564 0.5148523434477313 1.0314971355553428 0.8522998686486214 0.8839860131475267 0.6941388410335585 1.0332012370621675 1.709883197711059 1.2681736666426036 1.084362944413472 0.8428947196229468 0.2092041064656622 0.0 0.23632442537208082 2.0182344922570037 1.8035707294969487 2.8042354352241268 1.3111796496477832 1.842785646488846\n",
            "0.43901569613190405 0.7983454670483532 0.45343832316540755 0.86243695203296 0.248545728219103 0.23550335720499965 1.346413011162674 0.29037455827660313 0.7954706255412354 0.6248417911793469 0.7028223689325339 0.6390357719814399 1.0180509865575142 1.5057205080176639 1.254975248969326 1.092615470872716 0.8954009202756916 0.20776040905891266 0.23632442537208082 0.0 2.1935045721595454 1.8669894948192094 2.764965741437797 1.1640803744307588 1.6428086312261987\n",
            "2.5747750847679085 1.61468759255207 2.0133714709024133 1.5801371116214262 2.0172163373685437 2.109733373126627 1.5499025399886794 2.4744963187490034 2.825661688035541 2.575912225707593 2.351789796782255 1.8829646676042617 1.6745007485774672 3.691416864126126 1.6397419032332257 1.5589135118490955 1.4829686268595292 2.2240443299564485 2.0182344922570037 2.1935045721595454 0.0 3.349908006495885 4.620887314151216 3.3283188201033216 3.831697218104239\n",
            "2.00148871555237 2.571846773095724 2.3168342120738687 2.632454258954062 2.0922046752651102 1.7075294151322147 3.1409897022815896 1.8622920240131673 2.291028251195087 2.301740085561136 2.5210727306628167 2.4880887388993966 2.836473996696452 2.11076956035777 3.0704135852658028 2.881756878304762 2.621007144179344 1.6673284229749952 1.8035707294969487 1.8669894948192094 3.349908006495885 0.0 1.3678885285918843 1.4949723342261785 2.1382034680000785\n",
            "2.6871449643643253 3.558617910163595 3.198845176120993 3.6228252017743565 3.0135074342890737 2.69715369041902 4.111049152620194 2.6243117980034945 2.824893042805983 2.9516890224552967 3.2504655981308685 3.395296230273958 3.781010907306922 2.146033202518392 4.016681284821353 3.857447371776642 3.642495753930707 2.61272490008931 2.8042354352241268 2.764965741437797 4.620887314151216 1.3678885285918843 0.0 1.805594308588761 2.0797165471902463\n",
            "0.9320370914896636 1.9340530992428386 1.5184162915392296 1.9959573942171513 1.3908189432432905 1.2187006977096753 2.4338663378196275 0.928784146803482 1.0196225154863667 1.1635694437926585 1.4769423924039582 1.7161265234169938 2.1025047644301504 0.6381592545871859 2.326084985864184 2.1995486182561836 2.0449642000872754 1.1043038372052068 1.3111796496477832 1.1640803744307588 3.3283188201033216 1.4949723342261785 1.805594308588761 0.0 0.705398159730419\n",
            "1.266369159905465 2.3026369213015725 1.869062147651562 2.357292688996732 1.818033580107108 1.7704196582384362 2.7114545054226173 1.3576253024903608 1.1229995713934802 1.3593163084999174 1.6723512132073424 2.046524464990513 2.4003111299486473 0.14665600763680756 2.5936697609999353 2.5140174035630074 2.429169827230546 1.6555471728019024 1.842785646488846 1.6428086312261987 3.831697218104239 2.1382034680000785 2.0797165471902463 0.705398159730419 0.0\n"
          ]
        }
      ]
    },
    {
      "cell_type": "code",
      "metadata": {
        "colab": {
          "base_uri": "https://localhost:8080/",
          "height": 498
        },
        "id": "NxrXyELUphof",
        "outputId": "4014624a-9aa4-4f5b-ee22-ac604b6bded1"
      },
      "source": [
        "!pip install ortools"
      ],
      "execution_count": null,
      "outputs": [
        {
          "output_type": "stream",
          "name": "stdout",
          "text": [
            "Collecting ortools\n",
            "  Downloading ortools-9.1.9490-cp37-cp37m-manylinux_2_17_x86_64.manylinux2014_x86_64.whl (14.5 MB)\n",
            "\u001b[K     |████████████████████████████████| 14.5 MB 93 kB/s \n",
            "\u001b[?25hCollecting absl-py>=0.13\n",
            "  Downloading absl_py-0.14.1-py3-none-any.whl (131 kB)\n",
            "\u001b[K     |████████████████████████████████| 131 kB 57.2 MB/s \n",
            "\u001b[?25hCollecting protobuf>=3.18.0\n",
            "  Downloading protobuf-3.18.1-cp37-cp37m-manylinux_2_17_x86_64.manylinux2014_x86_64.whl (1.1 MB)\n",
            "\u001b[K     |████████████████████████████████| 1.1 MB 46.8 MB/s \n",
            "\u001b[?25hRequirement already satisfied: six in /usr/local/lib/python3.7/dist-packages (from absl-py>=0.13->ortools) (1.15.0)\n",
            "Installing collected packages: protobuf, absl-py, ortools\n",
            "  Attempting uninstall: protobuf\n",
            "    Found existing installation: protobuf 3.17.3\n",
            "    Uninstalling protobuf-3.17.3:\n",
            "      Successfully uninstalled protobuf-3.17.3\n",
            "  Attempting uninstall: absl-py\n",
            "    Found existing installation: absl-py 0.12.0\n",
            "    Uninstalling absl-py-0.12.0:\n",
            "      Successfully uninstalled absl-py-0.12.0\n",
            "\u001b[31mERROR: pip's dependency resolver does not currently take into account all the packages that are installed. This behaviour is the source of the following dependency conflicts.\n",
            "tensorflow-metadata 1.2.0 requires absl-py<0.13,>=0.9, but you have absl-py 0.14.1 which is incompatible.\u001b[0m\n",
            "Successfully installed absl-py-0.14.1 ortools-9.1.9490 protobuf-3.18.1\n"
          ]
        },
        {
          "output_type": "display_data",
          "data": {
            "application/vnd.colab-display-data+json": {
              "pip_warning": {
                "packages": [
                  "google"
                ]
              }
            }
          },
          "metadata": {}
        }
      ]
    },
    {
      "cell_type": "code",
      "metadata": {
        "colab": {
          "base_uri": "https://localhost:8080/"
        },
        "id": "mB-KY1hCpwi6",
        "outputId": "ab1e328c-4a3e-4111-d609-133457349f01"
      },
      "source": [
        "\"\"\"Simple Travelling Salesperson Problem (TSP) between cities.\"\"\"\n",
        "\n",
        "from ortools.constraint_solver import routing_enums_pb2\n",
        "from ortools.constraint_solver import pywrapcp\n",
        "import folium\n",
        "from folium import plugins\n",
        "import pandas as pd\n",
        "import matplotlib.pyplot as plt\n",
        "import seaborn as sns\n",
        "import math\n",
        "\n",
        "%matplotlib inline\n",
        "\n",
        "def create_data_model():\n",
        "    def haversine(lat1, lon1, lat2, lon2):\n",
        "        rad=math.pi/180\n",
        "        dlat=lat2-lat1\n",
        "        dlon=lon2-lon1\n",
        "        R=6372.795477598\n",
        "        a=(math.sin(rad*dlat/2))**2 + math.cos(rad*lat1)*math.cos(rad*lat2)*(math.sin(rad*dlon/2))**2\n",
        "        distancia=2*R*math.asin(math.sqrt(a))\n",
        "        return distancia\n",
        "    df = pd.read_excel('CPMOQ.xlsx', sheet_name=1)\n",
        "    c = 0\n",
        "    la = []\n",
        "    lo = []\n",
        "    for index, row in df.iterrows():\n",
        "        la.append(row['Latitud'])\n",
        "        lo.append(row['Longitud'])\n",
        "        c = c + 1\n",
        "    d = c\n",
        "    data = {}    \n",
        "    data['distance_matrix'] = [[0] * c for i in range(c)]\n",
        "    for i in range(c):\n",
        "        for j in range(d):\n",
        "            data['distance_matrix'][i][j]=(haversine(la[i], lo[i], la[j], lo[j]))  \n",
        "    \n",
        "    data['num_vehicles'] = 1\n",
        "    data['depot'] = 0\n",
        "    return data\n",
        "\n",
        "\n",
        "def print_solution(manager, routing, solution):\n",
        "    \"\"\"Prints solution on console.\"\"\"\n",
        "    print('Objective: {} Km'.format(solution.ObjectiveValue()))\n",
        "    index = routing.Start(0)\n",
        "    plan_output = 'Route for vehicle 0:\\n'\n",
        "    route_distance = 0\n",
        "    while not routing.IsEnd(index):\n",
        "        plan_output += ' {} ->'.format(manager.IndexToNode(index))\n",
        "        previous_index = index\n",
        "        index = solution.Value(routing.NextVar(index))\n",
        "        route_distance += routing.GetArcCostForVehicle(previous_index, index, 0)\n",
        "    plan_output += ' {}\\n'.format(manager.IndexToNode(index))\n",
        "    print(plan_output)\n",
        "    plan_output += 'Route distance: {}Km\\n'.format(route_distance)\n",
        "\n",
        "\n",
        "def main():\n",
        "    \"\"\"Entry point of the program.\"\"\"\n",
        "    # Instantiate the data problem.\n",
        "    data = create_data_model()\n",
        "\n",
        "    # Create the routing index manager.\n",
        "    manager = pywrapcp.RoutingIndexManager(len(data['distance_matrix']),\n",
        "                                           data['num_vehicles'], data['depot'])\n",
        "\n",
        "    # Create Routing Model.\n",
        "    routing = pywrapcp.RoutingModel(manager)\n",
        "\n",
        "\n",
        "    def distance_callback(from_index, to_index):\n",
        "        \"\"\"Returns the distance between the two nodes.\"\"\"\n",
        "        # Convert from routing variable Index to distance matrix NodeIndex.\n",
        "        from_node = manager.IndexToNode(from_index)\n",
        "        to_node = manager.IndexToNode(to_index)\n",
        "        return data['distance_matrix'][from_node][to_node]\n",
        "\n",
        "    transit_callback_index = routing.RegisterTransitCallback(distance_callback)\n",
        "\n",
        "    # Define cost of each arc.\n",
        "    routing.SetArcCostEvaluatorOfAllVehicles(transit_callback_index)\n",
        "\n",
        "    # Setting first solution heuristic.\n",
        "    search_parameters = pywrapcp.DefaultRoutingSearchParameters()\n",
        "    search_parameters.first_solution_strategy = (\n",
        "        routing_enums_pb2.FirstSolutionStrategy.PATH_CHEAPEST_ARC)\n",
        "\n",
        "    # Solve the problem.\n",
        "    solution = routing.SolveWithParameters(search_parameters)\n",
        "\n",
        "    # Print solution on console.\n",
        "    if solution:\n",
        "        print_solution(manager, routing, solution)\n",
        "\n",
        "\n",
        "if __name__ == '__main__':\n",
        "    main()"
      ],
      "execution_count": null,
      "outputs": [
        {
          "output_type": "stream",
          "name": "stdout",
          "text": [
            "Objective: 7 Km\n",
            "Route for vehicle 0:\n",
            " 0 -> 23 -> 24 -> 13 -> 8 -> 19 -> 18 -> 17 -> 11 -> 16 -> 15 -> 14 -> 12 -> 10 -> 9 -> 7 -> 5 -> 4 -> 3 -> 6 -> 2 -> 1 -> 20 -> 21 -> 22 -> 0\n",
            "\n"
          ]
        }
      ]
    }
  ]
}