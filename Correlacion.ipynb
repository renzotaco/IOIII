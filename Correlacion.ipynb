{
  "nbformat": 4,
  "nbformat_minor": 0,
  "metadata": {
    "colab": {
      "name": "Correlacion.ipynb",
      "provenance": [],
      "authorship_tag": "ABX9TyNEBnGYHTFxlGOW2ZvoIyY3",
      "include_colab_link": true
    },
    "kernelspec": {
      "name": "python3",
      "display_name": "Python 3"
    },
    "language_info": {
      "name": "python"
    }
  },
  "cells": [
    {
      "cell_type": "markdown",
      "metadata": {
        "id": "view-in-github",
        "colab_type": "text"
      },
      "source": [
        "<a href=\"https://colab.research.google.com/github/renzotaco/IOIII/blob/main/Correlacion.ipynb\" target=\"_parent\"><img src=\"https://colab.research.google.com/assets/colab-badge.svg\" alt=\"Open In Colab\"/></a>"
      ]
    },
    {
      "cell_type": "code",
      "metadata": {
        "colab": {
          "base_uri": "https://localhost:8080/",
          "height": 1000
        },
        "id": "qY46ttbXNQqx",
        "outputId": "a9e765b3-7b10-480f-836e-9763b5d8cb90"
      },
      "source": [
        "!pip install pingouin"
      ],
      "execution_count": 2,
      "outputs": [
        {
          "output_type": "stream",
          "name": "stdout",
          "text": [
            "Collecting pingouin\n",
            "  Downloading pingouin-0.5.0.tar.gz (182 kB)\n",
            "\u001b[?25l\r\u001b[K     |█▉                              | 10 kB 16.8 MB/s eta 0:00:01\r\u001b[K     |███▋                            | 20 kB 21.7 MB/s eta 0:00:01\r\u001b[K     |█████▍                          | 30 kB 25.8 MB/s eta 0:00:01\r\u001b[K     |███████▏                        | 40 kB 23.7 MB/s eta 0:00:01\r\u001b[K     |█████████                       | 51 kB 9.4 MB/s eta 0:00:01\r\u001b[K     |██████████▊                     | 61 kB 10.7 MB/s eta 0:00:01\r\u001b[K     |████████████▌                   | 71 kB 9.0 MB/s eta 0:00:01\r\u001b[K     |██████████████▍                 | 81 kB 9.7 MB/s eta 0:00:01\r\u001b[K     |████████████████▏               | 92 kB 10.8 MB/s eta 0:00:01\r\u001b[K     |██████████████████              | 102 kB 8.5 MB/s eta 0:00:01\r\u001b[K     |███████████████████▊            | 112 kB 8.5 MB/s eta 0:00:01\r\u001b[K     |█████████████████████▌          | 122 kB 8.5 MB/s eta 0:00:01\r\u001b[K     |███████████████████████▎        | 133 kB 8.5 MB/s eta 0:00:01\r\u001b[K     |█████████████████████████       | 143 kB 8.5 MB/s eta 0:00:01\r\u001b[K     |██████████████████████████▉     | 153 kB 8.5 MB/s eta 0:00:01\r\u001b[K     |████████████████████████████▊   | 163 kB 8.5 MB/s eta 0:00:01\r\u001b[K     |██████████████████████████████▌ | 174 kB 8.5 MB/s eta 0:00:01\r\u001b[K     |████████████████████████████████| 182 kB 8.5 MB/s \n",
            "\u001b[?25hRequirement already satisfied: numpy>=1.19 in /usr/local/lib/python3.7/dist-packages (from pingouin) (1.19.5)\n",
            "Collecting scipy>=1.7\n",
            "  Downloading scipy-1.7.2-cp37-cp37m-manylinux_2_12_x86_64.manylinux2010_x86_64.whl (38.2 MB)\n",
            "\u001b[K     |████████████████████████████████| 38.2 MB 24 kB/s \n",
            "\u001b[?25hRequirement already satisfied: pandas>=1.0 in /usr/local/lib/python3.7/dist-packages (from pingouin) (1.1.5)\n",
            "Requirement already satisfied: matplotlib>=3.0.2 in /usr/local/lib/python3.7/dist-packages (from pingouin) (3.2.2)\n",
            "Requirement already satisfied: seaborn>=0.9.0 in /usr/local/lib/python3.7/dist-packages (from pingouin) (0.11.2)\n",
            "Collecting statsmodels>=0.12.0\n",
            "  Downloading statsmodels-0.13.0-cp37-cp37m-manylinux_2_17_x86_64.manylinux2014_x86_64.whl (9.8 MB)\n",
            "\u001b[K     |████████████████████████████████| 9.8 MB 40.5 MB/s \n",
            "\u001b[?25hRequirement already satisfied: scikit-learn in /usr/local/lib/python3.7/dist-packages (from pingouin) (0.22.2.post1)\n",
            "Collecting pandas_flavor>=0.2.0\n",
            "  Downloading pandas_flavor-0.2.0-py2.py3-none-any.whl (6.6 kB)\n",
            "Collecting outdated\n",
            "  Downloading outdated-0.2.1-py3-none-any.whl (7.5 kB)\n",
            "Requirement already satisfied: tabulate in /usr/local/lib/python3.7/dist-packages (from pingouin) (0.8.9)\n",
            "Requirement already satisfied: pyparsing!=2.0.4,!=2.1.2,!=2.1.6,>=2.0.1 in /usr/local/lib/python3.7/dist-packages (from matplotlib>=3.0.2->pingouin) (2.4.7)\n",
            "Requirement already satisfied: python-dateutil>=2.1 in /usr/local/lib/python3.7/dist-packages (from matplotlib>=3.0.2->pingouin) (2.8.2)\n",
            "Requirement already satisfied: cycler>=0.10 in /usr/local/lib/python3.7/dist-packages (from matplotlib>=3.0.2->pingouin) (0.11.0)\n",
            "Requirement already satisfied: kiwisolver>=1.0.1 in /usr/local/lib/python3.7/dist-packages (from matplotlib>=3.0.2->pingouin) (1.3.2)\n",
            "Requirement already satisfied: pytz>=2017.2 in /usr/local/lib/python3.7/dist-packages (from pandas>=1.0->pingouin) (2018.9)\n",
            "Requirement already satisfied: xarray in /usr/local/lib/python3.7/dist-packages (from pandas_flavor>=0.2.0->pingouin) (0.18.2)\n",
            "Requirement already satisfied: six>=1.5 in /usr/local/lib/python3.7/dist-packages (from python-dateutil>=2.1->matplotlib>=3.0.2->pingouin) (1.15.0)\n",
            "Requirement already satisfied: patsy>=0.5.2 in /usr/local/lib/python3.7/dist-packages (from statsmodels>=0.12.0->pingouin) (0.5.2)\n",
            "Requirement already satisfied: requests in /usr/local/lib/python3.7/dist-packages (from outdated->pingouin) (2.23.0)\n",
            "Collecting littleutils\n",
            "  Downloading littleutils-0.2.2.tar.gz (6.6 kB)\n",
            "Requirement already satisfied: idna<3,>=2.5 in /usr/local/lib/python3.7/dist-packages (from requests->outdated->pingouin) (2.10)\n",
            "Requirement already satisfied: urllib3!=1.25.0,!=1.25.1,<1.26,>=1.21.1 in /usr/local/lib/python3.7/dist-packages (from requests->outdated->pingouin) (1.24.3)\n",
            "Requirement already satisfied: chardet<4,>=3.0.2 in /usr/local/lib/python3.7/dist-packages (from requests->outdated->pingouin) (3.0.4)\n",
            "Requirement already satisfied: certifi>=2017.4.17 in /usr/local/lib/python3.7/dist-packages (from requests->outdated->pingouin) (2021.10.8)\n",
            "Requirement already satisfied: joblib>=0.11 in /usr/local/lib/python3.7/dist-packages (from scikit-learn->pingouin) (1.1.0)\n",
            "Requirement already satisfied: setuptools>=40.4 in /usr/local/lib/python3.7/dist-packages (from xarray->pandas_flavor>=0.2.0->pingouin) (57.4.0)\n",
            "Building wheels for collected packages: pingouin, littleutils\n",
            "  Building wheel for pingouin (setup.py) ... \u001b[?25l\u001b[?25hdone\n",
            "  Created wheel for pingouin: filename=pingouin-0.5.0-py3-none-any.whl size=193661 sha256=e3dcb47cdf865c3f73b4788a0c07b5f936d686e8c9e9a485c397d93f26c533fd\n",
            "  Stored in directory: /root/.cache/pip/wheels/14/46/f9/cedd81d68d2515c24bbbd000d5b347e4fe092ccc4b568f7f70\n",
            "  Building wheel for littleutils (setup.py) ... \u001b[?25l\u001b[?25hdone\n",
            "  Created wheel for littleutils: filename=littleutils-0.2.2-py3-none-any.whl size=7048 sha256=9e8aa9491dc4517dc193c9296199ab0e0aaeaf2793cb1c6f9cdb7ed907e5f3ad\n",
            "  Stored in directory: /root/.cache/pip/wheels/d6/64/cd/32819b511a488e4993f2fab909a95330289c3f4e0f6ef4676d\n",
            "Successfully built pingouin littleutils\n",
            "Installing collected packages: scipy, littleutils, statsmodels, pandas-flavor, outdated, pingouin\n",
            "  Attempting uninstall: scipy\n",
            "    Found existing installation: scipy 1.4.1\n",
            "    Uninstalling scipy-1.4.1:\n",
            "      Successfully uninstalled scipy-1.4.1\n",
            "  Attempting uninstall: statsmodels\n",
            "    Found existing installation: statsmodels 0.10.2\n",
            "    Uninstalling statsmodels-0.10.2:\n",
            "      Successfully uninstalled statsmodels-0.10.2\n",
            "\u001b[31mERROR: pip's dependency resolver does not currently take into account all the packages that are installed. This behaviour is the source of the following dependency conflicts.\n",
            "albumentations 0.1.12 requires imgaug<0.2.7,>=0.2.5, but you have imgaug 0.2.9 which is incompatible.\u001b[0m\n",
            "Successfully installed littleutils-0.2.2 outdated-0.2.1 pandas-flavor-0.2.0 pingouin-0.5.0 scipy-1.7.2 statsmodels-0.13.0\n"
          ]
        },
        {
          "output_type": "display_data",
          "data": {
            "application/vnd.colab-display-data+json": {
              "pip_warning": {
                "packages": [
                  "scipy",
                  "statsmodels"
                ]
              }
            }
          },
          "metadata": {}
        }
      ]
    },
    {
      "cell_type": "code",
      "metadata": {
        "id": "fANQt34ENH9U"
      },
      "source": [
        "# Tratamiento de datos\n",
        "# ==============================================================================\n",
        "import pandas as pd\n",
        "import numpy as np\n",
        "from sklearn.datasets import load_diabetes\n",
        "\n",
        "# Gráficos\n",
        "# ==============================================================================\n",
        "import matplotlib.pyplot as plt\n",
        "from matplotlib import style\n",
        "import seaborn as sns\n",
        "\n",
        "# Preprocesado y análisis\n",
        "# ==============================================================================\n",
        "import statsmodels.api as sm\n",
        "import pingouin as pg\n",
        "from scipy import stats\n",
        "from scipy.stats import pearsonr\n",
        "\n",
        "# Configuración matplotlib\n",
        "# ==============================================================================\n",
        "plt.style.use('ggplot')\n",
        "\n",
        "# Configuración warnings\n",
        "# ==============================================================================\n",
        "import warnings\n",
        "warnings.filterwarnings('ignore')"
      ],
      "execution_count": 1,
      "outputs": []
    },
    {
      "cell_type": "code",
      "metadata": {
        "colab": {
          "base_uri": "https://localhost:8080/"
        },
        "id": "15TwlUqJNKRE",
        "outputId": "e1cc7a78-de8c-40e1-cdbc-b136137061c3"
      },
      "source": [
        "url = ('https://raw.githubusercontent.com/JoaquinAmatRodrigo/' +\n",
        "       'Estadistica-machine-learning-python/master/data/Howell1.csv')\n",
        "datos = pd.read_csv(url)\n",
        "\n",
        "# Se utilizan únicamente información de individuos mayores de 18 años.\n",
        "datos = datos[datos.age > 18]\n",
        "\n",
        "datos.info()"
      ],
      "execution_count": 2,
      "outputs": [
        {
          "output_type": "stream",
          "name": "stdout",
          "text": [
            "<class 'pandas.core.frame.DataFrame'>\n",
            "Int64Index: 346 entries, 0 to 543\n",
            "Data columns (total 4 columns):\n",
            " #   Column  Non-Null Count  Dtype  \n",
            "---  ------  --------------  -----  \n",
            " 0   height  346 non-null    float64\n",
            " 1   weight  346 non-null    float64\n",
            " 2   age     346 non-null    float64\n",
            " 3   male    346 non-null    int64  \n",
            "dtypes: float64(3), int64(1)\n",
            "memory usage: 13.5 KB\n"
          ]
        }
      ]
    },
    {
      "cell_type": "code",
      "metadata": {
        "colab": {
          "base_uri": "https://localhost:8080/",
          "height": 282
        },
        "id": "d5eDOMpDNggm",
        "outputId": "e498e5ac-b1b3-4bc7-a9b9-3e2a7decfdeb"
      },
      "source": [
        "# Gráfico\n",
        "# ==============================================================================\n",
        "fig, ax = plt.subplots(1, 1, figsize=(6,4))\n",
        "ax.scatter(x=datos.height, y=datos.weight, alpha= 0.8)\n",
        "ax.set_xlabel('Altura')\n",
        "ax.set_ylabel('Peso');"
      ],
      "execution_count": 3,
      "outputs": [
        {
          "output_type": "display_data",
          "data": {
            "image/png": "[encoded data removed]",
            "text/plain": [
              "<Figure size 432x288 with 1 Axes>"
            ]
          },
          "metadata": {
            "needs_background": "light"
          }
        }
      ]
    },
    {
      "cell_type": "code",
      "metadata": {
        "colab": {
          "base_uri": "https://localhost:8080/",
          "height": 297
        },
        "id": "6GoxXnn_NlX0",
        "outputId": "50a52b93-9945-498c-c90e-1b10b4bef9f0"
      },
      "source": [
        "# Gráfico distribución variables\n",
        "# ==============================================================================\n",
        "fig, axs = plt.subplots(nrows=1, ncols=2, figsize=(10, 4))\n",
        "\n",
        "axs[0].hist(x=datos.height, bins=20, color=\"#3182bd\", alpha=0.5)\n",
        "axs[0].plot(datos.height, np.full_like(datos.height, -0.01), '|k', markeredgewidth=1)\n",
        "axs[0].set_title('Distribución altura (height)')\n",
        "axs[0].set_xlabel('height')\n",
        "axs[0].set_ylabel('counts')\n",
        "\n",
        "axs[1].hist(x=datos.weight, bins=20, color=\"#3182bd\", alpha=0.5)\n",
        "axs[1].plot(datos.weight, np.full_like(datos.weight, -0.01), '|k', markeredgewidth=1)\n",
        "axs[1].set_title('Distribución peso (weight)')\n",
        "axs[1].set_xlabel('weight')\n",
        "axs[1].set_ylabel('counts')\n",
        "\n",
        "\n",
        "plt.tight_layout();"
      ],
      "execution_count": 4,
      "outputs": [
        {
          "output_type": "display_data",
          "data": {
            "image/png": "[encoded data removed]",
            "text/plain": [
              "<Figure size 720x288 with 2 Axes>"
            ]
          },
          "metadata": {
            "needs_background": "light"
          }
        }
      ]
    },
    {
      "cell_type": "code",
      "metadata": {
        "colab": {
          "base_uri": "https://localhost:8080/",
          "height": 293
        },
        "id": "1u6kz0dsNoxM",
        "outputId": "b42599b0-cd40-44d3-e7b7-5a6e15115ba3"
      },
      "source": [
        "# Gráfico Q-Q\n",
        "# ==============================================================================\n",
        "fig, axs = plt.subplots(nrows=1, ncols=2, figsize=(10, 4))\n",
        "\n",
        "sm.qqplot(\n",
        "    datos.height,\n",
        "    fit   = True,\n",
        "    line  = 'q',\n",
        "    alpha = 0.4,\n",
        "    lw    = 2,\n",
        "    ax    = axs[0]\n",
        ")\n",
        "axs[0].set_title('Gráfico Q-Q height', fontsize = 10, fontweight = \"bold\")\n",
        "axs[0].tick_params(labelsize = 7)\n",
        "\n",
        "sm.qqplot(\n",
        "    datos.height,\n",
        "    fit   = True,\n",
        "    line  = 'q',\n",
        "    alpha = 0.4,\n",
        "    lw    = 2,\n",
        "    ax    = axs[1]\n",
        ")\n",
        "axs[1].set_title('Gráfico Q-Q height', fontsize = 10, fontweight = \"bold\")\n",
        "axs[1].tick_params(labelsize = 7)"
      ],
      "execution_count": 5,
      "outputs": [
        {
          "output_type": "display_data",
          "data": {
            "image/png": "[encoded data removed]",
            "text/plain": [
              "<Figure size 720x288 with 2 Axes>"
            ]
          },
          "metadata": {
            "needs_background": "light"
          }
        }
      ]
    },
    {
      "cell_type": "code",
      "metadata": {
        "colab": {
          "base_uri": "https://localhost:8080/"
        },
        "id": "ywq5D9TPNuPB",
        "outputId": "26252606-e407-446a-914c-22be6b4a0585"
      },
      "source": [
        "# Normalidad de los residuos Shapiro-Wilk test\n",
        "# ==============================================================================\n",
        "shapiro_test = stats.shapiro(datos.height)\n",
        "print(f\"Variable height: {shapiro_test}\")\n",
        "shapiro_test = stats.shapiro(datos.weight)\n",
        "print(f\"Variable weight: {shapiro_test}\")"
      ],
      "execution_count": 6,
      "outputs": [
        {
          "output_type": "stream",
          "name": "stdout",
          "text": [
            "Variable height: ShapiroResult(statistic=0.9910696148872375, pvalue=0.03439393267035484)\n",
            "Variable weight: ShapiroResult(statistic=0.9911819696426392, pvalue=0.03673496097326279)\n"
          ]
        }
      ]
    },
    {
      "cell_type": "code",
      "metadata": {
        "colab": {
          "base_uri": "https://localhost:8080/"
        },
        "id": "tPIIuum6NwpG",
        "outputId": "12fc8503-593d-41b2-de37-ba4116f08ca4"
      },
      "source": [
        "# Normalidad de los residuos D'Agostino's K-squared test\n",
        "# ==============================================================================\n",
        "k2, p_value = stats.normaltest(datos.height)\n",
        "print(f\"Variable height: Estadítico = {k2}, p-value = {p_value}\")\n",
        "k2, p_value = stats.normaltest(datos.weight)\n",
        "print(f\"Variable weight: Estadítico = {k2}, p-value = {p_value}\")"
      ],
      "execution_count": 7,
      "outputs": [
        {
          "output_type": "stream",
          "name": "stdout",
          "text": [
            "Variable height: Estadítico = 7.210790495766356, p-value = 0.02717670115638557\n",
            "Variable weight: Estadítico = 8.402628478646022, p-value = 0.014975881988445145\n"
          ]
        }
      ]
    },
    {
      "cell_type": "code",
      "metadata": {
        "colab": {
          "base_uri": "https://localhost:8080/",
          "height": 311
        },
        "id": "ZYtgoP3dN38k",
        "outputId": "a9bb2328-2fd2-440b-95b1-3641a7a0b534"
      },
      "source": [
        "# Transformación logarítmica de los datos\n",
        "# ==============================================================================\n",
        "fig, ax = plt.subplots(nrows=1, ncols=1, figsize=(6, 4))\n",
        "\n",
        "sm.qqplot(\n",
        "    np.log(datos.height),\n",
        "    fit   = True,\n",
        "    line  = 'q',\n",
        "    alpha = 0.4,\n",
        "    lw    = 2,\n",
        "    ax    = ax\n",
        ")\n",
        "ax.set_title('Gráfico Q-Q log(height)', fontsize = 13)\n",
        "ax.tick_params(labelsize = 7)\n",
        "\n",
        "\n",
        "shapiro_test = stats.shapiro(np.log(datos.height))\n",
        "print(f\"Variable height: {shapiro_test}\")"
      ],
      "execution_count": 8,
      "outputs": [
        {
          "output_type": "stream",
          "name": "stdout",
          "text": [
            "Variable height: ShapiroResult(statistic=0.9922674894332886, pvalue=0.06951289623975754)\n"
          ]
        },
        {
          "output_type": "display_data",
          "data": {
            "image/png": "[encoded data removed]",
            "text/plain": [
              "<Figure size 432x288 with 1 Axes>"
            ]
          },
          "metadata": {
            "needs_background": "light"
          }
        }
      ]
    },
    {
      "cell_type": "code",
      "metadata": {
        "colab": {
          "base_uri": "https://localhost:8080/"
        },
        "id": "R0uwLRTWN7H2",
        "outputId": "2d7013f5-2443-4afb-ab79-2278046d190e"
      },
      "source": [
        "# Cálculo de correlación con Pandas\n",
        "# ==============================================================================\n",
        "print('Correlación Pearson: ', datos['weight'].corr(datos['height'], method='pearson'))\n",
        "print('Correlación spearman: ', datos['weight'].corr(datos['height'], method='spearman'))\n",
        "print('Correlación kendall: ', datos['weight'].corr(datos['height'], method='kendall'))"
      ],
      "execution_count": 9,
      "outputs": [
        {
          "output_type": "stream",
          "name": "stdout",
          "text": [
            "Correlación Pearson:  0.7528177220327672\n",
            "Correlación spearman:  0.7510966609219974\n",
            "Correlación kendall:  0.5639709660523899\n"
          ]
        }
      ]
    },
    {
      "cell_type": "code",
      "metadata": {
        "colab": {
          "base_uri": "https://localhost:8080/"
        },
        "id": "Ti6qHUSdN-r1",
        "outputId": "46505a30-cd1b-4a0c-b5bc-1848dd4c43b1"
      },
      "source": [
        "# Cálculo de correlación y significancia con Scipy\n",
        "# ==============================================================================\n",
        "r, p = stats.pearsonr(datos['weight'], datos['height'])\n",
        "print(f\"Correlación Pearson: r={r}, p-value={p}\")\n",
        "\n",
        "r, p = stats.spearmanr(datos['weight'], datos['height'])\n",
        "print(f\"Correlación Spearman: r={r}, p-value={p}\")\n",
        "\n",
        "r, p = stats.kendalltau(datos['weight'], datos['height'])\n",
        "print(f\"Correlación Pearson: r={r}, p-value={p}\")"
      ],
      "execution_count": 10,
      "outputs": [
        {
          "output_type": "stream",
          "name": "stdout",
          "text": [
            "Correlación Pearson: r=0.7528177220327671, p-value=1.894103779417439e-64\n",
            "Correlación Spearman: r=0.7510966609219974, p-value=5.2882247217804375e-64\n",
            "Correlación Pearson: r=0.5639709660523899, p-value=3.162649137764771e-54\n"
          ]
        }
      ]
    },
    {
      "cell_type": "code",
      "metadata": {
        "colab": {
          "base_uri": "https://localhost:8080/",
          "height": 206
        },
        "id": "8tQQPAWuODl1",
        "outputId": "113bc045-23b6-4171-f0c2-404ee830ad8d"
      },
      "source": [
        "# Cálculo de correlación, significancia e intervalos con pingouin\n",
        "# ==============================================================================\n",
        "display(pg.corr(datos['weight'], datos['height'], method='pearson'))\n",
        "display(pg.corr(datos['weight'], datos['height'], method='spearman'))\n",
        "display(pg.corr(datos['weight'], datos['height'], method='kendall'))"
      ],
      "execution_count": 11,
      "outputs": [
        {
          "output_type": "display_data",
          "data": {
            "text/html": [
              "<div>\n",
              "<style scoped>\n",
              "    .dataframe tbody tr th:only-of-type {\n",
              "        vertical-align: middle;\n",
              "    }\n",
              "\n",
              "    .dataframe tbody tr th {\n",
              "        vertical-align: top;\n",
              "    }\n",
              "\n",
              "    .dataframe thead th {\n",
              "        text-align: right;\n",
              "    }\n",
              "</style>\n",
              "<table border=\"1\" class=\"dataframe\">\n",
              "  <thead>\n",
              "    <tr style=\"text-align: right;\">\n",
              "      <th></th>\n",
              "      <th>n</th>\n",
              "      <th>r</th>\n",
              "      <th>CI95%</th>\n",
              "      <th>p-val</th>\n",
              "      <th>BF10</th>\n",
              "      <th>power</th>\n",
              "    </tr>\n",
              "  </thead>\n",
              "  <tbody>\n",
              "    <tr>\n",
              "      <th>pearson</th>\n",
              "      <td>346</td>\n",
              "      <td>0.752818</td>\n",
              "      <td>[0.7, 0.8]</td>\n",
              "      <td>1.894104e-64</td>\n",
              "      <td>8.84e+60</td>\n",
              "      <td>1.0</td>\n",
              "    </tr>\n",
              "  </tbody>\n",
              "</table>\n",
              "</div>"
            ],
            "text/plain": [
              "           n         r       CI95%         p-val      BF10  power\n",
              "pearson  346  0.752818  [0.7, 0.8]  1.894104e-64  8.84e+60    1.0"
            ]
          },
          "metadata": {}
        },
        {
          "output_type": "display_data",
          "data": {
            "text/html": [
              "<div>\n",
              "<style scoped>\n",
              "    .dataframe tbody tr th:only-of-type {\n",
              "        vertical-align: middle;\n",
              "    }\n",
              "\n",
              "    .dataframe tbody tr th {\n",
              "        vertical-align: top;\n",
              "    }\n",
              "\n",
              "    .dataframe thead th {\n",
              "        text-align: right;\n",
              "    }\n",
              "</style>\n",
              "<table border=\"1\" class=\"dataframe\">\n",
              "  <thead>\n",
              "    <tr style=\"text-align: right;\">\n",
              "      <th></th>\n",
              "      <th>n</th>\n",
              "      <th>r</th>\n",
              "      <th>CI95%</th>\n",
              "      <th>p-val</th>\n",
              "      <th>power</th>\n",
              "    </tr>\n",
              "  </thead>\n",
              "  <tbody>\n",
              "    <tr>\n",
              "      <th>spearman</th>\n",
              "      <td>346</td>\n",
              "      <td>0.751097</td>\n",
              "      <td>[0.7, 0.79]</td>\n",
              "      <td>5.288225e-64</td>\n",
              "      <td>1.0</td>\n",
              "    </tr>\n",
              "  </tbody>\n",
              "</table>\n",
              "</div>"
            ],
            "text/plain": [
              "            n         r        CI95%         p-val  power\n",
              "spearman  346  0.751097  [0.7, 0.79]  5.288225e-64    1.0"
            ]
          },
          "metadata": {}
        },
        {
          "output_type": "display_data",
          "data": {
            "text/html": [
              "<div>\n",
              "<style scoped>\n",
              "    .dataframe tbody tr th:only-of-type {\n",
              "        vertical-align: middle;\n",
              "    }\n",
              "\n",
              "    .dataframe tbody tr th {\n",
              "        vertical-align: top;\n",
              "    }\n",
              "\n",
              "    .dataframe thead th {\n",
              "        text-align: right;\n",
              "    }\n",
              "</style>\n",
              "<table border=\"1\" class=\"dataframe\">\n",
              "  <thead>\n",
              "    <tr style=\"text-align: right;\">\n",
              "      <th></th>\n",
              "      <th>n</th>\n",
              "      <th>r</th>\n",
              "      <th>CI95%</th>\n",
              "      <th>p-val</th>\n",
              "      <th>power</th>\n",
              "    </tr>\n",
              "  </thead>\n",
              "  <tbody>\n",
              "    <tr>\n",
              "      <th>kendall</th>\n",
              "      <td>346</td>\n",
              "      <td>0.563971</td>\n",
              "      <td>[0.49, 0.63]</td>\n",
              "      <td>3.162649e-54</td>\n",
              "      <td>1.0</td>\n",
              "    </tr>\n",
              "  </tbody>\n",
              "</table>\n",
              "</div>"
            ],
            "text/plain": [
              "           n         r         CI95%         p-val  power\n",
              "kendall  346  0.563971  [0.49, 0.63]  3.162649e-54    1.0"
            ]
          },
          "metadata": {}
        }
      ]
    }
  ]
}