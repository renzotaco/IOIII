{
  "nbformat": 4,
  "nbformat_minor": 0,
  "metadata": {
    "colab": {
      "name": "pnl01.ipynb",
      "provenance": [],
      "authorship_tag": "ABX9TyPIX3CfQUkghWecgyWMv77t",
      "include_colab_link": true
    },
    "kernelspec": {
      "name": "python3",
      "display_name": "Python 3"
    },
    "language_info": {
      "name": "python"
    }
  },
  "cells": [
    {
      "cell_type": "markdown",
      "metadata": {
        "id": "view-in-github",
        "colab_type": "text"
      },
      "source": [
        "<a href=\"https://colab.research.google.com/github/renzotaco/IOIII/blob/main/pnl01.ipynb\" target=\"_parent\"><img src=\"https://colab.research.google.com/assets/colab-badge.svg\" alt=\"Open In Colab\"/></a>"
      ]
    },
    {
      "cell_type": "code",
      "metadata": {
        "colab": {
          "base_uri": "https://localhost:8080/"
        },
        "id": "KsTZmUFTmsNT",
        "outputId": "47023893-83ae-40f8-c191-cca216e47419"
      },
      "source": [
        "!pip install sympy"
      ],
      "execution_count": 2,
      "outputs": [
        {
          "output_type": "stream",
          "name": "stdout",
          "text": [
            "Requirement already satisfied: sympy in /usr/local/lib/python3.7/dist-packages (1.7.1)\n",
            "Requirement already satisfied: mpmath>=0.19 in /usr/local/lib/python3.7/dist-packages (from sympy) (1.2.1)\n"
          ]
        }
      ]
    },
    {
      "cell_type": "code",
      "metadata": {
        "colab": {
          "base_uri": "https://localhost:8080/"
        },
        "id": "x51Ug6LHmYXv",
        "outputId": "6a12d612-6e1c-48d6-f2b7-324e822033d6"
      },
      "source": [
        "import sympy as sy\n",
        "\n",
        "x, y = sy.symbols(\"x y\")\n",
        "\n",
        "# nsolve needs the (in this case: two) equations, the names of the variables \n",
        "# (x,y) we try to evaluate solutions for, and an initial guess (1,1) for the \n",
        "# solution\n",
        "print(sy.nsolve((x**3+sy.exp(y)-4,x+3*y),(x,y),(1,1)) )"
      ],
      "execution_count": 4,
      "outputs": [
        {
          "output_type": "stream",
          "name": "stdout",
          "text": [
            "Matrix([[1.50281519319939], [-0.500938397733129]])\n"
          ]
        }
      ]
    },
    {
      "cell_type": "code",
      "metadata": {
        "colab": {
          "base_uri": "https://localhost:8080/",
          "height": 37
        },
        "id": "uwW6GmQkmDZb",
        "outputId": "28b842cf-798f-4665-fe4f-21009be0e55f"
      },
      "source": [
        "\n",
        "from sympy import * \n",
        "a,b=symbols('a b') \n",
        "nonlinsolve([a**2 + a, a - b], [a, b])"
      ],
      "execution_count": 5,
      "outputs": [
        {
          "output_type": "execute_result",
          "data": {
            "text/latex": "$\\displaystyle \\left\\{\\left( -1, \\  -1\\right), \\left( 0, \\  0\\right)\\right\\}$",
            "text/plain": [
              "FiniteSet((-1, -1), (0, 0))"
            ]
          },
          "metadata": {},
          "execution_count": 5
        }
      ]
    },
    {
      "cell_type": "code",
      "metadata": {
        "colab": {
          "base_uri": "https://localhost:8080/",
          "height": 38
        },
        "id": "-yaxsKsGnBI6",
        "outputId": "62b9a72f-6feb-49ff-b11f-52e0f82d2a02"
      },
      "source": [
        "x=Symbol('x') \n",
        "f=symbols('f', cls=Function) \n",
        "f(x)"
      ],
      "execution_count": 7,
      "outputs": [
        {
          "output_type": "execute_result",
          "data": {
            "text/latex": "$\\displaystyle f{\\left(x \\right)}$",
            "text/plain": [
              "f(x)"
            ]
          },
          "metadata": {},
          "execution_count": 7
        }
      ]
    },
    {
      "cell_type": "code",
      "metadata": {
        "colab": {
          "base_uri": "https://localhost:8080/",
          "height": 52
        },
        "id": "ldyclsAgurpT",
        "outputId": "7d3c7dbd-60ca-4907-cf0f-7f6009517b20"
      },
      "source": [
        "f(x).diff(x)"
      ],
      "execution_count": 8,
      "outputs": [
        {
          "output_type": "execute_result",
          "data": {
            "text/latex": "$\\displaystyle \\frac{d}{d x} f{\\left(x \\right)}$",
            "text/plain": [
              "Derivative(f(x), x)"
            ]
          },
          "metadata": {},
          "execution_count": 8
        }
      ]
    },
    {
      "cell_type": "code",
      "metadata": {
        "colab": {
          "base_uri": "https://localhost:8080/",
          "height": 52
        },
        "id": "tMyvquUvuvz0",
        "outputId": "e49a160e-c0f9-45cf-9383-b0db6546cf45"
      },
      "source": [
        "eqn=Eq(f(x).diff(x)-f(x), sin(x)) \n",
        "eqn"
      ],
      "execution_count": 9,
      "outputs": [
        {
          "output_type": "execute_result",
          "data": {
            "text/latex": "$\\displaystyle - f{\\left(x \\right)} + \\frac{d}{d x} f{\\left(x \\right)} = \\sin{\\left(x \\right)}$",
            "text/plain": [
              "Eq(-f(x) + Derivative(f(x), x), sin(x))"
            ]
          },
          "metadata": {},
          "execution_count": 9
        }
      ]
    },
    {
      "cell_type": "code",
      "metadata": {
        "colab": {
          "base_uri": "https://localhost:8080/",
          "height": 58
        },
        "id": "jwVJ-Hj9u0GQ",
        "outputId": "7165d5ef-e475-4a7e-e733-569e1c46e904"
      },
      "source": [
        " dsolve(eqn, f(x))"
      ],
      "execution_count": 10,
      "outputs": [
        {
          "output_type": "execute_result",
          "data": {
            "text/latex": "$\\displaystyle f{\\left(x \\right)} = \\left(C_{1} - \\frac{e^{- x} \\sin{\\left(x \\right)}}{2} - \\frac{e^{- x} \\cos{\\left(x \\right)}}{2}\\right) e^{x}$",
            "text/plain": [
              "Eq(f(x), (C1 - exp(-x)*sin(x)/2 - exp(-x)*cos(x)/2)*exp(x))"
            ]
          },
          "metadata": {},
          "execution_count": 10
        }
      ]
    }
  ]
}