{
 "cells": [
  {
   "cell_type": "code",
   "execution_count": 12,
   "id": "9559dae1",
   "metadata": {},
   "outputs": [],
   "source": [
    "### Bibliotecas \n",
    "# instalar pulp: pip install pulp\n",
    "import pandas as np\n",
    "from pulp import *\n",
    "from pandas import DataFrame"
   ]
  },
  {
   "cell_type": "code",
   "execution_count": 13,
   "id": "2cb1c033",
   "metadata": {},
   "outputs": [],
   "source": [
    "### Ciudades\n",
    "origen = ['Lima','Arequipa','Trujillo']\n",
    "destino = ['Tacna','Moquegua']"
   ]
  },
  {
   "cell_type": "code",
   "execution_count": 14,
   "id": "8eb39026",
   "metadata": {},
   "outputs": [],
   "source": [
    "oferta = {'Lima': 1000, 'Arequipa' : 1500, 'Trujillo': 1200}\n",
    "demanda = {'Tacna': 2300, 'Moquegua' : 1400}"
   ]
  },
  {
   "cell_type": "code",
   "execution_count": 15,
   "id": "435f69e6",
   "metadata": {},
   "outputs": [],
   "source": [
    "costo_envio ={'Lima':{'Tacna': 80, 'Moquegua' : 215},\n",
    "             'Arequipa':{'Tacna': 100, 'Moquegua' : 108},\n",
    "             'Trujillo': {'Tacna': 102, 'Moquegua' : 68}}"
   ]
  },
  {
   "cell_type": "code",
   "execution_count": 16,
   "id": "405f7b7c",
   "metadata": {},
   "outputs": [],
   "source": [
    "### Resolviendo el problema\n",
    "### Declaramos la función objetivo... nota que buscamos minimizar el costo(LpMinimize)\n",
    "prob = LpProblem('Transporte', LpMinimize)"
   ]
  },
  {
   "cell_type": "code",
   "execution_count": 19,
   "id": "58b2756d",
   "metadata": {},
   "outputs": [],
   "source": [
    "rutas = [(i,j) for i in origen for j in destino]\n"
   ]
  },
  {
   "cell_type": "code",
   "execution_count": 20,
   "id": "bc969d14",
   "metadata": {},
   "outputs": [],
   "source": [
    "cantidad = LpVariable.dicts('Cantidad de Envio',(origen,destino),0)"
   ]
  },
  {
   "cell_type": "code",
   "execution_count": 21,
   "id": "f91660f3",
   "metadata": {},
   "outputs": [],
   "source": [
    "prob += lpSum(cantidad[i][j]*costo_envio[i][j] for (i,j) in rutas)"
   ]
  },
  {
   "cell_type": "code",
   "execution_count": 22,
   "id": "4b5ba717",
   "metadata": {},
   "outputs": [],
   "source": [
    "for j in destino:\n",
    "    prob += lpSum(cantidad[i][j] for i in origen) == demanda[j]"
   ]
  },
  {
   "cell_type": "code",
   "execution_count": 23,
   "id": "4360a79c",
   "metadata": {},
   "outputs": [],
   "source": [
    "for i in origen:\n",
    "    prob += lpSum(cantidad[i][j] for j in destino) <= oferta[i]"
   ]
  },
  {
   "cell_type": "code",
   "execution_count": 24,
   "id": "6da860e2",
   "metadata": {},
   "outputs": [
    {
     "name": "stdout",
     "output_type": "stream",
     "text": [
      "Status: Optimal\n"
     ]
    }
   ],
   "source": [
    "### Resolvemos e imprimimos el Status, si es Optimo, el problema tiene solución.\n",
    "prob.solve()\n",
    "print(\"Status:\", LpStatus[prob.status])"
   ]
  },
  {
   "cell_type": "code",
   "execution_count": 25,
   "id": "78d193da",
   "metadata": {},
   "outputs": [
    {
     "name": "stdout",
     "output_type": "stream",
     "text": [
      "Cantidad_de_Envio_Arequipa_Moquegua = 200.0\n",
      "Cantidad_de_Envio_Arequipa_Tacna = 1300.0\n",
      "Cantidad_de_Envio_Lima_Tacna = 1000.0\n",
      "Cantidad_de_Envio_Trujillo_Moquegua = 1200.0\n",
      "El costo mínimo es: 313200.0\n"
     ]
    }
   ],
   "source": [
    "### Imprimimos la solución\n",
    "for v in prob.variables():\n",
    "    if v.varValue > 0:\n",
    "        print(v.name, \"=\", v.varValue)\n",
    "print('El costo mínimo es:', value(prob.objective))"
   ]
  },
  {
   "cell_type": "code",
   "execution_count": null,
   "id": "8e39bb3c",
   "metadata": {},
   "outputs": [],
   "source": []
  }
 ],
 "metadata": {
  "kernelspec": {
   "display_name": "Python 3",
   "language": "python",
   "name": "python3"
  },
  "language_info": {
   "codemirror_mode": {
    "name": "ipython",
    "version": 3
   },
   "file_extension": ".py",
   "mimetype": "text/x-python",
   "name": "python",
   "nbconvert_exporter": "python",
   "pygments_lexer": "ipython3",
   "version": "3.8.10"
  }
 },
 "nbformat": 4,
 "nbformat_minor": 5
}
