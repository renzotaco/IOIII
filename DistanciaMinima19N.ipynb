{
  "nbformat": 4,
  "nbformat_minor": 0,
  "metadata": {
    "colab": {
      "name": "DistanciaMinima19N.ipynb",
      "provenance": [],
      "authorship_tag": "ABX9TyMHCxop7U1mr4qjHvBbPdmU",
      "include_colab_link": true
    },
    "kernelspec": {
      "name": "python3",
      "display_name": "Python 3"
    },
    "language_info": {
      "name": "python"
    }
  },
  "cells": [
    {
      "cell_type": "markdown",
      "metadata": {
        "id": "view-in-github",
        "colab_type": "text"
      },
      "source": [
        "<a href=\"https://colab.research.google.com/github/renzotaco/IOIII/blob/main/DistanciaMinima19N.ipynb\" target=\"_parent\"><img src=\"https://colab.research.google.com/assets/colab-badge.svg\" alt=\"Open In Colab\"/></a>"
      ]
    },
    {
      "cell_type": "code",
      "metadata": {
        "colab": {
          "base_uri": "https://localhost:8080/"
        },
        "id": "oAIrMm7l7J5Y",
        "outputId": "087a02fb-af42-48ed-873c-ab6cf3000afd"
      },
      "source": [
        "!pip install ortools"
      ],
      "execution_count": 1,
      "outputs": [
        {
          "output_type": "stream",
          "name": "stdout",
          "text": [
            "Collecting ortools\n",
            "  Downloading ortools-9.0.9048-cp37-cp37m-manylinux1_x86_64.whl (14.4 MB)\n",
            "\u001b[K     |████████████████████████████████| 14.4 MB 97 kB/s \n",
            "\u001b[?25hRequirement already satisfied: protobuf>=3.15.8 in /usr/local/lib/python3.7/dist-packages (from ortools) (3.17.3)\n",
            "Requirement already satisfied: absl-py>=0.11 in /usr/local/lib/python3.7/dist-packages (from ortools) (0.12.0)\n",
            "Requirement already satisfied: six in /usr/local/lib/python3.7/dist-packages (from absl-py>=0.11->ortools) (1.15.0)\n",
            "Installing collected packages: ortools\n",
            "Successfully installed ortools-9.0.9048\n"
          ]
        }
      ]
    },
    {
      "cell_type": "code",
      "metadata": {
        "id": "lT9P_POK7Ox7"
      },
      "source": [
        "# Importar la librería de Google OR-Tools\n",
        "from __future__ import print_function\n",
        "from ortools.graph import pywrapgraph"
      ],
      "execution_count": 5,
      "outputs": []
    },
    {
      "cell_type": "code",
      "metadata": {
        "id": "WZmcU--C7ScS"
      },
      "source": [
        "nodos_fuente  = [ 0, 0, 0, 1, 1, 2, 2, 3, 4, 4, 5, 5, 6]\n",
        "nodos_destino = [ 1, 2, 3, 6, 7, 3, 4, 6, 2, 5, 4, 6, 7]\n",
        "capacidades   = [ 1, 1, 1, 1, 1, 1, 1, 1, 1, 1, 1, 1, 1]\n",
        "distancia     = [ 599, 180, 497, 420, 691, 432, 100, 345, 100, 138, 138, 526, 440]\n",
        "\n",
        "suministros = [1, 0, 0, 0, 0, 0, 0, -1]"
      ],
      "execution_count": null,
      "outputs": []
    },
    {
      "cell_type": "code",
      "metadata": {
        "id": "cqbyHacW3wVL"
      },
      "source": [
        "nodos_fuente  = [ 0, 0, 0, 1, 1, 1, 2, 2, 2, 3, 3, 3, 4, 4, 5, 5, 6, 6, 6, 6, 7, 7, 7, 8]\n",
        "nodos_destino = [ 1, 2, 3, 0, 6, 7, 0, 3, 4, 0, 2, 6, 2, 5, 4, 6, 1, 3, 5, 7, 1, 6, 8, 7]\n",
        "capacidades   = [ 1, 1, 1, 1, 1, 1, 1, 1, 1, 1, 1, 1, 1, 1, 1, 1, 1, 1, 1, 1, 1, 1, 1, 1]\n",
        "distancia     = [ 599, 180, 497, 599, 420, 691, 180, 432, 100, 497, 432, 345, 100, 138, 138, 526, 420, 345, 526, 440, 691, 440, 102, 102]\n",
        "suministros   = [1, 0, 0, 0, 0, 0, 0, 0, -1]"
      ],
      "execution_count": 3,
      "outputs": []
    },
    {
      "cell_type": "code",
      "metadata": {
        "id": "zFxbu_ha6M0L"
      },
      "source": [
        "#11 nodos\n",
        "nodos_fuente  = [ 0, 0, 0, 1, 1, 1, 2, 2, 2, 3, 3, 3, 4, 4, 5, 5, 6, 6, 6, 6, 7, 7, 7, 8, 4, 6, 9,10]\n",
        "nodos_destino = [ 1, 2, 3, 0, 6, 7, 0, 3, 4, 0, 2, 6, 2, 5, 4, 6, 1, 3, 5, 7, 1, 6, 8, 7, 9,10, 4, 6]\n",
        "capacidades   = [ 1, 1, 1, 1, 1, 1, 1, 1, 1, 1, 1, 1, 1, 1, 1, 1, 1, 1, 1, 1, 1, 1, 1, 1, 1, 1, 1, 1]\n",
        "distancia     = [ 599, 180, 497, 599, 420, 691, 180, 432, 100, 497, 432, 345, 100, 138, 138, 526, 420, 345, 526, 440, 691, 440, 102, 102, 291, 432, 291, 432]\n",
        "suministros   = [1, 0, 0, 0, 0, 0, 0, 0, 0, 0, -1]\n"
      ],
      "execution_count": 6,
      "outputs": []
    },
    {
      "cell_type": "code",
      "metadata": {
        "colab": {
          "base_uri": "https://localhost:8080/"
        },
        "id": "vzFqcLsZ7UtI",
        "outputId": "4d865417-20b8-4dad-9300-5e53a4390d00"
      },
      "source": [
        "# Crea una instancia para el solucionador\n",
        "min_cost_flow = pywrapgraph.SimpleMinCostFlow()\n",
        "\n",
        "# Define cada arco del problema\n",
        "for i in range(0, len(nodos_fuente)):\n",
        "  min_cost_flow.AddArcWithCapacityAndUnitCost(nodos_fuente[i], nodos_destino[i],\n",
        "                                              capacidades[i], distancia[i])\n",
        "\n",
        "# Define los suministros para cada nodo.\n",
        "for i in range(0, len(suministros)):\n",
        "  min_cost_flow.SetNodeSupply(i, suministros[i])\n",
        "\n",
        "# Encuentra el costo mínimo entre el nodo 0 y el nodo 8\n",
        "if min_cost_flow.Solve() == min_cost_flow.OPTIMAL:\n",
        "  print('Distancia mínima:', min_cost_flow.OptimalCost())\n",
        "  print('')\n",
        "  print(' Arco Flujo / Capacidad Distancia')\n",
        "  for i in range(min_cost_flow.NumArcs()):\n",
        "    cost = min_cost_flow.Flow(i) * min_cost_flow.UnitCost(i)\n",
        "    print('%1s -> %1s %3s / %3s %3s' % (\n",
        "        min_cost_flow.Tail(i),\n",
        "        min_cost_flow.Head(i),\n",
        "        min_cost_flow.Flow(i),\n",
        "        min_cost_flow.Capacity(i),\n",
        "        cost))\n",
        "else:\n",
        "  print('Hubo un problema con la entrada de flujo de distancia mínima.')"
      ],
      "execution_count": 7,
      "outputs": [
        {
          "output_type": "stream",
          "name": "stdout",
          "text": [
            "Distancia mínima: 1274\n",
            "\n",
            " Arco Flujo / Capacidad Distancia\n",
            "0 -> 1   0 /   1   0\n",
            "0 -> 2   0 /   1   0\n",
            "0 -> 3   1 /   1 497\n",
            "1 -> 0   0 /   1   0\n",
            "1 -> 6   0 /   1   0\n",
            "1 -> 7   0 /   1   0\n",
            "2 -> 0   0 /   1   0\n",
            "2 -> 3   0 /   1   0\n",
            "2 -> 4   0 /   1   0\n",
            "3 -> 0   0 /   1   0\n",
            "3 -> 2   0 /   1   0\n",
            "3 -> 6   1 /   1 345\n",
            "4 -> 2   0 /   1   0\n",
            "4 -> 5   0 /   1   0\n",
            "5 -> 4   0 /   1   0\n",
            "5 -> 6   0 /   1   0\n",
            "6 -> 1   0 /   1   0\n",
            "6 -> 3   0 /   1   0\n",
            "6 -> 5   0 /   1   0\n",
            "6 -> 7   0 /   1   0\n",
            "7 -> 1   0 /   1   0\n",
            "7 -> 6   0 /   1   0\n",
            "7 -> 8   0 /   1   0\n",
            "8 -> 7   0 /   1   0\n",
            "4 -> 9   0 /   1   0\n",
            "6 -> 10   1 /   1 432\n",
            "9 -> 4   0 /   1   0\n",
            "10 -> 6   0 /   1   0\n"
          ]
        }
      ]
    }
  ]
}