{
  "nbformat": 4,
  "nbformat_minor": 0,
  "metadata": {
    "colab": {
      "name": "Regresionlineal02.ipynb",
      "provenance": [],
      "authorship_tag": "ABX9TyM1sARn0opH8YCr//ukcbjy",
      "include_colab_link": true
    },
    "kernelspec": {
      "name": "python3",
      "display_name": "Python 3"
    },
    "language_info": {
      "name": "python"
    }
  },
  "cells": [
    {
      "cell_type": "markdown",
      "metadata": {
        "id": "view-in-github",
        "colab_type": "text"
      },
      "source": [
        "<a href=\"https://colab.research.google.com/github/renzotaco/IOIII/blob/main/Regresionlineal02.ipynb\" target=\"_parent\"><img src=\"https://colab.research.google.com/assets/colab-badge.svg\" alt=\"Open In Colab\"/></a>"
      ]
    },
    {
      "cell_type": "code",
      "metadata": {
        "colab": {
          "base_uri": "https://localhost:8080/",
          "height": 265
        },
        "id": "PujBTd4BL_yF",
        "outputId": "e9a35587-5c60-419a-e462-1e7e838f5173"
      },
      "source": [
        "import numpy as np\n",
        "import random\n",
        "from sklearn import linear_model\n",
        "from sklearn.metrics import mean_squared_error, r2_score\n",
        "import matplotlib.pyplot as plt\n",
        "%matplotlib inline\n",
        " \n",
        "# Generador de distribución de datos para regresión lineal simple\n",
        "def generador_datos_simple(beta, muestras, desviacion):\n",
        "  # Genero n (muestras) valores de x aleatorios entre 0 y 100\n",
        "  x = np.random.random(muestras) * 100\n",
        "  # Genero un error aleatorio gaussiano con desviación típica (desviacion)\n",
        "  e = np.random.randn(muestras) * desviacion\n",
        "  # Obtengo el y real como x*beta + error\n",
        "  y = x * beta + e\n",
        "  return x.reshape((muestras,1)), y.reshape((muestras,1))\n",
        " \n",
        "# Parámetros de la distribución\n",
        "desviacion = 200\n",
        "beta = 10\n",
        "n = 50\n",
        "x, y = generador_datos_simple(beta, n, desviacion)\n",
        " \n",
        "# Represento los datos generados\n",
        "plt.scatter(x, y)\n",
        "plt.show()\n"
      ],
      "execution_count": null,
      "outputs": [
        {
          "output_type": "display_data",
          "data": {
            "image/png": "[encoded data removed]",
            "text/plain": [
              "<Figure size 432x288 with 1 Axes>"
            ]
          },
          "metadata": {
            "needs_background": "light"
          }
        }
      ]
    },
    {
      "cell_type": "code",
      "metadata": {
        "colab": {
          "base_uri": "https://localhost:8080/"
        },
        "id": "GYtHXpWBMESO",
        "outputId": "f05353c1-c296-4a56-e8b5-c7cc23ce9930"
      },
      "source": [
        "# Creo un modelo de regresión lineal\n",
        "modelo = linear_model.LinearRegression()\n",
        " \n",
        "# Entreno el modelo con los datos (X,Y)\n",
        "modelo.fit(x, y)\n",
        "# Ahora puedo obtener el coeficiente b_1\n",
        "print('Coeficiente beta1: ', modelo.coef_[0])\n",
        " \n",
        "# Podemos predecir usando el modelo\n",
        "y_pred = modelo.predict(x)\n",
        " \n",
        "# Por último, calculamos el error cuadrático medio y el estadístico R^2\n",
        "print('Error cuadrático medio: %.2f' % mean_squared_error(y, y_pred))\n",
        "print('Estadístico R_2: %.2f' % r2_score(y, y_pred))\n"
      ],
      "execution_count": null,
      "outputs": [
        {
          "output_type": "stream",
          "name": "stdout",
          "text": [
            "Coeficiente beta1:  [8.43114259]\n",
            "Error cuadrático medio: 40368.19\n",
            "Estadístico R_2: 0.54\n"
          ]
        }
      ]
    },
    {
      "cell_type": "code",
      "metadata": {
        "colab": {
          "base_uri": "https://localhost:8080/",
          "height": 265
        },
        "id": "vt-mypXJMWdX",
        "outputId": "5f314658-6dee-41c9-878e-07c460843628"
      },
      "source": [
        "# Representamos el ajuste (rojo) y la recta Y = beta*x (verde)\n",
        "plt.scatter(x, y)\n",
        "plt.plot(x, y_pred, color='red')\n",
        "x_real = np.array([0, 100])\n",
        "y_real = x_real*beta\n",
        "plt.plot(x_real, y_real, color='green')\n",
        "plt.show()\n"
      ],
      "execution_count": null,
      "outputs": [
        {
          "output_type": "display_data",
          "data": {
            "image/png": "[encoded data removed]",
            "text/plain": [
              "<Figure size 432x288 with 1 Axes>"
            ]
          },
          "metadata": {
            "needs_background": "light"
          }
        }
      ]
    }
  ]
}