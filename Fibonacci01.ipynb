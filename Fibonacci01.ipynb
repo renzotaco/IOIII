{
  "nbformat": 4,
  "nbformat_minor": 0,
  "metadata": {
    "colab": {
      "name": "Fibonacci01.ipynb",
      "provenance": [],
      "authorship_tag": "ABX9TyNYpiTKYmJMINycn+NxOa0W",
      "include_colab_link": true
    },
    "kernelspec": {
      "name": "python3",
      "display_name": "Python 3"
    },
    "language_info": {
      "name": "python"
    }
  },
  "cells": [
    {
      "cell_type": "markdown",
      "metadata": {
        "id": "view-in-github",
        "colab_type": "text"
      },
      "source": [
        "<a href=\"https://colab.research.google.com/github/renzotaco/IOIII/blob/main/Fibonacci01.ipynb\" target=\"_parent\"><img src=\"https://colab.research.google.com/assets/colab-badge.svg\" alt=\"Open In Colab\"/></a>"
      ]
    },
    {
      "cell_type": "code",
      "metadata": {
        "colab": {
          "base_uri": "https://localhost:8080/"
        },
        "id": "h1QTjIbVOGls",
        "outputId": "89e48246-3b03-48c6-d2ac-c416afe7d6f6"
      },
      "source": [
        "def fibo(n):\n",
        "  a = 0\n",
        "  b = 1\n",
        "  if n == 0 or n == 1:\n",
        "    print(n)\n",
        "  else:\n",
        "    for x in range(n-1):\n",
        "      r = a + b\n",
        "      a = b\n",
        "      b = r\n",
        "      print(r)\n",
        "\n",
        "fibo(17)"
      ],
      "execution_count": 33,
      "outputs": [
        {
          "output_type": "stream",
          "name": "stdout",
          "text": [
            "1\n",
            "2\n",
            "3\n",
            "5\n",
            "8\n",
            "13\n",
            "21\n",
            "34\n",
            "55\n",
            "89\n",
            "144\n",
            "233\n",
            "377\n",
            "610\n",
            "987\n",
            "1597\n"
          ]
        }
      ]
    },
    {
      "cell_type": "code",
      "metadata": {
        "colab": {
          "base_uri": "https://localhost:8080/"
        },
        "id": "QNmxjGQq5FuH",
        "outputId": "4229c820-995c-463e-8023-fb81588f98a5"
      },
      "source": [
        "def fib(n):\n",
        "    if n < 2:\n",
        "        return n\n",
        "    else:\n",
        "        # fn = fn-1 + fn-2\n",
        "        return fib(n-1) + fib(n-2)\n",
        "    \n",
        "fib(10)"
      ],
      "execution_count": 63,
      "outputs": [
        {
          "output_type": "execute_result",
          "data": {
            "text/plain": [
              "55"
            ]
          },
          "metadata": {},
          "execution_count": 63
        }
      ]
    },
    {
      "cell_type": "code",
      "metadata": {
        "colab": {
          "base_uri": "https://localhost:8080/"
        },
        "id": "25l0dCIA5WlE",
        "outputId": "72cb46cf-ee1c-4c17-db86-1726a7aa1d90"
      },
      "source": [
        "for x in range(10):\n",
        "    print(fib(x))"
      ],
      "execution_count": 2,
      "outputs": [
        {
          "output_type": "stream",
          "name": "stdout",
          "text": [
            "0\n",
            "1\n",
            "1\n",
            "2\n",
            "3\n",
            "5\n",
            "8\n",
            "13\n",
            "21\n",
            "34\n"
          ]
        }
      ]
    },
    {
      "cell_type": "code",
      "metadata": {
        "colab": {
          "base_uri": "https://localhost:8080/"
        },
        "id": "D7U_wy8G52xM",
        "outputId": "3d735365-4bad-4cb6-a2e1-6e0c60270239"
      },
      "source": [
        "# sqrt para calcular raices cuadradas\n",
        "from math import sqrt \n",
        "\n",
        "def fib(n):\n",
        "    if n < 2:\n",
        "        return n\n",
        "    else:\n",
        "        u = ((1+sqrt(5))/2)\n",
        "        j = ((u**n-(1-u)**n)/sqrt(5))\n",
        "        # round nos permite redondear numeros flotantes\n",
        "        return round(j)\n",
        "fib(100)"
      ],
      "execution_count": 59,
      "outputs": [
        {
          "output_type": "execute_result",
          "data": {
            "text/plain": [
              "354224848179263111168"
            ]
          },
          "metadata": {},
          "execution_count": 59
        }
      ]
    },
    {
      "cell_type": "code",
      "metadata": {
        "colab": {
          "base_uri": "https://localhost:8080/"
        },
        "id": "OCNuj1vbRaVf",
        "outputId": "d8272b41-6757-4bda-abcb-d653146a1a6e"
      },
      "source": [
        "sucesion = input(\"Ingrese: (S) límite máximo, (N) número de \\\n",
        "términos? \")\n",
        "if sucesion == 'S':\n",
        "    def fib(n):\n",
        "        a, b = 0,1\n",
        "        while a < n:\n",
        "            print(a, end=' ')\n",
        "            a, b = b, a + b\n",
        "    m = int(input(\"Límite máximo-> \"))   \n",
        "    fib(m)\n",
        "elif sucesion == 'N':\n",
        "    a, b = 0,1\n",
        "    n = int(input(\"Número de términos-> \"))\n",
        "    for i in range(n+1):\n",
        "        print(i, a)\n",
        "        a, b = b, a + b\n",
        "else:\n",
        "    print(\"Debe ingresar S o N\")"
      ],
      "execution_count": 51,
      "outputs": [
        {
          "output_type": "stream",
          "name": "stdout",
          "text": [
            "Ingrese: (S) límite máximo, (N) número de términos? N\n",
            "Número de términos-> 80\n",
            "0 0\n",
            "1 1\n",
            "2 1\n",
            "3 2\n",
            "4 3\n",
            "5 5\n",
            "6 8\n",
            "7 13\n",
            "8 21\n",
            "9 34\n",
            "10 55\n",
            "11 89\n",
            "12 144\n",
            "13 233\n",
            "14 377\n",
            "15 610\n",
            "16 987\n",
            "17 1597\n",
            "18 2584\n",
            "19 4181\n",
            "20 6765\n",
            "21 10946\n",
            "22 17711\n",
            "23 28657\n",
            "24 46368\n",
            "25 75025\n",
            "26 121393\n",
            "27 196418\n",
            "28 317811\n",
            "29 514229\n",
            "30 832040\n",
            "31 1346269\n",
            "32 2178309\n",
            "33 3524578\n",
            "34 5702887\n",
            "35 9227465\n",
            "36 14930352\n",
            "37 24157817\n",
            "38 39088169\n",
            "39 63245986\n",
            "40 102334155\n",
            "41 165580141\n",
            "42 267914296\n",
            "43 433494437\n",
            "44 701408733\n",
            "45 1134903170\n",
            "46 1836311903\n",
            "47 2971215073\n",
            "48 4807526976\n",
            "49 7778742049\n",
            "50 12586269025\n",
            "51 20365011074\n",
            "52 32951280099\n",
            "53 53316291173\n",
            "54 86267571272\n",
            "55 139583862445\n",
            "56 225851433717\n",
            "57 365435296162\n",
            "58 591286729879\n",
            "59 956722026041\n",
            "60 1548008755920\n",
            "61 2504730781961\n",
            "62 4052739537881\n",
            "63 6557470319842\n",
            "64 10610209857723\n",
            "65 17167680177565\n",
            "66 27777890035288\n",
            "67 44945570212853\n",
            "68 72723460248141\n",
            "69 117669030460994\n",
            "70 190392490709135\n",
            "71 308061521170129\n",
            "72 498454011879264\n",
            "73 806515533049393\n",
            "74 1304969544928657\n",
            "75 2111485077978050\n",
            "76 3416454622906707\n",
            "77 5527939700884757\n",
            "78 8944394323791464\n",
            "79 14472334024676221\n",
            "80 23416728348467685\n"
          ]
        }
      ]
    },
    {
      "cell_type": "code",
      "metadata": {
        "colab": {
          "base_uri": "https://localhost:8080/"
        },
        "id": "KuYCcNOYUlbi",
        "outputId": "f527af83-79e7-4305-e8b4-8cdd879ebf66"
      },
      "source": [
        "def fib(n):\n",
        "    a, b = 0,1\n",
        "    for i in range(n+1):  \n",
        "        print(i, a)\n",
        "        a, b = b, a + b \n",
        "    print()\n",
        "fib(100)"
      ],
      "execution_count": 62,
      "outputs": [
        {
          "output_type": "stream",
          "name": "stdout",
          "text": [
            "0 0\n",
            "1 1\n",
            "2 1\n",
            "3 2\n",
            "4 3\n",
            "5 5\n",
            "6 8\n",
            "7 13\n",
            "8 21\n",
            "9 34\n",
            "10 55\n",
            "11 89\n",
            "12 144\n",
            "13 233\n",
            "14 377\n",
            "15 610\n",
            "16 987\n",
            "17 1597\n",
            "18 2584\n",
            "19 4181\n",
            "20 6765\n",
            "21 10946\n",
            "22 17711\n",
            "23 28657\n",
            "24 46368\n",
            "25 75025\n",
            "26 121393\n",
            "27 196418\n",
            "28 317811\n",
            "29 514229\n",
            "30 832040\n",
            "31 1346269\n",
            "32 2178309\n",
            "33 3524578\n",
            "34 5702887\n",
            "35 9227465\n",
            "36 14930352\n",
            "37 24157817\n",
            "38 39088169\n",
            "39 63245986\n",
            "40 102334155\n",
            "41 165580141\n",
            "42 267914296\n",
            "43 433494437\n",
            "44 701408733\n",
            "45 1134903170\n",
            "46 1836311903\n",
            "47 2971215073\n",
            "48 4807526976\n",
            "49 7778742049\n",
            "50 12586269025\n",
            "51 20365011074\n",
            "52 32951280099\n",
            "53 53316291173\n",
            "54 86267571272\n",
            "55 139583862445\n",
            "56 225851433717\n",
            "57 365435296162\n",
            "58 591286729879\n",
            "59 956722026041\n",
            "60 1548008755920\n",
            "61 2504730781961\n",
            "62 4052739537881\n",
            "63 6557470319842\n",
            "64 10610209857723\n",
            "65 17167680177565\n",
            "66 27777890035288\n",
            "67 44945570212853\n",
            "68 72723460248141\n",
            "69 117669030460994\n",
            "70 190392490709135\n",
            "71 308061521170129\n",
            "72 498454011879264\n",
            "73 806515533049393\n",
            "74 1304969544928657\n",
            "75 2111485077978050\n",
            "76 3416454622906707\n",
            "77 5527939700884757\n",
            "78 8944394323791464\n",
            "79 14472334024676221\n",
            "80 23416728348467685\n",
            "81 37889062373143906\n",
            "82 61305790721611591\n",
            "83 99194853094755497\n",
            "84 160500643816367088\n",
            "85 259695496911122585\n",
            "86 420196140727489673\n",
            "87 679891637638612258\n",
            "88 1100087778366101931\n",
            "89 1779979416004714189\n",
            "90 2880067194370816120\n",
            "91 4660046610375530309\n",
            "92 7540113804746346429\n",
            "93 12200160415121876738\n",
            "94 19740274219868223167\n",
            "95 31940434634990099905\n",
            "96 51680708854858323072\n",
            "97 83621143489848422977\n",
            "98 135301852344706746049\n",
            "99 218922995834555169026\n",
            "100 354224848179261915075\n",
            "\n"
          ]
        }
      ]
    }
  ]
}