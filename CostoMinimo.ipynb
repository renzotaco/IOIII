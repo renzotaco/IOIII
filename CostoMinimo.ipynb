{
 "cells": [
  {
   "cell_type": "code",
   "execution_count": 1,
   "id": "10584f39",
   "metadata": {},
   "outputs": [],
   "source": [
    "# Importar la librería de Google OR-Tools\n",
    "from __future__ import print_function\n",
    "from ortools.graph import pywrapgraph"
   ]
  },
  {
   "cell_type": "code",
   "execution_count": 2,
   "id": "1244995f",
   "metadata": {},
   "outputs": [],
   "source": [
    "nodos_fuente  = [ 0, 0, 1, 1, 2, 2, 2, 3, 3, 4, 4, 4, 5, 5, 6, 6, 6, 7, 7]\n",
    "nodos_destino = [ 1, 2, 2, 3, 1, 3, 4, 5, 6, 3, 6, 7, 6, 8, 5, 7, 8, 6, 8]\n",
    "capacidades   = [ 1, 1, 1, 1, 1, 1, 1, 1, 1, 1, 1, 1, 1, 1, 1, 1, 1, 1, 1]\n",
    "distancia     = [ 4, 2, 2, 7, 4, 9, 6, 1, 5, 2, 3, 2, 1, 5, 4, 3, 6, 2, 6]\n",
    "\n",
    "suministros = [1, 0, 0, 0, 0, 0, 0, 0, -1]"
   ]
  },
  {
   "cell_type": "code",
   "execution_count": 3,
   "id": "3f29ca55",
   "metadata": {},
   "outputs": [],
   "source": [
    "# Crea una instancia para el solucionador\n",
    "min_cost_flow = pywrapgraph.SimpleMinCostFlow()\n",
    "\n",
    "# Define cada arco del problema\n",
    "for i in range(0, len(nodos_fuente)):\n",
    "  min_cost_flow.AddArcWithCapacityAndUnitCost(nodos_fuente[i], nodos_destino[i],\n",
    "                                              capacidades[i], distancia[i])\n",
    "\n",
    "# Define los suministros para cada nodo.\n",
    "for i in range(0, len(suministros)):\n",
    "  min_cost_flow.SetNodeSupply(i, suministros[i])"
   ]
  },
  {
   "cell_type": "code",
   "execution_count": 4,
   "id": "a85a8a77",
   "metadata": {},
   "outputs": [
    {
     "name": "stdout",
     "output_type": "stream",
     "text": [
      "Distancia mínima: 16\n",
      "\n",
      " Arco Flujo / Capacidad Distancia\n",
      "0 -> 1   0 /   1   0\n",
      "0 -> 2   1 /   1   2\n",
      "1 -> 2   0 /   1   0\n",
      "1 -> 3   0 /   1   0\n",
      "2 -> 1   0 /   1   0\n",
      "2 -> 3   0 /   1   0\n",
      "2 -> 4   1 /   1   6\n",
      "3 -> 5   1 /   1   1\n",
      "3 -> 6   0 /   1   0\n",
      "4 -> 3   1 /   1   2\n",
      "4 -> 6   0 /   1   0\n",
      "4 -> 7   0 /   1   0\n",
      "5 -> 6   0 /   1   0\n",
      "5 -> 8   1 /   1   5\n",
      "6 -> 5   0 /   1   0\n",
      "6 -> 7   0 /   1   0\n",
      "6 -> 8   0 /   1   0\n",
      "7 -> 6   0 /   1   0\n",
      "7 -> 8   0 /   1   0\n"
     ]
    }
   ],
   "source": [
    "# Encuentra el costo mínimo entre el nodo 0 y el nodo 8\n",
    "if min_cost_flow.Solve() == min_cost_flow.OPTIMAL:\n",
    "  print('Distancia mínima:', min_cost_flow.OptimalCost())\n",
    "  print('')\n",
    "  print(' Arco Flujo / Capacidad Distancia')\n",
    "  for i in range(min_cost_flow.NumArcs()):\n",
    "    cost = min_cost_flow.Flow(i) * min_cost_flow.UnitCost(i)\n",
    "    print('%1s -> %1s %3s / %3s %3s' % (\n",
    "        min_cost_flow.Tail(i),\n",
    "        min_cost_flow.Head(i),\n",
    "        min_cost_flow.Flow(i),\n",
    "        min_cost_flow.Capacity(i),\n",
    "        cost))\n",
    "else:\n",
    "  print('Hubo un problema con la entrada de flujo de distancia mínima.')"
   ]
  },
  {
   "cell_type": "code",
   "execution_count": null,
   "id": "e25be055",
   "metadata": {},
   "outputs": [],
   "source": []
  }
 ],
 "metadata": {
  "kernelspec": {
   "display_name": "Python 3",
   "language": "python",
   "name": "python3"
  },
  "language_info": {
   "codemirror_mode": {
    "name": "ipython",
    "version": 3
   },
   "file_extension": ".py",
   "mimetype": "text/x-python",
   "name": "python",
   "nbconvert_exporter": "python",
   "pygments_lexer": "ipython3",
   "version": "3.8.10"
  }
 },
 "nbformat": 4,
 "nbformat_minor": 5
}
