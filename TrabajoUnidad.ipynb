{
  "nbformat": 4,
  "nbformat_minor": 0,
  "metadata": {
    "colab": {
      "name": "TrabajoUnidad.ipynb",
      "provenance": [],
      "authorship_tag": "ABX9TyMcHPHrt4Da4emlYlmXfcnW",
      "include_colab_link": true
    },
    "kernelspec": {
      "name": "python3",
      "display_name": "Python 3"
    },
    "language_info": {
      "name": "python"
    }
  },
  "cells": [
    {
      "cell_type": "markdown",
      "metadata": {
        "id": "view-in-github",
        "colab_type": "text"
      },
      "source": [
        "<a href=\"https://colab.research.google.com/github/renzotaco/IOIII/blob/main/TrabajoUnidad.ipynb\" target=\"_parent\"><img src=\"https://colab.research.google.com/assets/colab-badge.svg\" alt=\"Open In Colab\"/></a>"
      ]
    },
    {
      "cell_type": "code",
      "metadata": {
        "id": "mA6CtpDx8u4_",
        "colab": {
          "base_uri": "https://localhost:8080/",
          "height": 498
        },
        "outputId": "33b4d013-3f2e-4166-beb2-22486beb0141"
      },
      "source": [
        "!pip install ortools"
      ],
      "execution_count": 1,
      "outputs": [
        {
          "output_type": "stream",
          "name": "stdout",
          "text": [
            "Collecting ortools\n",
            "  Downloading ortools-9.1.9490-cp37-cp37m-manylinux_2_17_x86_64.manylinux2014_x86_64.whl (14.5 MB)\n",
            "\u001b[K     |████████████████████████████████| 14.5 MB 90 kB/s \n",
            "\u001b[?25hCollecting protobuf>=3.18.0\n",
            "  Downloading protobuf-3.18.1-cp37-cp37m-manylinux_2_17_x86_64.manylinux2014_x86_64.whl (1.1 MB)\n",
            "\u001b[K     |████████████████████████████████| 1.1 MB 41.2 MB/s \n",
            "\u001b[?25hCollecting absl-py>=0.13\n",
            "  Downloading absl_py-0.15.0-py3-none-any.whl (132 kB)\n",
            "\u001b[K     |████████████████████████████████| 132 kB 62.2 MB/s \n",
            "\u001b[?25hRequirement already satisfied: six in /usr/local/lib/python3.7/dist-packages (from absl-py>=0.13->ortools) (1.15.0)\n",
            "Installing collected packages: protobuf, absl-py, ortools\n",
            "  Attempting uninstall: protobuf\n",
            "    Found existing installation: protobuf 3.17.3\n",
            "    Uninstalling protobuf-3.17.3:\n",
            "      Successfully uninstalled protobuf-3.17.3\n",
            "  Attempting uninstall: absl-py\n",
            "    Found existing installation: absl-py 0.12.0\n",
            "    Uninstalling absl-py-0.12.0:\n",
            "      Successfully uninstalled absl-py-0.12.0\n",
            "\u001b[31mERROR: pip's dependency resolver does not currently take into account all the packages that are installed. This behaviour is the source of the following dependency conflicts.\n",
            "tensorflow-metadata 1.2.0 requires absl-py<0.13,>=0.9, but you have absl-py 0.15.0 which is incompatible.\u001b[0m\n",
            "Successfully installed absl-py-0.15.0 ortools-9.1.9490 protobuf-3.18.1\n"
          ]
        },
        {
          "output_type": "display_data",
          "data": {
            "application/vnd.colab-display-data+json": {
              "pip_warning": {
                "packages": [
                  "google"
                ]
              }
            }
          },
          "metadata": {}
        }
      ]
    },
    {
      "cell_type": "code",
      "metadata": {
        "colab": {
          "base_uri": "https://localhost:8080/"
        },
        "id": "G7fmXi-Ue3_P",
        "outputId": "43bc4fdf-33cb-4a71-bbaa-255888e86628"
      },
      "source": [
        "from __future__ import print_function\n",
        "from ortools.graph import pywrapgraph #Librería de Google Or Tools\n",
        "import pandas as pd #Librería pandas para obtener data desde Excel\n",
        "\n",
        "\n",
        "#Creamos la data del modelo (La extraemos desde Excel)\n",
        "def create_data():\n",
        "\n",
        "    #La variable \"excel\" traerá la información contenida en el archivo XLS (crea un dataframe organizado en columnas)\n",
        "    excel = pd.read_excel('datos1.xlsx')\n",
        "    excel_1 = pd.read_excel('datos1.xlsx', sheet_name=1) #Función que permite leer una hoja en específico (hoja 2 de Excel - Inicia desde 0)\n",
        "\n",
        "    data = {} #Crea un directorio llamado data, en él agregaremos cada lista de datos junto con su nombre (índice)\n",
        "\n",
        "    #La información contenida en Excel viene dada en un dataframe con todos los datos en columnas.\n",
        "    #A continuación, extraeremos cada columna en específico, desde el dataframe (todas las columnas) > series (columna en específico)\n",
        "    #Luego, el \"tolist\" convertirá cada serie en una lista. Esa lista se guardará en el directorio \"data\" y se etiqueta con el índice correspondiente\n",
        "\n",
        "    data['fuentes'] = excel['fuentes'].tolist() #Columna en Excel = 'fuentes' > lista en el directorio \"data\" con la etiqueta (índice) \"fuentes\"\n",
        "    data['destinos'] = excel['destinos'].tolist() #Columna en Excel = 'destinos' > lista en el directorio \"data\" con la etiqueta (índice) \"destinos\"\n",
        "    data['capacidad'] = excel['capacidad'].tolist() #Columna en Excel = 'capacidad' > lista en el directorio \"data\" con la etiqueta (índice) \"capacidad\"\n",
        "    data['distancias'] = excel['distancia'].tolist() #Columna en Excel = 'distancia' > lista en el directorio \"data\" con la etiqueta (índice) \"distancia\"\n",
        "    data['suministro'] = excel_1['suministros'].tolist() #Columna en Excel = 'suministro' > lista en el directorio \"data\" con la etiqueta (índice) \"suministro\"\n",
        "\n",
        "    #Quiere decir esto, que para acceder específicamente al listado que contiene los destinos, es necesario invocar a data['destinos'].\n",
        "\n",
        "    return data #En \"create_data\" quedará contenido el directorio \"data\" el cuál contiene todas las listas con la información del modelo.\n",
        "\n",
        "\n",
        "def main():\n",
        "\n",
        "  #Para utilizar los listados o inputs obtenidos desde Excel, necesitamos invocar la función \"create_data\" esta retornará el directorio con todos los datos.\n",
        "  #Recomendamos utilizar el mismo nombre \"data\" para crear el directorio dentro de esta función:\n",
        "\n",
        "  data = create_data() #Ahora el \"data\" de esta función, contiene el directorio de la función \"create_data\". Ya podemos usar los listados.\n",
        "\n",
        "  # Crea una instancia para el solucionador\n",
        "  min_cost_flow = pywrapgraph.SimpleMinCostFlow()\n",
        "\n",
        "  # Define cada arco del problema\n",
        "  for i in range(0, len(data['fuentes'])):\n",
        "    min_cost_flow.AddArcWithCapacityAndUnitCost(data['fuentes'][i], data['destinos'][i],\n",
        "                                                data['capacidad'][i], data['distancias'][i])\n",
        "\n",
        "  # Define los suministros para cada nodo.\n",
        "  for i in range(0, len(data['suministro'])):\n",
        "    min_cost_flow.SetNodeSupply(i, data['suministro'][i])\n",
        "\n",
        "\n",
        "  # Encuentra el costo mínimo entre el nodo 0 y el nodo 8\n",
        "  if min_cost_flow.Solve() == min_cost_flow.OPTIMAL:\n",
        "    print('Distancia mínima:', min_cost_flow.OptimalCost())\n",
        "    print('')\n",
        "    print('  Arco    Flujo / Capacidad  Distancia')\n",
        "    for i in range(min_cost_flow.NumArcs()):\n",
        "      cost = min_cost_flow.Flow(i) * min_cost_flow.UnitCost(i)\n",
        "      print('%1s -> %1s    %3s   / %3s       %3s' % (\n",
        "          min_cost_flow.Tail(i),\n",
        "          min_cost_flow.Head(i),\n",
        "          min_cost_flow.Flow(i),\n",
        "          min_cost_flow.Capacity(i),\n",
        "          cost))\n",
        "  else:\n",
        "    print('Hubo un problema con la entrada de flujo de distancia mínima.')\n",
        "\n",
        "if __name__ == '__main__':\n",
        "  main()"
      ],
      "execution_count": 2,
      "outputs": [
        {
          "output_type": "stream",
          "name": "stdout",
          "text": [
            "Distancia mínima: 7\n",
            "\n",
            "  Arco    Flujo / Capacidad  Distancia\n",
            "0 -> 1      1   /   1         2\n",
            "0 -> 2      0   /   1         0\n",
            "0 -> 3      0   /   1         0\n",
            "1 -> 0      0   /   1         0\n",
            "1 -> 2      0   /   1         0\n",
            "1 -> 4      1   /   1         3\n",
            "2 -> 0      0   /   1         0\n",
            "2 -> 1      0   /   1         0\n",
            "2 -> 3      0   /   1         0\n",
            "2 -> 4      0   /   1         0\n",
            "2 -> 5      0   /   1         0\n",
            "3 -> 0      0   /   1         0\n",
            "3 -> 2      0   /   1         0\n",
            "3 -> 4      0   /   1         0\n",
            "3 -> 5      0   /   1         0\n",
            "3 -> 6      0   /   1         0\n",
            "4 -> 1      0   /   1         0\n",
            "4 -> 2      0   /   1         0\n",
            "4 -> 3      0   /   1         0\n",
            "4 -> 5      0   /   1         0\n",
            "4 -> 6      1   /   1         2\n",
            "5 -> 2      0   /   1         0\n",
            "5 -> 3      0   /   1         0\n",
            "5 -> 4      0   /   1         0\n",
            "5 -> 6      0   /   1         0\n",
            "6 -> 3      0   /   1         0\n",
            "6 -> 4      0   /   1         0\n",
            "6 -> 5      0   /   1         0\n"
          ]
        }
      ]
    },
    {
      "cell_type": "code",
      "metadata": {
        "id": "o2cs9jig_DKM"
      },
      "source": [
        "import folium\n",
        "from folium import plugins\n",
        "import pandas as pd\n",
        "import matplotlib.pyplot as plt\n",
        "import seaborn as sns\n",
        "\n",
        "%matplotlib inline"
      ],
      "execution_count": 3,
      "outputs": []
    },
    {
      "cell_type": "code",
      "metadata": {
        "colab": {
          "base_uri": "https://localhost:8080/",
          "height": 204
        },
        "id": "bowIT9dn-uBF",
        "outputId": "50446e10-ce59-40e7-dd6e-c7dc25f97040"
      },
      "source": [
        "#Para abrir excel\n",
        "df = pd.read_excel('datos1.xlsx', sheet_name=2)\n",
        "df.head()"
      ],
      "execution_count": 6,
      "outputs": [
        {
          "output_type": "execute_result",
          "data": {
            "text/html": [
              "<div>\n",
              "<style scoped>\n",
              "    .dataframe tbody tr th:only-of-type {\n",
              "        vertical-align: middle;\n",
              "    }\n",
              "\n",
              "    .dataframe tbody tr th {\n",
              "        vertical-align: top;\n",
              "    }\n",
              "\n",
              "    .dataframe thead th {\n",
              "        text-align: right;\n",
              "    }\n",
              "</style>\n",
              "<table border=\"1\" class=\"dataframe\">\n",
              "  <thead>\n",
              "    <tr style=\"text-align: right;\">\n",
              "      <th></th>\n",
              "      <th>Nodo</th>\n",
              "      <th>Colegio</th>\n",
              "      <th>Distrito</th>\n",
              "      <th>Lugar</th>\n",
              "      <th>Latitud</th>\n",
              "      <th>Longitud</th>\n",
              "      <th>Altitud</th>\n",
              "    </tr>\n",
              "  </thead>\n",
              "  <tbody>\n",
              "    <tr>\n",
              "      <th>0</th>\n",
              "      <td>0</td>\n",
              "      <td>ALEXANDER FLEMING</td>\n",
              "      <td>MOQUEGUA</td>\n",
              "      <td>AVENIDA LA PAZ 310</td>\n",
              "      <td>-17.19202</td>\n",
              "      <td>-70.93874</td>\n",
              "      <td>1396</td>\n",
              "    </tr>\n",
              "    <tr>\n",
              "      <th>1</th>\n",
              "      <td>1</td>\n",
              "      <td>JUAN PABLO II</td>\n",
              "      <td>MOQUEGUA</td>\n",
              "      <td>MZ C LOTE 11</td>\n",
              "      <td>-17.19111</td>\n",
              "      <td>-70.92896</td>\n",
              "      <td>1441</td>\n",
              "    </tr>\n",
              "    <tr>\n",
              "      <th>2</th>\n",
              "      <td>2</td>\n",
              "      <td>BENJAMIN FRANKLIN</td>\n",
              "      <td>MOQUEGUA</td>\n",
              "      <td>JIRON LIMA 905</td>\n",
              "      <td>-17.19125</td>\n",
              "      <td>-70.93304</td>\n",
              "      <td>1417</td>\n",
              "    </tr>\n",
              "    <tr>\n",
              "      <th>3</th>\n",
              "      <td>3</td>\n",
              "      <td>BILINGÜE MAX UHLE</td>\n",
              "      <td>MOQUEGUA</td>\n",
              "      <td>MZ B LOTE 11</td>\n",
              "      <td>-17.19080</td>\n",
              "      <td>-70.92845</td>\n",
              "      <td>1438</td>\n",
              "    </tr>\n",
              "    <tr>\n",
              "      <th>4</th>\n",
              "      <td>4</td>\n",
              "      <td>CEBA - LORD BYRON</td>\n",
              "      <td>MOQUEGUA</td>\n",
              "      <td>CALLE AREQUIPA 340</td>\n",
              "      <td>-17.19325</td>\n",
              "      <td>-70.93365</td>\n",
              "      <td>1431</td>\n",
              "    </tr>\n",
              "  </tbody>\n",
              "</table>\n",
              "</div>"
            ],
            "text/plain": [
              "   Nodo            Colegio  Distrito  ...   Latitud  Longitud  Altitud\n",
              "0     0  ALEXANDER FLEMING  MOQUEGUA  ... -17.19202 -70.93874     1396\n",
              "1     1      JUAN PABLO II  MOQUEGUA  ... -17.19111 -70.92896     1441\n",
              "2     2  BENJAMIN FRANKLIN  MOQUEGUA  ... -17.19125 -70.93304     1417\n",
              "3     3  BILINGÜE MAX UHLE  MOQUEGUA  ... -17.19080 -70.92845     1438\n",
              "4     4  CEBA - LORD BYRON  MOQUEGUA  ... -17.19325 -70.93365     1431\n",
              "\n",
              "[5 rows x 7 columns]"
            ]
          },
          "metadata": {},
          "execution_count": 6
        }
      ]
    },
    {
      "cell_type": "code",
      "metadata": {
        "colab": {
          "base_uri": "https://localhost:8080/",
          "height": 763
        },
        "id": "HOVwB1UG-_XI",
        "outputId": "4dbeacec-0f64-43ca-c1b3-4e00f8446233"
      },
      "source": [
        "m = folium.Map([-17.19111, -70.92896],  zoom_start=14)\n",
        "\n",
        "for index, row in df.iterrows():\n",
        "    folium.Marker([row['Latitud'], row['Longitud']], \n",
        "                  popup=row['Colegio'],\n",
        "                  icon=folium.Icon(icon='ok-sign')\n",
        "                 ).add_to(m)\n",
        "m"
      ],
      "execution_count": 8,
      "outputs": [
        {
          "output_type": "execute_result",
          "data": {
            "text/html": [
              "<div style=\"width:100%;\"><div style=\"position:relative;width:100%;height:0;padding-bottom:60%;\"><span style=\"color:#565656\">Make this Notebook Trusted to load map: File -> Trust Notebook</span><iframe src=\"about:blank\" style=\"position:absolute;width:100%;height:100%;left:0;top:0;border:none !important;\" data-html=%3C%21DOCTYPE%20html%3E%0A%3Chead%3E%20%20%20%20%0A%20%20%20%20%3Cmeta%20http-equiv%3D%22content-type%22%20content%3D%22text/html%3B%20charset%3DUTF-8%22%20/%3E%0A%20%20%20%20%3Cscript%3EL_PREFER_CANVAS%3Dfalse%3B%20L_NO_TOUCH%3Dfalse%3B%20L_DISABLE_3D%3Dfalse%3B%3C/script%3E%0A%20%20%20%20%3Cscript%20src%3D%22https%3A//cdn.jsdelivr.net/npm/leaflet%401.4.0/dist/leaflet.js%22%3E%3C/script%3E%0A%20%20%20%20%3Cscript%20src%3D%22https%3A//code.jquery.com/jquery-1.12.4.min.js%22%3E%3C/script%3E%0A%20%20%20%20%3Cscript%20src%3D%22https%3A//maxcdn.bootstrapcdn.com/bootstrap/3.2.0/js/bootstrap.min.js%22%3E%3C/script%3E%0A%20%20%20%20%3Cscript%20src%3D%22https%3A//cdnjs.cloudflare.com/ajax/libs/Leaflet.awesome-markers/2.0.2/leaflet.awesome-markers.js%22%3E%3C/script%3E%0A%20%20%20%20%3Clink%20rel%3D%22stylesheet%22%20href%3D%22https%3A//cdn.jsdelivr.net/npm/leaflet%401.4.0/dist/leaflet.css%22/%3E%0A%20%20%20%20%3Clink%20rel%3D%22stylesheet%22%20href%3D%22https%3A//maxcdn.bootstrapcdn.com/bootstrap/3.2.0/css/bootstrap.min.css%22/%3E%0A%20%20%20%20%3Clink%20rel%3D%22stylesheet%22%20href%3D%22https%3A//maxcdn.bootstrapcdn.com/bootstrap/3.2.0/css/bootstrap-theme.min.css%22/%3E%0A%20%20%20%20%3Clink%20rel%3D%22stylesheet%22%20href%3D%22https%3A//maxcdn.bootstrapcdn.com/font-awesome/4.6.3/css/font-awesome.min.css%22/%3E%0A%20%20%20%20%3Clink%20rel%3D%22stylesheet%22%20href%3D%22https%3A//cdnjs.cloudflare.com/ajax/libs/Leaflet.awesome-markers/2.0.2/leaflet.awesome-markers.css%22/%3E%0A%20%20%20%20%3Clink%20rel%3D%22stylesheet%22%20href%3D%22https%3A//rawcdn.githack.com/python-visualization/folium/master/folium/templates/leaflet.awesome.rotate.css%22/%3E%0A%20%20%20%20%3Cstyle%3Ehtml%2C%20body%20%7Bwidth%3A%20100%25%3Bheight%3A%20100%25%3Bmargin%3A%200%3Bpadding%3A%200%3B%7D%3C/style%3E%0A%20%20%20%20%3Cstyle%3E%23map%20%7Bposition%3Aabsolute%3Btop%3A0%3Bbottom%3A0%3Bright%3A0%3Bleft%3A0%3B%7D%3C/style%3E%0A%20%20%20%20%0A%20%20%20%20%3Cmeta%20name%3D%22viewport%22%20content%3D%22width%3Ddevice-width%2C%0A%20%20%20%20%20%20%20%20initial-scale%3D1.0%2C%20maximum-scale%3D1.0%2C%20user-scalable%3Dno%22%20/%3E%0A%20%20%20%20%3Cstyle%3E%23map_abe81338d3234c9bb74de8da0809d050%20%7B%0A%20%20%20%20%20%20%20%20position%3A%20relative%3B%0A%20%20%20%20%20%20%20%20width%3A%20100.0%25%3B%0A%20%20%20%20%20%20%20%20height%3A%20100.0%25%3B%0A%20%20%20%20%20%20%20%20left%3A%200.0%25%3B%0A%20%20%20%20%20%20%20%20top%3A%200.0%25%3B%0A%20%20%20%20%20%20%20%20%7D%0A%20%20%20%20%3C/style%3E%0A%3C/head%3E%0A%3Cbody%3E%20%20%20%20%0A%20%20%20%20%0A%20%20%20%20%3Cdiv%20class%3D%22folium-map%22%20id%3D%22map_abe81338d3234c9bb74de8da0809d050%22%20%3E%3C/div%3E%0A%3C/body%3E%0A%3Cscript%3E%20%20%20%20%0A%20%20%20%20%0A%20%20%20%20%0A%20%20%20%20%20%20%20%20var%20bounds%20%3D%20null%3B%0A%20%20%20%20%0A%0A%20%20%20%20var%20map_abe81338d3234c9bb74de8da0809d050%20%3D%20L.map%28%0A%20%20%20%20%20%20%20%20%27map_abe81338d3234c9bb74de8da0809d050%27%2C%20%7B%0A%20%20%20%20%20%20%20%20center%3A%20%5B-17.19111%2C%20-70.92896%5D%2C%0A%20%20%20%20%20%20%20%20zoom%3A%2014%2C%0A%20%20%20%20%20%20%20%20maxBounds%3A%20bounds%2C%0A%20%20%20%20%20%20%20%20layers%3A%20%5B%5D%2C%0A%20%20%20%20%20%20%20%20worldCopyJump%3A%20false%2C%0A%20%20%20%20%20%20%20%20crs%3A%20L.CRS.EPSG3857%2C%0A%20%20%20%20%20%20%20%20zoomControl%3A%20true%2C%0A%20%20%20%20%20%20%20%20%7D%29%3B%0A%0A%0A%20%20%20%20%0A%20%20%20%20var%20tile_layer_26d547d4afec4cc3a95dc23f195c32e7%20%3D%20L.tileLayer%28%0A%20%20%20%20%20%20%20%20%27https%3A//%7Bs%7D.tile.openstreetmap.org/%7Bz%7D/%7Bx%7D/%7By%7D.png%27%2C%0A%20%20%20%20%20%20%20%20%7B%0A%20%20%20%20%20%20%20%20%22attribution%22%3A%20null%2C%0A%20%20%20%20%20%20%20%20%22detectRetina%22%3A%20false%2C%0A%20%20%20%20%20%20%20%20%22maxNativeZoom%22%3A%2018%2C%0A%20%20%20%20%20%20%20%20%22maxZoom%22%3A%2018%2C%0A%20%20%20%20%20%20%20%20%22minZoom%22%3A%200%2C%0A%20%20%20%20%20%20%20%20%22noWrap%22%3A%20false%2C%0A%20%20%20%20%20%20%20%20%22opacity%22%3A%201%2C%0A%20%20%20%20%20%20%20%20%22subdomains%22%3A%20%22abc%22%2C%0A%20%20%20%20%20%20%20%20%22tms%22%3A%20false%0A%7D%29.addTo%28map_abe81338d3234c9bb74de8da0809d050%29%3B%0A%20%20%20%20%0A%20%20%20%20%20%20%20%20var%20marker_1686e29a5a7a4d8d9cf1a378c4702a21%20%3D%20L.marker%28%0A%20%20%20%20%20%20%20%20%20%20%20%20%5B-17.19202%2C%20-70.93874%5D%2C%0A%20%20%20%20%20%20%20%20%20%20%20%20%7B%0A%20%20%20%20%20%20%20%20%20%20%20%20%20%20%20%20icon%3A%20new%20L.Icon.Default%28%29%2C%0A%20%20%20%20%20%20%20%20%20%20%20%20%20%20%20%20%7D%0A%20%20%20%20%20%20%20%20%20%20%20%20%29.addTo%28map_abe81338d3234c9bb74de8da0809d050%29%3B%0A%20%20%20%20%20%20%20%20%0A%20%20%20%20%0A%0A%20%20%20%20%20%20%20%20%20%20%20%20%20%20%20%20var%20icon_f112b5e4c3de42169015b2a339878c7c%20%3D%20L.AwesomeMarkers.icon%28%7B%0A%20%20%20%20%20%20%20%20%20%20%20%20%20%20%20%20%20%20%20%20icon%3A%20%27ok-sign%27%2C%0A%20%20%20%20%20%20%20%20%20%20%20%20%20%20%20%20%20%20%20%20iconColor%3A%20%27white%27%2C%0A%20%20%20%20%20%20%20%20%20%20%20%20%20%20%20%20%20%20%20%20markerColor%3A%20%27blue%27%2C%0A%20%20%20%20%20%20%20%20%20%20%20%20%20%20%20%20%20%20%20%20prefix%3A%20%27glyphicon%27%2C%0A%20%20%20%20%20%20%20%20%20%20%20%20%20%20%20%20%20%20%20%20extraClasses%3A%20%27fa-rotate-0%27%0A%20%20%20%20%20%20%20%20%20%20%20%20%20%20%20%20%20%20%20%20%7D%29%3B%0A%20%20%20%20%20%20%20%20%20%20%20%20%20%20%20%20marker_1686e29a5a7a4d8d9cf1a378c4702a21.setIcon%28icon_f112b5e4c3de42169015b2a339878c7c%29%3B%0A%20%20%20%20%20%20%20%20%20%20%20%20%0A%20%20%20%20%0A%20%20%20%20%20%20%20%20%20%20%20%20var%20popup_c895ea4b1a004771b53e84ce4cdc1662%20%3D%20L.popup%28%7BmaxWidth%3A%20%27100%25%27%0A%20%20%20%20%20%20%20%20%20%20%20%20%0A%20%20%20%20%20%20%20%20%20%20%20%20%7D%29%3B%0A%0A%20%20%20%20%20%20%20%20%20%20%20%20%0A%20%20%20%20%20%20%20%20%20%20%20%20%20%20%20%20var%20html_adeea446fbf045fdb79226c14fd0828a%20%3D%20%24%28%60%3Cdiv%20id%3D%22html_adeea446fbf045fdb79226c14fd0828a%22%20style%3D%22width%3A%20100.0%25%3B%20height%3A%20100.0%25%3B%22%3EALEXANDER%20FLEMING%3C/div%3E%60%29%5B0%5D%3B%0A%20%20%20%20%20%20%20%20%20%20%20%20%20%20%20%20popup_c895ea4b1a004771b53e84ce4cdc1662.setContent%28html_adeea446fbf045fdb79226c14fd0828a%29%3B%0A%20%20%20%20%20%20%20%20%20%20%20%20%0A%0A%20%20%20%20%20%20%20%20%20%20%20%20marker_1686e29a5a7a4d8d9cf1a378c4702a21.bindPopup%28popup_c895ea4b1a004771b53e84ce4cdc1662%29%0A%20%20%20%20%20%20%20%20%20%20%20%20%3B%0A%0A%20%20%20%20%20%20%20%20%20%20%20%20%0A%20%20%20%20%20%20%20%20%0A%20%20%20%20%0A%20%20%20%20%20%20%20%20var%20marker_76358bea01b445d09ac28f7e9dfbcf3b%20%3D%20L.marker%28%0A%20%20%20%20%20%20%20%20%20%20%20%20%5B-17.191110000000002%2C%20-70.92896%5D%2C%0A%20%20%20%20%20%20%20%20%20%20%20%20%7B%0A%20%20%20%20%20%20%20%20%20%20%20%20%20%20%20%20icon%3A%20new%20L.Icon.Default%28%29%2C%0A%20%20%20%20%20%20%20%20%20%20%20%20%20%20%20%20%7D%0A%20%20%20%20%20%20%20%20%20%20%20%20%29.addTo%28map_abe81338d3234c9bb74de8da0809d050%29%3B%0A%20%20%20%20%20%20%20%20%0A%20%20%20%20%0A%0A%20%20%20%20%20%20%20%20%20%20%20%20%20%20%20%20var%20icon_cd5b30b2fe204ef0895f2cf10dca73ba%20%3D%20L.AwesomeMarkers.icon%28%7B%0A%20%20%20%20%20%20%20%20%20%20%20%20%20%20%20%20%20%20%20%20icon%3A%20%27ok-sign%27%2C%0A%20%20%20%20%20%20%20%20%20%20%20%20%20%20%20%20%20%20%20%20iconColor%3A%20%27white%27%2C%0A%20%20%20%20%20%20%20%20%20%20%20%20%20%20%20%20%20%20%20%20markerColor%3A%20%27blue%27%2C%0A%20%20%20%20%20%20%20%20%20%20%20%20%20%20%20%20%20%20%20%20prefix%3A%20%27glyphicon%27%2C%0A%20%20%20%20%20%20%20%20%20%20%20%20%20%20%20%20%20%20%20%20extraClasses%3A%20%27fa-rotate-0%27%0A%20%20%20%20%20%20%20%20%20%20%20%20%20%20%20%20%20%20%20%20%7D%29%3B%0A%20%20%20%20%20%20%20%20%20%20%20%20%20%20%20%20marker_76358bea01b445d09ac28f7e9dfbcf3b.setIcon%28icon_cd5b30b2fe204ef0895f2cf10dca73ba%29%3B%0A%20%20%20%20%20%20%20%20%20%20%20%20%0A%20%20%20%20%0A%20%20%20%20%20%20%20%20%20%20%20%20var%20popup_307b2ebc2a7845bcabc28187f41316c8%20%3D%20L.popup%28%7BmaxWidth%3A%20%27100%25%27%0A%20%20%20%20%20%20%20%20%20%20%20%20%0A%20%20%20%20%20%20%20%20%20%20%20%20%7D%29%3B%0A%0A%20%20%20%20%20%20%20%20%20%20%20%20%0A%20%20%20%20%20%20%20%20%20%20%20%20%20%20%20%20var%20html_9fa12a35b02e4f919b184cf00da6450b%20%3D%20%24%28%60%3Cdiv%20id%3D%22html_9fa12a35b02e4f919b184cf00da6450b%22%20style%3D%22width%3A%20100.0%25%3B%20height%3A%20100.0%25%3B%22%3EJUAN%20PABLO%20II%3C/div%3E%60%29%5B0%5D%3B%0A%20%20%20%20%20%20%20%20%20%20%20%20%20%20%20%20popup_307b2ebc2a7845bcabc28187f41316c8.setContent%28html_9fa12a35b02e4f919b184cf00da6450b%29%3B%0A%20%20%20%20%20%20%20%20%20%20%20%20%0A%0A%20%20%20%20%20%20%20%20%20%20%20%20marker_76358bea01b445d09ac28f7e9dfbcf3b.bindPopup%28popup_307b2ebc2a7845bcabc28187f41316c8%29%0A%20%20%20%20%20%20%20%20%20%20%20%20%3B%0A%0A%20%20%20%20%20%20%20%20%20%20%20%20%0A%20%20%20%20%20%20%20%20%0A%20%20%20%20%0A%20%20%20%20%20%20%20%20var%20marker_0f2e17ac2ac64e58af218fcd3f71f3e2%20%3D%20L.marker%28%0A%20%20%20%20%20%20%20%20%20%20%20%20%5B-17.19125%2C%20-70.93304%5D%2C%0A%20%20%20%20%20%20%20%20%20%20%20%20%7B%0A%20%20%20%20%20%20%20%20%20%20%20%20%20%20%20%20icon%3A%20new%20L.Icon.Default%28%29%2C%0A%20%20%20%20%20%20%20%20%20%20%20%20%20%20%20%20%7D%0A%20%20%20%20%20%20%20%20%20%20%20%20%29.addTo%28map_abe81338d3234c9bb74de8da0809d050%29%3B%0A%20%20%20%20%20%20%20%20%0A%20%20%20%20%0A%0A%20%20%20%20%20%20%20%20%20%20%20%20%20%20%20%20var%20icon_c94472f2c978491a8bf24dd647b40c24%20%3D%20L.AwesomeMarkers.icon%28%7B%0A%20%20%20%20%20%20%20%20%20%20%20%20%20%20%20%20%20%20%20%20icon%3A%20%27ok-sign%27%2C%0A%20%20%20%20%20%20%20%20%20%20%20%20%20%20%20%20%20%20%20%20iconColor%3A%20%27white%27%2C%0A%20%20%20%20%20%20%20%20%20%20%20%20%20%20%20%20%20%20%20%20markerColor%3A%20%27blue%27%2C%0A%20%20%20%20%20%20%20%20%20%20%20%20%20%20%20%20%20%20%20%20prefix%3A%20%27glyphicon%27%2C%0A%20%20%20%20%20%20%20%20%20%20%20%20%20%20%20%20%20%20%20%20extraClasses%3A%20%27fa-rotate-0%27%0A%20%20%20%20%20%20%20%20%20%20%20%20%20%20%20%20%20%20%20%20%7D%29%3B%0A%20%20%20%20%20%20%20%20%20%20%20%20%20%20%20%20marker_0f2e17ac2ac64e58af218fcd3f71f3e2.setIcon%28icon_c94472f2c978491a8bf24dd647b40c24%29%3B%0A%20%20%20%20%20%20%20%20%20%20%20%20%0A%20%20%20%20%0A%20%20%20%20%20%20%20%20%20%20%20%20var%20popup_68ba1ef386584079a1dc87195766b99f%20%3D%20L.popup%28%7BmaxWidth%3A%20%27100%25%27%0A%20%20%20%20%20%20%20%20%20%20%20%20%0A%20%20%20%20%20%20%20%20%20%20%20%20%7D%29%3B%0A%0A%20%20%20%20%20%20%20%20%20%20%20%20%0A%20%20%20%20%20%20%20%20%20%20%20%20%20%20%20%20var%20html_96d374c328d543f1bada39f01b7c67c2%20%3D%20%24%28%60%3Cdiv%20id%3D%22html_96d374c328d543f1bada39f01b7c67c2%22%20style%3D%22width%3A%20100.0%25%3B%20height%3A%20100.0%25%3B%22%3EBENJAMIN%20FRANKLIN%3C/div%3E%60%29%5B0%5D%3B%0A%20%20%20%20%20%20%20%20%20%20%20%20%20%20%20%20popup_68ba1ef386584079a1dc87195766b99f.setContent%28html_96d374c328d543f1bada39f01b7c67c2%29%3B%0A%20%20%20%20%20%20%20%20%20%20%20%20%0A%0A%20%20%20%20%20%20%20%20%20%20%20%20marker_0f2e17ac2ac64e58af218fcd3f71f3e2.bindPopup%28popup_68ba1ef386584079a1dc87195766b99f%29%0A%20%20%20%20%20%20%20%20%20%20%20%20%3B%0A%0A%20%20%20%20%20%20%20%20%20%20%20%20%0A%20%20%20%20%20%20%20%20%0A%20%20%20%20%0A%20%20%20%20%20%20%20%20var%20marker_c47c332d9cd44312831fb17be038c382%20%3D%20L.marker%28%0A%20%20%20%20%20%20%20%20%20%20%20%20%5B-17.1908%2C%20-70.92845%5D%2C%0A%20%20%20%20%20%20%20%20%20%20%20%20%7B%0A%20%20%20%20%20%20%20%20%20%20%20%20%20%20%20%20icon%3A%20new%20L.Icon.Default%28%29%2C%0A%20%20%20%20%20%20%20%20%20%20%20%20%20%20%20%20%7D%0A%20%20%20%20%20%20%20%20%20%20%20%20%29.addTo%28map_abe81338d3234c9bb74de8da0809d050%29%3B%0A%20%20%20%20%20%20%20%20%0A%20%20%20%20%0A%0A%20%20%20%20%20%20%20%20%20%20%20%20%20%20%20%20var%20icon_57973899be2f494a8d32266ed5d88a5c%20%3D%20L.AwesomeMarkers.icon%28%7B%0A%20%20%20%20%20%20%20%20%20%20%20%20%20%20%20%20%20%20%20%20icon%3A%20%27ok-sign%27%2C%0A%20%20%20%20%20%20%20%20%20%20%20%20%20%20%20%20%20%20%20%20iconColor%3A%20%27white%27%2C%0A%20%20%20%20%20%20%20%20%20%20%20%20%20%20%20%20%20%20%20%20markerColor%3A%20%27blue%27%2C%0A%20%20%20%20%20%20%20%20%20%20%20%20%20%20%20%20%20%20%20%20prefix%3A%20%27glyphicon%27%2C%0A%20%20%20%20%20%20%20%20%20%20%20%20%20%20%20%20%20%20%20%20extraClasses%3A%20%27fa-rotate-0%27%0A%20%20%20%20%20%20%20%20%20%20%20%20%20%20%20%20%20%20%20%20%7D%29%3B%0A%20%20%20%20%20%20%20%20%20%20%20%20%20%20%20%20marker_c47c332d9cd44312831fb17be038c382.setIcon%28icon_57973899be2f494a8d32266ed5d88a5c%29%3B%0A%20%20%20%20%20%20%20%20%20%20%20%20%0A%20%20%20%20%0A%20%20%20%20%20%20%20%20%20%20%20%20var%20popup_ff27ab9b974f4c7281776a1aff671f99%20%3D%20L.popup%28%7BmaxWidth%3A%20%27100%25%27%0A%20%20%20%20%20%20%20%20%20%20%20%20%0A%20%20%20%20%20%20%20%20%20%20%20%20%7D%29%3B%0A%0A%20%20%20%20%20%20%20%20%20%20%20%20%0A%20%20%20%20%20%20%20%20%20%20%20%20%20%20%20%20var%20html_9121aee21a6c434e8231a570469b80ea%20%3D%20%24%28%60%3Cdiv%20id%3D%22html_9121aee21a6c434e8231a570469b80ea%22%20style%3D%22width%3A%20100.0%25%3B%20height%3A%20100.0%25%3B%22%3EBILING%C3%9CE%20MAX%20UHLE%3C/div%3E%60%29%5B0%5D%3B%0A%20%20%20%20%20%20%20%20%20%20%20%20%20%20%20%20popup_ff27ab9b974f4c7281776a1aff671f99.setContent%28html_9121aee21a6c434e8231a570469b80ea%29%3B%0A%20%20%20%20%20%20%20%20%20%20%20%20%0A%0A%20%20%20%20%20%20%20%20%20%20%20%20marker_c47c332d9cd44312831fb17be038c382.bindPopup%28popup_ff27ab9b974f4c7281776a1aff671f99%29%0A%20%20%20%20%20%20%20%20%20%20%20%20%3B%0A%0A%20%20%20%20%20%20%20%20%20%20%20%20%0A%20%20%20%20%20%20%20%20%0A%20%20%20%20%0A%20%20%20%20%20%20%20%20var%20marker_a5ce0ec20e544a1092b40f87d9816e8a%20%3D%20L.marker%28%0A%20%20%20%20%20%20%20%20%20%20%20%20%5B-17.19325%2C%20-70.93365%5D%2C%0A%20%20%20%20%20%20%20%20%20%20%20%20%7B%0A%20%20%20%20%20%20%20%20%20%20%20%20%20%20%20%20icon%3A%20new%20L.Icon.Default%28%29%2C%0A%20%20%20%20%20%20%20%20%20%20%20%20%20%20%20%20%7D%0A%20%20%20%20%20%20%20%20%20%20%20%20%29.addTo%28map_abe81338d3234c9bb74de8da0809d050%29%3B%0A%20%20%20%20%20%20%20%20%0A%20%20%20%20%0A%0A%20%20%20%20%20%20%20%20%20%20%20%20%20%20%20%20var%20icon_453ee8e1d29b466c90ee225d80fee405%20%3D%20L.AwesomeMarkers.icon%28%7B%0A%20%20%20%20%20%20%20%20%20%20%20%20%20%20%20%20%20%20%20%20icon%3A%20%27ok-sign%27%2C%0A%20%20%20%20%20%20%20%20%20%20%20%20%20%20%20%20%20%20%20%20iconColor%3A%20%27white%27%2C%0A%20%20%20%20%20%20%20%20%20%20%20%20%20%20%20%20%20%20%20%20markerColor%3A%20%27blue%27%2C%0A%20%20%20%20%20%20%20%20%20%20%20%20%20%20%20%20%20%20%20%20prefix%3A%20%27glyphicon%27%2C%0A%20%20%20%20%20%20%20%20%20%20%20%20%20%20%20%20%20%20%20%20extraClasses%3A%20%27fa-rotate-0%27%0A%20%20%20%20%20%20%20%20%20%20%20%20%20%20%20%20%20%20%20%20%7D%29%3B%0A%20%20%20%20%20%20%20%20%20%20%20%20%20%20%20%20marker_a5ce0ec20e544a1092b40f87d9816e8a.setIcon%28icon_453ee8e1d29b466c90ee225d80fee405%29%3B%0A%20%20%20%20%20%20%20%20%20%20%20%20%0A%20%20%20%20%0A%20%20%20%20%20%20%20%20%20%20%20%20var%20popup_3a4ac9cc7213444e9cbe1c1d3446da30%20%3D%20L.popup%28%7BmaxWidth%3A%20%27100%25%27%0A%20%20%20%20%20%20%20%20%20%20%20%20%0A%20%20%20%20%20%20%20%20%20%20%20%20%7D%29%3B%0A%0A%20%20%20%20%20%20%20%20%20%20%20%20%0A%20%20%20%20%20%20%20%20%20%20%20%20%20%20%20%20var%20html_69da69852e1d41e08e344aee30d46e86%20%3D%20%24%28%60%3Cdiv%20id%3D%22html_69da69852e1d41e08e344aee30d46e86%22%20style%3D%22width%3A%20100.0%25%3B%20height%3A%20100.0%25%3B%22%3ECEBA%20-%20LORD%20BYRON%3C/div%3E%60%29%5B0%5D%3B%0A%20%20%20%20%20%20%20%20%20%20%20%20%20%20%20%20popup_3a4ac9cc7213444e9cbe1c1d3446da30.setContent%28html_69da69852e1d41e08e344aee30d46e86%29%3B%0A%20%20%20%20%20%20%20%20%20%20%20%20%0A%0A%20%20%20%20%20%20%20%20%20%20%20%20marker_a5ce0ec20e544a1092b40f87d9816e8a.bindPopup%28popup_3a4ac9cc7213444e9cbe1c1d3446da30%29%0A%20%20%20%20%20%20%20%20%20%20%20%20%3B%0A%0A%20%20%20%20%20%20%20%20%20%20%20%20%0A%20%20%20%20%20%20%20%20%0A%20%20%20%20%0A%20%20%20%20%20%20%20%20var%20marker_c628e2a40c1044e889e1d8ea375afdaa%20%3D%20L.marker%28%0A%20%20%20%20%20%20%20%20%20%20%20%20%5B-17.19657%2C%20-70.93493000000001%5D%2C%0A%20%20%20%20%20%20%20%20%20%20%20%20%7B%0A%20%20%20%20%20%20%20%20%20%20%20%20%20%20%20%20icon%3A%20new%20L.Icon.Default%28%29%2C%0A%20%20%20%20%20%20%20%20%20%20%20%20%20%20%20%20%7D%0A%20%20%20%20%20%20%20%20%20%20%20%20%29.addTo%28map_abe81338d3234c9bb74de8da0809d050%29%3B%0A%20%20%20%20%20%20%20%20%0A%20%20%20%20%0A%0A%20%20%20%20%20%20%20%20%20%20%20%20%20%20%20%20var%20icon_6a1cea4beb124c9ea911d8a3b9c5c8de%20%3D%20L.AwesomeMarkers.icon%28%7B%0A%20%20%20%20%20%20%20%20%20%20%20%20%20%20%20%20%20%20%20%20icon%3A%20%27ok-sign%27%2C%0A%20%20%20%20%20%20%20%20%20%20%20%20%20%20%20%20%20%20%20%20iconColor%3A%20%27white%27%2C%0A%20%20%20%20%20%20%20%20%20%20%20%20%20%20%20%20%20%20%20%20markerColor%3A%20%27blue%27%2C%0A%20%20%20%20%20%20%20%20%20%20%20%20%20%20%20%20%20%20%20%20prefix%3A%20%27glyphicon%27%2C%0A%20%20%20%20%20%20%20%20%20%20%20%20%20%20%20%20%20%20%20%20extraClasses%3A%20%27fa-rotate-0%27%0A%20%20%20%20%20%20%20%20%20%20%20%20%20%20%20%20%20%20%20%20%7D%29%3B%0A%20%20%20%20%20%20%20%20%20%20%20%20%20%20%20%20marker_c628e2a40c1044e889e1d8ea375afdaa.setIcon%28icon_6a1cea4beb124c9ea911d8a3b9c5c8de%29%3B%0A%20%20%20%20%20%20%20%20%20%20%20%20%0A%20%20%20%20%0A%20%20%20%20%20%20%20%20%20%20%20%20var%20popup_2b95ff1efd144e1b9b41fb7a78e9d7e9%20%3D%20L.popup%28%7BmaxWidth%3A%20%27100%25%27%0A%20%20%20%20%20%20%20%20%20%20%20%20%0A%20%20%20%20%20%20%20%20%20%20%20%20%7D%29%3B%0A%0A%20%20%20%20%20%20%20%20%20%20%20%20%0A%20%20%20%20%20%20%20%20%20%20%20%20%20%20%20%20var%20html_1c02e77c79854a4ba8274f2b7e25cecc%20%3D%20%24%28%60%3Cdiv%20id%3D%22html_1c02e77c79854a4ba8274f2b7e25cecc%22%20style%3D%22width%3A%20100.0%25%3B%20height%3A%20100.0%25%3B%22%3ECOLEGIO%20ADVENTISTA%20FERNANDO%20STAHL%3C/div%3E%60%29%5B0%5D%3B%0A%20%20%20%20%20%20%20%20%20%20%20%20%20%20%20%20popup_2b95ff1efd144e1b9b41fb7a78e9d7e9.setContent%28html_1c02e77c79854a4ba8274f2b7e25cecc%29%3B%0A%20%20%20%20%20%20%20%20%20%20%20%20%0A%0A%20%20%20%20%20%20%20%20%20%20%20%20marker_c628e2a40c1044e889e1d8ea375afdaa.bindPopup%28popup_2b95ff1efd144e1b9b41fb7a78e9d7e9%29%0A%20%20%20%20%20%20%20%20%20%20%20%20%3B%0A%0A%20%20%20%20%20%20%20%20%20%20%20%20%0A%20%20%20%20%20%20%20%20%0A%20%20%20%20%0A%20%20%20%20%20%20%20%20var%20marker_d969957954034428a044a64c82b6fe08%20%3D%20L.marker%28%0A%20%20%20%20%20%20%20%20%20%20%20%20%5B-17.18723%2C%20-70.92546%5D%2C%0A%20%20%20%20%20%20%20%20%20%20%20%20%7B%0A%20%20%20%20%20%20%20%20%20%20%20%20%20%20%20%20icon%3A%20new%20L.Icon.Default%28%29%2C%0A%20%20%20%20%20%20%20%20%20%20%20%20%20%20%20%20%7D%0A%20%20%20%20%20%20%20%20%20%20%20%20%29.addTo%28map_abe81338d3234c9bb74de8da0809d050%29%3B%0A%20%20%20%20%20%20%20%20%0A%20%20%20%20%0A%0A%20%20%20%20%20%20%20%20%20%20%20%20%20%20%20%20var%20icon_ddbb29db2d484bf3ac0f645bcee55400%20%3D%20L.AwesomeMarkers.icon%28%7B%0A%20%20%20%20%20%20%20%20%20%20%20%20%20%20%20%20%20%20%20%20icon%3A%20%27ok-sign%27%2C%0A%20%20%20%20%20%20%20%20%20%20%20%20%20%20%20%20%20%20%20%20iconColor%3A%20%27white%27%2C%0A%20%20%20%20%20%20%20%20%20%20%20%20%20%20%20%20%20%20%20%20markerColor%3A%20%27blue%27%2C%0A%20%20%20%20%20%20%20%20%20%20%20%20%20%20%20%20%20%20%20%20prefix%3A%20%27glyphicon%27%2C%0A%20%20%20%20%20%20%20%20%20%20%20%20%20%20%20%20%20%20%20%20extraClasses%3A%20%27fa-rotate-0%27%0A%20%20%20%20%20%20%20%20%20%20%20%20%20%20%20%20%20%20%20%20%7D%29%3B%0A%20%20%20%20%20%20%20%20%20%20%20%20%20%20%20%20marker_d969957954034428a044a64c82b6fe08.setIcon%28icon_ddbb29db2d484bf3ac0f645bcee55400%29%3B%0A%20%20%20%20%20%20%20%20%20%20%20%20%0A%20%20%20%20%0A%20%20%20%20%20%20%20%20%20%20%20%20var%20popup_6b4c132559e547c5b9eed1e9d890bd36%20%3D%20L.popup%28%7BmaxWidth%3A%20%27100%25%27%0A%20%20%20%20%20%20%20%20%20%20%20%20%0A%20%20%20%20%20%20%20%20%20%20%20%20%7D%29%3B%0A%0A%20%20%20%20%20%20%20%20%20%20%20%20%0A%20%20%20%20%20%20%20%20%20%20%20%20%20%20%20%20var%20html_245aa76cdf194f6a88e67219e879cfeb%20%3D%20%24%28%60%3Cdiv%20id%3D%22html_245aa76cdf194f6a88e67219e879cfeb%22%20style%3D%22width%3A%20100.0%25%3B%20height%3A%20100.0%25%3B%22%3EEMMI%20PIKLER%3C/div%3E%60%29%5B0%5D%3B%0A%20%20%20%20%20%20%20%20%20%20%20%20%20%20%20%20popup_6b4c132559e547c5b9eed1e9d890bd36.setContent%28html_245aa76cdf194f6a88e67219e879cfeb%29%3B%0A%20%20%20%20%20%20%20%20%20%20%20%20%0A%0A%20%20%20%20%20%20%20%20%20%20%20%20marker_d969957954034428a044a64c82b6fe08.bindPopup%28popup_6b4c132559e547c5b9eed1e9d890bd36%29%0A%20%20%20%20%20%20%20%20%20%20%20%20%3B%0A%0A%20%20%20%20%20%20%20%20%20%20%20%20%0A%20%20%20%20%20%20%20%20%0A%20%20%20%20%0A%20%20%20%20%20%20%20%20var%20marker_dce24df8e82847f8b00a36d852f36de8%20%3D%20L.marker%28%0A%20%20%20%20%20%20%20%20%20%20%20%20%5B-17.19353%2C%20-70.93808%5D%2C%0A%20%20%20%20%20%20%20%20%20%20%20%20%7B%0A%20%20%20%20%20%20%20%20%20%20%20%20%20%20%20%20icon%3A%20new%20L.Icon.Default%28%29%2C%0A%20%20%20%20%20%20%20%20%20%20%20%20%20%20%20%20%7D%0A%20%20%20%20%20%20%20%20%20%20%20%20%29.addTo%28map_abe81338d3234c9bb74de8da0809d050%29%3B%0A%20%20%20%20%20%20%20%20%0A%20%20%20%20%0A%0A%20%20%20%20%20%20%20%20%20%20%20%20%20%20%20%20var%20icon_0029a48831814735bd144ee146b6aa11%20%3D%20L.AwesomeMarkers.icon%28%7B%0A%20%20%20%20%20%20%20%20%20%20%20%20%20%20%20%20%20%20%20%20icon%3A%20%27ok-sign%27%2C%0A%20%20%20%20%20%20%20%20%20%20%20%20%20%20%20%20%20%20%20%20iconColor%3A%20%27white%27%2C%0A%20%20%20%20%20%20%20%20%20%20%20%20%20%20%20%20%20%20%20%20markerColor%3A%20%27blue%27%2C%0A%20%20%20%20%20%20%20%20%20%20%20%20%20%20%20%20%20%20%20%20prefix%3A%20%27glyphicon%27%2C%0A%20%20%20%20%20%20%20%20%20%20%20%20%20%20%20%20%20%20%20%20extraClasses%3A%20%27fa-rotate-0%27%0A%20%20%20%20%20%20%20%20%20%20%20%20%20%20%20%20%20%20%20%20%7D%29%3B%0A%20%20%20%20%20%20%20%20%20%20%20%20%20%20%20%20marker_dce24df8e82847f8b00a36d852f36de8.setIcon%28icon_0029a48831814735bd144ee146b6aa11%29%3B%0A%20%20%20%20%20%20%20%20%20%20%20%20%0A%20%20%20%20%0A%20%20%20%20%20%20%20%20%20%20%20%20var%20popup_c5ecd738c1ec4681a308c546510de1c5%20%3D%20L.popup%28%7BmaxWidth%3A%20%27100%25%27%0A%20%20%20%20%20%20%20%20%20%20%20%20%0A%20%20%20%20%20%20%20%20%20%20%20%20%7D%29%3B%0A%0A%20%20%20%20%20%20%20%20%20%20%20%20%0A%20%20%20%20%20%20%20%20%20%20%20%20%20%20%20%20var%20html_b74eddf8e4f84286a9aa9ab5412047c2%20%3D%20%24%28%60%3Cdiv%20id%3D%22html_b74eddf8e4f84286a9aa9ab5412047c2%22%20style%3D%22width%3A%20100.0%25%3B%20height%3A%20100.0%25%3B%22%3EFLAVISUR%3C/div%3E%60%29%5B0%5D%3B%0A%20%20%20%20%20%20%20%20%20%20%20%20%20%20%20%20popup_c5ecd738c1ec4681a308c546510de1c5.setContent%28html_b74eddf8e4f84286a9aa9ab5412047c2%29%3B%0A%20%20%20%20%20%20%20%20%20%20%20%20%0A%0A%20%20%20%20%20%20%20%20%20%20%20%20marker_dce24df8e82847f8b00a36d852f36de8.bindPopup%28popup_c5ecd738c1ec4681a308c546510de1c5%29%0A%20%20%20%20%20%20%20%20%20%20%20%20%3B%0A%0A%20%20%20%20%20%20%20%20%20%20%20%20%0A%20%20%20%20%20%20%20%20%0A%20%20%20%20%0A%20%20%20%20%20%20%20%20var%20marker_5167b77121ae49d9871f6e7f3336dce3%20%3D%20L.marker%28%0A%20%20%20%20%20%20%20%20%20%20%20%20%5B-17.189020000000003%2C%20-70.94032%5D%2C%0A%20%20%20%20%20%20%20%20%20%20%20%20%7B%0A%20%20%20%20%20%20%20%20%20%20%20%20%20%20%20%20icon%3A%20new%20L.Icon.Default%28%29%2C%0A%20%20%20%20%20%20%20%20%20%20%20%20%20%20%20%20%7D%0A%20%20%20%20%20%20%20%20%20%20%20%20%29.addTo%28map_abe81338d3234c9bb74de8da0809d050%29%3B%0A%20%20%20%20%20%20%20%20%0A%20%20%20%20%0A%0A%20%20%20%20%20%20%20%20%20%20%20%20%20%20%20%20var%20icon_47649a5301504bad8b8e7fd99983015f%20%3D%20L.AwesomeMarkers.icon%28%7B%0A%20%20%20%20%20%20%20%20%20%20%20%20%20%20%20%20%20%20%20%20icon%3A%20%27ok-sign%27%2C%0A%20%20%20%20%20%20%20%20%20%20%20%20%20%20%20%20%20%20%20%20iconColor%3A%20%27white%27%2C%0A%20%20%20%20%20%20%20%20%20%20%20%20%20%20%20%20%20%20%20%20markerColor%3A%20%27blue%27%2C%0A%20%20%20%20%20%20%20%20%20%20%20%20%20%20%20%20%20%20%20%20prefix%3A%20%27glyphicon%27%2C%0A%20%20%20%20%20%20%20%20%20%20%20%20%20%20%20%20%20%20%20%20extraClasses%3A%20%27fa-rotate-0%27%0A%20%20%20%20%20%20%20%20%20%20%20%20%20%20%20%20%20%20%20%20%7D%29%3B%0A%20%20%20%20%20%20%20%20%20%20%20%20%20%20%20%20marker_5167b77121ae49d9871f6e7f3336dce3.setIcon%28icon_47649a5301504bad8b8e7fd99983015f%29%3B%0A%20%20%20%20%20%20%20%20%20%20%20%20%0A%20%20%20%20%0A%20%20%20%20%20%20%20%20%20%20%20%20var%20popup_92ea523d5e8b41d7834a1dfaf21ea3a7%20%3D%20L.popup%28%7BmaxWidth%3A%20%27100%25%27%0A%20%20%20%20%20%20%20%20%20%20%20%20%0A%20%20%20%20%20%20%20%20%20%20%20%20%7D%29%3B%0A%0A%20%20%20%20%20%20%20%20%20%20%20%20%0A%20%20%20%20%20%20%20%20%20%20%20%20%20%20%20%20var%20html_0cbcffd464364eb9970c2aff91fa59d0%20%3D%20%24%28%60%3Cdiv%20id%3D%22html_0cbcffd464364eb9970c2aff91fa59d0%22%20style%3D%22width%3A%20100.0%25%3B%20height%3A%20100.0%25%3B%22%3EFRANCISCO%20FAHLMAN%20SELINGER%3C/div%3E%60%29%5B0%5D%3B%0A%20%20%20%20%20%20%20%20%20%20%20%20%20%20%20%20popup_92ea523d5e8b41d7834a1dfaf21ea3a7.setContent%28html_0cbcffd464364eb9970c2aff91fa59d0%29%3B%0A%20%20%20%20%20%20%20%20%20%20%20%20%0A%0A%20%20%20%20%20%20%20%20%20%20%20%20marker_5167b77121ae49d9871f6e7f3336dce3.bindPopup%28popup_92ea523d5e8b41d7834a1dfaf21ea3a7%29%0A%20%20%20%20%20%20%20%20%20%20%20%20%3B%0A%0A%20%20%20%20%20%20%20%20%20%20%20%20%0A%20%20%20%20%20%20%20%20%0A%20%20%20%20%0A%20%20%20%20%20%20%20%20var%20marker_23b38a10fdc24b0e821eb48c9a8b173f%20%3D%20L.marker%28%0A%20%20%20%20%20%20%20%20%20%20%20%20%5B-17.189420000000002%2C%20-70.93798000000001%5D%2C%0A%20%20%20%20%20%20%20%20%20%20%20%20%7B%0A%20%20%20%20%20%20%20%20%20%20%20%20%20%20%20%20icon%3A%20new%20L.Icon.Default%28%29%2C%0A%20%20%20%20%20%20%20%20%20%20%20%20%20%20%20%20%7D%0A%20%20%20%20%20%20%20%20%20%20%20%20%29.addTo%28map_abe81338d3234c9bb74de8da0809d050%29%3B%0A%20%20%20%20%20%20%20%20%0A%20%20%20%20%0A%0A%20%20%20%20%20%20%20%20%20%20%20%20%20%20%20%20var%20icon_0de5b0356f5c42bc9d67d67633a70b30%20%3D%20L.AwesomeMarkers.icon%28%7B%0A%20%20%20%20%20%20%20%20%20%20%20%20%20%20%20%20%20%20%20%20icon%3A%20%27ok-sign%27%2C%0A%20%20%20%20%20%20%20%20%20%20%20%20%20%20%20%20%20%20%20%20iconColor%3A%20%27white%27%2C%0A%20%20%20%20%20%20%20%20%20%20%20%20%20%20%20%20%20%20%20%20markerColor%3A%20%27blue%27%2C%0A%20%20%20%20%20%20%20%20%20%20%20%20%20%20%20%20%20%20%20%20prefix%3A%20%27glyphicon%27%2C%0A%20%20%20%20%20%20%20%20%20%20%20%20%20%20%20%20%20%20%20%20extraClasses%3A%20%27fa-rotate-0%27%0A%20%20%20%20%20%20%20%20%20%20%20%20%20%20%20%20%20%20%20%20%7D%29%3B%0A%20%20%20%20%20%20%20%20%20%20%20%20%20%20%20%20marker_23b38a10fdc24b0e821eb48c9a8b173f.setIcon%28icon_0de5b0356f5c42bc9d67d67633a70b30%29%3B%0A%20%20%20%20%20%20%20%20%20%20%20%20%0A%20%20%20%20%0A%20%20%20%20%20%20%20%20%20%20%20%20var%20popup_6750aae38fae4ac4ba8a59c68d774db1%20%3D%20L.popup%28%7BmaxWidth%3A%20%27100%25%27%0A%20%20%20%20%20%20%20%20%20%20%20%20%0A%20%20%20%20%20%20%20%20%20%20%20%20%7D%29%3B%0A%0A%20%20%20%20%20%20%20%20%20%20%20%20%0A%20%20%20%20%20%20%20%20%20%20%20%20%20%20%20%20var%20html_acff0a01a0d04c02a03276bebd004523%20%3D%20%24%28%60%3Cdiv%20id%3D%22html_acff0a01a0d04c02a03276bebd004523%22%20style%3D%22width%3A%20100.0%25%3B%20height%3A%20100.0%25%3B%22%3EHOPE%20S%20SCHOOL%3C/div%3E%60%29%5B0%5D%3B%0A%20%20%20%20%20%20%20%20%20%20%20%20%20%20%20%20popup_6750aae38fae4ac4ba8a59c68d774db1.setContent%28html_acff0a01a0d04c02a03276bebd004523%29%3B%0A%20%20%20%20%20%20%20%20%20%20%20%20%0A%0A%20%20%20%20%20%20%20%20%20%20%20%20marker_23b38a10fdc24b0e821eb48c9a8b173f.bindPopup%28popup_6750aae38fae4ac4ba8a59c68d774db1%29%0A%20%20%20%20%20%20%20%20%20%20%20%20%3B%0A%0A%20%20%20%20%20%20%20%20%20%20%20%20%0A%20%20%20%20%20%20%20%20%0A%20%20%20%20%0A%20%20%20%20%20%20%20%20var%20marker_3544557c9ad74efb9063400a112af171%20%3D%20L.marker%28%0A%20%20%20%20%20%20%20%20%20%20%20%20%5B-17.188229999999997%2C%20-70.93521%5D%2C%0A%20%20%20%20%20%20%20%20%20%20%20%20%7B%0A%20%20%20%20%20%20%20%20%20%20%20%20%20%20%20%20icon%3A%20new%20L.Icon.Default%28%29%2C%0A%20%20%20%20%20%20%20%20%20%20%20%20%20%20%20%20%7D%0A%20%20%20%20%20%20%20%20%20%20%20%20%29.addTo%28map_abe81338d3234c9bb74de8da0809d050%29%3B%0A%20%20%20%20%20%20%20%20%0A%20%20%20%20%0A%0A%20%20%20%20%20%20%20%20%20%20%20%20%20%20%20%20var%20icon_f9a2a6cbf9ae4137babb517fb0d1be22%20%3D%20L.AwesomeMarkers.icon%28%7B%0A%20%20%20%20%20%20%20%20%20%20%20%20%20%20%20%20%20%20%20%20icon%3A%20%27ok-sign%27%2C%0A%20%20%20%20%20%20%20%20%20%20%20%20%20%20%20%20%20%20%20%20iconColor%3A%20%27white%27%2C%0A%20%20%20%20%20%20%20%20%20%20%20%20%20%20%20%20%20%20%20%20markerColor%3A%20%27blue%27%2C%0A%20%20%20%20%20%20%20%20%20%20%20%20%20%20%20%20%20%20%20%20prefix%3A%20%27glyphicon%27%2C%0A%20%20%20%20%20%20%20%20%20%20%20%20%20%20%20%20%20%20%20%20extraClasses%3A%20%27fa-rotate-0%27%0A%20%20%20%20%20%20%20%20%20%20%20%20%20%20%20%20%20%20%20%20%7D%29%3B%0A%20%20%20%20%20%20%20%20%20%20%20%20%20%20%20%20marker_3544557c9ad74efb9063400a112af171.setIcon%28icon_f9a2a6cbf9ae4137babb517fb0d1be22%29%3B%0A%20%20%20%20%20%20%20%20%20%20%20%20%0A%20%20%20%20%0A%20%20%20%20%20%20%20%20%20%20%20%20var%20popup_f25231cfd2a745ceaed5a4ef35a6b2a8%20%3D%20L.popup%28%7BmaxWidth%3A%20%27100%25%27%0A%20%20%20%20%20%20%20%20%20%20%20%20%0A%20%20%20%20%20%20%20%20%20%20%20%20%7D%29%3B%0A%0A%20%20%20%20%20%20%20%20%20%20%20%20%0A%20%20%20%20%20%20%20%20%20%20%20%20%20%20%20%20var%20html_0c20e07e7c9149a18e3d12b71241ac23%20%3D%20%24%28%60%3Cdiv%20id%3D%22html_0c20e07e7c9149a18e3d12b71241ac23%22%20style%3D%22width%3A%20100.0%25%3B%20height%3A%20100.0%25%3B%22%3EINNOVA%20SCHOOLS%20%3C/div%3E%60%29%5B0%5D%3B%0A%20%20%20%20%20%20%20%20%20%20%20%20%20%20%20%20popup_f25231cfd2a745ceaed5a4ef35a6b2a8.setContent%28html_0c20e07e7c9149a18e3d12b71241ac23%29%3B%0A%20%20%20%20%20%20%20%20%20%20%20%20%0A%0A%20%20%20%20%20%20%20%20%20%20%20%20marker_3544557c9ad74efb9063400a112af171.bindPopup%28popup_f25231cfd2a745ceaed5a4ef35a6b2a8%29%0A%20%20%20%20%20%20%20%20%20%20%20%20%3B%0A%0A%20%20%20%20%20%20%20%20%20%20%20%20%0A%20%20%20%20%20%20%20%20%0A%20%20%20%20%0A%20%20%20%20%20%20%20%20var%20marker_5f9829f130e947719f964260db16464e%20%3D%20L.marker%28%0A%20%20%20%20%20%20%20%20%20%20%20%20%5B-17.1904%2C%20-70.93139000000001%5D%2C%0A%20%20%20%20%20%20%20%20%20%20%20%20%7B%0A%20%20%20%20%20%20%20%20%20%20%20%20%20%20%20%20icon%3A%20new%20L.Icon.Default%28%29%2C%0A%20%20%20%20%20%20%20%20%20%20%20%20%20%20%20%20%7D%0A%20%20%20%20%20%20%20%20%20%20%20%20%29.addTo%28map_abe81338d3234c9bb74de8da0809d050%29%3B%0A%20%20%20%20%20%20%20%20%0A%20%20%20%20%0A%0A%20%20%20%20%20%20%20%20%20%20%20%20%20%20%20%20var%20icon_8c90045952ad438da84fcfde73099a61%20%3D%20L.AwesomeMarkers.icon%28%7B%0A%20%20%20%20%20%20%20%20%20%20%20%20%20%20%20%20%20%20%20%20icon%3A%20%27ok-sign%27%2C%0A%20%20%20%20%20%20%20%20%20%20%20%20%20%20%20%20%20%20%20%20iconColor%3A%20%27white%27%2C%0A%20%20%20%20%20%20%20%20%20%20%20%20%20%20%20%20%20%20%20%20markerColor%3A%20%27blue%27%2C%0A%20%20%20%20%20%20%20%20%20%20%20%20%20%20%20%20%20%20%20%20prefix%3A%20%27glyphicon%27%2C%0A%20%20%20%20%20%20%20%20%20%20%20%20%20%20%20%20%20%20%20%20extraClasses%3A%20%27fa-rotate-0%27%0A%20%20%20%20%20%20%20%20%20%20%20%20%20%20%20%20%20%20%20%20%7D%29%3B%0A%20%20%20%20%20%20%20%20%20%20%20%20%20%20%20%20marker_5f9829f130e947719f964260db16464e.setIcon%28icon_8c90045952ad438da84fcfde73099a61%29%3B%0A%20%20%20%20%20%20%20%20%20%20%20%20%0A%20%20%20%20%0A%20%20%20%20%20%20%20%20%20%20%20%20var%20popup_2f3b72f8663140b4a5afc8f95163733d%20%3D%20L.popup%28%7BmaxWidth%3A%20%27100%25%27%0A%20%20%20%20%20%20%20%20%20%20%20%20%0A%20%20%20%20%20%20%20%20%20%20%20%20%7D%29%3B%0A%0A%20%20%20%20%20%20%20%20%20%20%20%20%0A%20%20%20%20%20%20%20%20%20%20%20%20%20%20%20%20var%20html_3f3823bf738b45c78ac1dcd175c84c4b%20%3D%20%24%28%60%3Cdiv%20id%3D%22html_3f3823bf738b45c78ac1dcd175c84c4b%22%20style%3D%22width%3A%20100.0%25%3B%20height%3A%20100.0%25%3B%22%3EJUAN%20XXIII%3C/div%3E%60%29%5B0%5D%3B%0A%20%20%20%20%20%20%20%20%20%20%20%20%20%20%20%20popup_2f3b72f8663140b4a5afc8f95163733d.setContent%28html_3f3823bf738b45c78ac1dcd175c84c4b%29%3B%0A%20%20%20%20%20%20%20%20%20%20%20%20%0A%0A%20%20%20%20%20%20%20%20%20%20%20%20marker_5f9829f130e947719f964260db16464e.bindPopup%28popup_2f3b72f8663140b4a5afc8f95163733d%29%0A%20%20%20%20%20%20%20%20%20%20%20%20%3B%0A%0A%20%20%20%20%20%20%20%20%20%20%20%20%0A%20%20%20%20%20%20%20%20%0A%20%20%20%20%0A%20%20%20%20%20%20%20%20var%20marker_96e76d1a1f9740818e5851e400c89d92%20%3D%20L.marker%28%0A%20%20%20%20%20%20%20%20%20%20%20%20%5B-17.188679999999998%2C%20-70.9282%5D%2C%0A%20%20%20%20%20%20%20%20%20%20%20%20%7B%0A%20%20%20%20%20%20%20%20%20%20%20%20%20%20%20%20icon%3A%20new%20L.Icon.Default%28%29%2C%0A%20%20%20%20%20%20%20%20%20%20%20%20%20%20%20%20%7D%0A%20%20%20%20%20%20%20%20%20%20%20%20%29.addTo%28map_abe81338d3234c9bb74de8da0809d050%29%3B%0A%20%20%20%20%20%20%20%20%0A%20%20%20%20%0A%0A%20%20%20%20%20%20%20%20%20%20%20%20%20%20%20%20var%20icon_b05089a95f544cb89cc3588e0ed55200%20%3D%20L.AwesomeMarkers.icon%28%7B%0A%20%20%20%20%20%20%20%20%20%20%20%20%20%20%20%20%20%20%20%20icon%3A%20%27ok-sign%27%2C%0A%20%20%20%20%20%20%20%20%20%20%20%20%20%20%20%20%20%20%20%20iconColor%3A%20%27white%27%2C%0A%20%20%20%20%20%20%20%20%20%20%20%20%20%20%20%20%20%20%20%20markerColor%3A%20%27blue%27%2C%0A%20%20%20%20%20%20%20%20%20%20%20%20%20%20%20%20%20%20%20%20prefix%3A%20%27glyphicon%27%2C%0A%20%20%20%20%20%20%20%20%20%20%20%20%20%20%20%20%20%20%20%20extraClasses%3A%20%27fa-rotate-0%27%0A%20%20%20%20%20%20%20%20%20%20%20%20%20%20%20%20%20%20%20%20%7D%29%3B%0A%20%20%20%20%20%20%20%20%20%20%20%20%20%20%20%20marker_96e76d1a1f9740818e5851e400c89d92.setIcon%28icon_b05089a95f544cb89cc3588e0ed55200%29%3B%0A%20%20%20%20%20%20%20%20%20%20%20%20%0A%20%20%20%20%0A%20%20%20%20%20%20%20%20%20%20%20%20var%20popup_6322a2385d244ca9bf4b72d0479523d0%20%3D%20L.popup%28%7BmaxWidth%3A%20%27100%25%27%0A%20%20%20%20%20%20%20%20%20%20%20%20%0A%20%20%20%20%20%20%20%20%20%20%20%20%7D%29%3B%0A%0A%20%20%20%20%20%20%20%20%20%20%20%20%0A%20%20%20%20%20%20%20%20%20%20%20%20%20%20%20%20var%20html_d265e1566fc34ef6a1725a668bad4186%20%3D%20%24%28%60%3Cdiv%20id%3D%22html_d265e1566fc34ef6a1725a668bad4186%22%20style%3D%22width%3A%20100.0%25%3B%20height%3A%20100.0%25%3B%22%3EKINDERLAND%3C/div%3E%60%29%5B0%5D%3B%0A%20%20%20%20%20%20%20%20%20%20%20%20%20%20%20%20popup_6322a2385d244ca9bf4b72d0479523d0.setContent%28html_d265e1566fc34ef6a1725a668bad4186%29%3B%0A%20%20%20%20%20%20%20%20%20%20%20%20%0A%0A%20%20%20%20%20%20%20%20%20%20%20%20marker_96e76d1a1f9740818e5851e400c89d92.bindPopup%28popup_6322a2385d244ca9bf4b72d0479523d0%29%0A%20%20%20%20%20%20%20%20%20%20%20%20%3B%0A%0A%20%20%20%20%20%20%20%20%20%20%20%20%0A%20%20%20%20%20%20%20%20%0A%20%20%20%20%0A%20%20%20%20%20%20%20%20var%20marker_3b8e3a6fcf63410aa5cba40b00a83e9b%20%3D%20L.marker%28%0A%20%20%20%20%20%20%20%20%20%20%20%20%5B-17.19108%2C%20-70.94926%5D%2C%0A%20%20%20%20%20%20%20%20%20%20%20%20%7B%0A%20%20%20%20%20%20%20%20%20%20%20%20%20%20%20%20icon%3A%20new%20L.Icon.Default%28%29%2C%0A%20%20%20%20%20%20%20%20%20%20%20%20%20%20%20%20%7D%0A%20%20%20%20%20%20%20%20%20%20%20%20%29.addTo%28map_abe81338d3234c9bb74de8da0809d050%29%3B%0A%20%20%20%20%20%20%20%20%0A%20%20%20%20%0A%0A%20%20%20%20%20%20%20%20%20%20%20%20%20%20%20%20var%20icon_6bc28dc87e0e47ecadb268206ecd0670%20%3D%20L.AwesomeMarkers.icon%28%7B%0A%20%20%20%20%20%20%20%20%20%20%20%20%20%20%20%20%20%20%20%20icon%3A%20%27ok-sign%27%2C%0A%20%20%20%20%20%20%20%20%20%20%20%20%20%20%20%20%20%20%20%20iconColor%3A%20%27white%27%2C%0A%20%20%20%20%20%20%20%20%20%20%20%20%20%20%20%20%20%20%20%20markerColor%3A%20%27blue%27%2C%0A%20%20%20%20%20%20%20%20%20%20%20%20%20%20%20%20%20%20%20%20prefix%3A%20%27glyphicon%27%2C%0A%20%20%20%20%20%20%20%20%20%20%20%20%20%20%20%20%20%20%20%20extraClasses%3A%20%27fa-rotate-0%27%0A%20%20%20%20%20%20%20%20%20%20%20%20%20%20%20%20%20%20%20%20%7D%29%3B%0A%20%20%20%20%20%20%20%20%20%20%20%20%20%20%20%20marker_3b8e3a6fcf63410aa5cba40b00a83e9b.setIcon%28icon_6bc28dc87e0e47ecadb268206ecd0670%29%3B%0A%20%20%20%20%20%20%20%20%20%20%20%20%0A%20%20%20%20%0A%20%20%20%20%20%20%20%20%20%20%20%20var%20popup_6a22f3f5b2274fe884652040d696ee89%20%3D%20L.popup%28%7BmaxWidth%3A%20%27100%25%27%0A%20%20%20%20%20%20%20%20%20%20%20%20%0A%20%20%20%20%20%20%20%20%20%20%20%20%7D%29%3B%0A%0A%20%20%20%20%20%20%20%20%20%20%20%20%0A%20%20%20%20%20%20%20%20%20%20%20%20%20%20%20%20var%20html_537145894df24518993bb79f9cdea306%20%3D%20%24%28%60%3Cdiv%20id%3D%22html_537145894df24518993bb79f9cdea306%22%20style%3D%22width%3A%20100.0%25%3B%20height%3A%20100.0%25%3B%22%3ELITHVIN%3C/div%3E%60%29%5B0%5D%3B%0A%20%20%20%20%20%20%20%20%20%20%20%20%20%20%20%20popup_6a22f3f5b2274fe884652040d696ee89.setContent%28html_537145894df24518993bb79f9cdea306%29%3B%0A%20%20%20%20%20%20%20%20%20%20%20%20%0A%0A%20%20%20%20%20%20%20%20%20%20%20%20marker_3b8e3a6fcf63410aa5cba40b00a83e9b.bindPopup%28popup_6a22f3f5b2274fe884652040d696ee89%29%0A%20%20%20%20%20%20%20%20%20%20%20%20%3B%0A%0A%20%20%20%20%20%20%20%20%20%20%20%20%0A%20%20%20%20%20%20%20%20%0A%20%20%20%20%0A%20%20%20%20%20%20%20%20var%20marker_9a8ef85c43114b1d9e3b2d3bcb22ad31%20%3D%20L.marker%28%0A%20%20%20%20%20%20%20%20%20%20%20%20%5B-17.1872%2C%20-70.92659%5D%2C%0A%20%20%20%20%20%20%20%20%20%20%20%20%7B%0A%20%20%20%20%20%20%20%20%20%20%20%20%20%20%20%20icon%3A%20new%20L.Icon.Default%28%29%2C%0A%20%20%20%20%20%20%20%20%20%20%20%20%20%20%20%20%7D%0A%20%20%20%20%20%20%20%20%20%20%20%20%29.addTo%28map_abe81338d3234c9bb74de8da0809d050%29%3B%0A%20%20%20%20%20%20%20%20%0A%20%20%20%20%0A%0A%20%20%20%20%20%20%20%20%20%20%20%20%20%20%20%20var%20icon_de38f940bc4847d382a1aac04961fb6f%20%3D%20L.AwesomeMarkers.icon%28%7B%0A%20%20%20%20%20%20%20%20%20%20%20%20%20%20%20%20%20%20%20%20icon%3A%20%27ok-sign%27%2C%0A%20%20%20%20%20%20%20%20%20%20%20%20%20%20%20%20%20%20%20%20iconColor%3A%20%27white%27%2C%0A%20%20%20%20%20%20%20%20%20%20%20%20%20%20%20%20%20%20%20%20markerColor%3A%20%27blue%27%2C%0A%20%20%20%20%20%20%20%20%20%20%20%20%20%20%20%20%20%20%20%20prefix%3A%20%27glyphicon%27%2C%0A%20%20%20%20%20%20%20%20%20%20%20%20%20%20%20%20%20%20%20%20extraClasses%3A%20%27fa-rotate-0%27%0A%20%20%20%20%20%20%20%20%20%20%20%20%20%20%20%20%20%20%20%20%7D%29%3B%0A%20%20%20%20%20%20%20%20%20%20%20%20%20%20%20%20marker_9a8ef85c43114b1d9e3b2d3bcb22ad31.setIcon%28icon_de38f940bc4847d382a1aac04961fb6f%29%3B%0A%20%20%20%20%20%20%20%20%20%20%20%20%0A%20%20%20%20%0A%20%20%20%20%20%20%20%20%20%20%20%20var%20popup_084223c7b556463a88e3bfddf2f10737%20%3D%20L.popup%28%7BmaxWidth%3A%20%27100%25%27%0A%20%20%20%20%20%20%20%20%20%20%20%20%0A%20%20%20%20%20%20%20%20%20%20%20%20%7D%29%3B%0A%0A%20%20%20%20%20%20%20%20%20%20%20%20%0A%20%20%20%20%20%20%20%20%20%20%20%20%20%20%20%20var%20html_7ee29b80e04744ccafc17cae5a39f97c%20%3D%20%24%28%60%3Cdiv%20id%3D%22html_7ee29b80e04744ccafc17cae5a39f97c%22%20style%3D%22width%3A%20100.0%25%3B%20height%3A%20100.0%25%3B%22%3EMY%20LITTLE%20BEE%20COLLEGE%3C/div%3E%60%29%5B0%5D%3B%0A%20%20%20%20%20%20%20%20%20%20%20%20%20%20%20%20popup_084223c7b556463a88e3bfddf2f10737.setContent%28html_7ee29b80e04744ccafc17cae5a39f97c%29%3B%0A%20%20%20%20%20%20%20%20%20%20%20%20%0A%0A%20%20%20%20%20%20%20%20%20%20%20%20marker_9a8ef85c43114b1d9e3b2d3bcb22ad31.bindPopup%28popup_084223c7b556463a88e3bfddf2f10737%29%0A%20%20%20%20%20%20%20%20%20%20%20%20%3B%0A%0A%20%20%20%20%20%20%20%20%20%20%20%20%0A%20%20%20%20%20%20%20%20%0A%20%20%20%20%0A%20%20%20%20%20%20%20%20var%20marker_59e17d394edb4cfea1bf8715d5e80cb4%20%3D%20L.marker%28%0A%20%20%20%20%20%20%20%20%20%20%20%20%5B-17.18897%2C%20-70.92709%5D%2C%0A%20%20%20%20%20%20%20%20%20%20%20%20%7B%0A%20%20%20%20%20%20%20%20%20%20%20%20%20%20%20%20icon%3A%20new%20L.Icon.Default%28%29%2C%0A%20%20%20%20%20%20%20%20%20%20%20%20%20%20%20%20%7D%0A%20%20%20%20%20%20%20%20%20%20%20%20%29.addTo%28map_abe81338d3234c9bb74de8da0809d050%29%3B%0A%20%20%20%20%20%20%20%20%0A%20%20%20%20%0A%0A%20%20%20%20%20%20%20%20%20%20%20%20%20%20%20%20var%20icon_da053415219e4a4c9aad7480d4457a33%20%3D%20L.AwesomeMarkers.icon%28%7B%0A%20%20%20%20%20%20%20%20%20%20%20%20%20%20%20%20%20%20%20%20icon%3A%20%27ok-sign%27%2C%0A%20%20%20%20%20%20%20%20%20%20%20%20%20%20%20%20%20%20%20%20iconColor%3A%20%27white%27%2C%0A%20%20%20%20%20%20%20%20%20%20%20%20%20%20%20%20%20%20%20%20markerColor%3A%20%27blue%27%2C%0A%20%20%20%20%20%20%20%20%20%20%20%20%20%20%20%20%20%20%20%20prefix%3A%20%27glyphicon%27%2C%0A%20%20%20%20%20%20%20%20%20%20%20%20%20%20%20%20%20%20%20%20extraClasses%3A%20%27fa-rotate-0%27%0A%20%20%20%20%20%20%20%20%20%20%20%20%20%20%20%20%20%20%20%20%7D%29%3B%0A%20%20%20%20%20%20%20%20%20%20%20%20%20%20%20%20marker_59e17d394edb4cfea1bf8715d5e80cb4.setIcon%28icon_da053415219e4a4c9aad7480d4457a33%29%3B%0A%20%20%20%20%20%20%20%20%20%20%20%20%0A%20%20%20%20%0A%20%20%20%20%20%20%20%20%20%20%20%20var%20popup_4db966476c764ddc8695451549228e75%20%3D%20L.popup%28%7BmaxWidth%3A%20%27100%25%27%0A%20%20%20%20%20%20%20%20%20%20%20%20%0A%20%20%20%20%20%20%20%20%20%20%20%20%7D%29%3B%0A%0A%20%20%20%20%20%20%20%20%20%20%20%20%0A%20%20%20%20%20%20%20%20%20%20%20%20%20%20%20%20var%20html_16f6c422c6504dce81c811de1577d88f%20%3D%20%24%28%60%3Cdiv%20id%3D%22html_16f6c422c6504dce81c811de1577d88f%22%20style%3D%22width%3A%20100.0%25%3B%20height%3A%20100.0%25%3B%22%3ENI%C3%91A%20MARIA%3C/div%3E%60%29%5B0%5D%3B%0A%20%20%20%20%20%20%20%20%20%20%20%20%20%20%20%20popup_4db966476c764ddc8695451549228e75.setContent%28html_16f6c422c6504dce81c811de1577d88f%29%3B%0A%20%20%20%20%20%20%20%20%20%20%20%20%0A%0A%20%20%20%20%20%20%20%20%20%20%20%20marker_59e17d394edb4cfea1bf8715d5e80cb4.bindPopup%28popup_4db966476c764ddc8695451549228e75%29%0A%20%20%20%20%20%20%20%20%20%20%20%20%3B%0A%0A%20%20%20%20%20%20%20%20%20%20%20%20%0A%20%20%20%20%20%20%20%20%0A%20%20%20%20%0A%20%20%20%20%20%20%20%20var%20marker_c9c8d7b4204d47bcaa4b212ae89da625%20%3D%20L.marker%28%0A%20%20%20%20%20%20%20%20%20%20%20%20%5B-17.191470000000002%2C%20-70.92777%5D%2C%0A%20%20%20%20%20%20%20%20%20%20%20%20%7B%0A%20%20%20%20%20%20%20%20%20%20%20%20%20%20%20%20icon%3A%20new%20L.Icon.Default%28%29%2C%0A%20%20%20%20%20%20%20%20%20%20%20%20%20%20%20%20%7D%0A%20%20%20%20%20%20%20%20%20%20%20%20%29.addTo%28map_abe81338d3234c9bb74de8da0809d050%29%3B%0A%20%20%20%20%20%20%20%20%0A%20%20%20%20%0A%0A%20%20%20%20%20%20%20%20%20%20%20%20%20%20%20%20var%20icon_1f2a385358d24dfa9d7c8719378da929%20%3D%20L.AwesomeMarkers.icon%28%7B%0A%20%20%20%20%20%20%20%20%20%20%20%20%20%20%20%20%20%20%20%20icon%3A%20%27ok-sign%27%2C%0A%20%20%20%20%20%20%20%20%20%20%20%20%20%20%20%20%20%20%20%20iconColor%3A%20%27white%27%2C%0A%20%20%20%20%20%20%20%20%20%20%20%20%20%20%20%20%20%20%20%20markerColor%3A%20%27blue%27%2C%0A%20%20%20%20%20%20%20%20%20%20%20%20%20%20%20%20%20%20%20%20prefix%3A%20%27glyphicon%27%2C%0A%20%20%20%20%20%20%20%20%20%20%20%20%20%20%20%20%20%20%20%20extraClasses%3A%20%27fa-rotate-0%27%0A%20%20%20%20%20%20%20%20%20%20%20%20%20%20%20%20%20%20%20%20%7D%29%3B%0A%20%20%20%20%20%20%20%20%20%20%20%20%20%20%20%20marker_c9c8d7b4204d47bcaa4b212ae89da625.setIcon%28icon_1f2a385358d24dfa9d7c8719378da929%29%3B%0A%20%20%20%20%20%20%20%20%20%20%20%20%0A%20%20%20%20%0A%20%20%20%20%20%20%20%20%20%20%20%20var%20popup_7f44b1effe1a465b964d6d5ebee62e2a%20%3D%20L.popup%28%7BmaxWidth%3A%20%27100%25%27%0A%20%20%20%20%20%20%20%20%20%20%20%20%0A%20%20%20%20%20%20%20%20%20%20%20%20%7D%29%3B%0A%0A%20%20%20%20%20%20%20%20%20%20%20%20%0A%20%20%20%20%20%20%20%20%20%20%20%20%20%20%20%20var%20html_00893ddacd98454497cac26f52371798%20%3D%20%24%28%60%3Cdiv%20id%3D%22html_00893ddacd98454497cac26f52371798%22%20style%3D%22width%3A%20100.0%25%3B%20height%3A%20100.0%25%3B%22%3ENUESTRA%20SE%C3%91ORA%20DE%20MONSERRAT%3C/div%3E%60%29%5B0%5D%3B%0A%20%20%20%20%20%20%20%20%20%20%20%20%20%20%20%20popup_7f44b1effe1a465b964d6d5ebee62e2a.setContent%28html_00893ddacd98454497cac26f52371798%29%3B%0A%20%20%20%20%20%20%20%20%20%20%20%20%0A%0A%20%20%20%20%20%20%20%20%20%20%20%20marker_c9c8d7b4204d47bcaa4b212ae89da625.bindPopup%28popup_7f44b1effe1a465b964d6d5ebee62e2a%29%0A%20%20%20%20%20%20%20%20%20%20%20%20%3B%0A%0A%20%20%20%20%20%20%20%20%20%20%20%20%0A%20%20%20%20%20%20%20%20%0A%20%20%20%20%0A%20%20%20%20%20%20%20%20var%20marker_ca67719518f644bdae3a16e04a05a49a%20%3D%20L.marker%28%0A%20%20%20%20%20%20%20%20%20%20%20%20%5B-17.196360000000002%2C%20-70.936%5D%2C%0A%20%20%20%20%20%20%20%20%20%20%20%20%7B%0A%20%20%20%20%20%20%20%20%20%20%20%20%20%20%20%20icon%3A%20new%20L.Icon.Default%28%29%2C%0A%20%20%20%20%20%20%20%20%20%20%20%20%20%20%20%20%7D%0A%20%20%20%20%20%20%20%20%20%20%20%20%29.addTo%28map_abe81338d3234c9bb74de8da0809d050%29%3B%0A%20%20%20%20%20%20%20%20%0A%20%20%20%20%0A%0A%20%20%20%20%20%20%20%20%20%20%20%20%20%20%20%20var%20icon_7cba964025834b90be62b6e0f807f8f9%20%3D%20L.AwesomeMarkers.icon%28%7B%0A%20%20%20%20%20%20%20%20%20%20%20%20%20%20%20%20%20%20%20%20icon%3A%20%27ok-sign%27%2C%0A%20%20%20%20%20%20%20%20%20%20%20%20%20%20%20%20%20%20%20%20iconColor%3A%20%27white%27%2C%0A%20%20%20%20%20%20%20%20%20%20%20%20%20%20%20%20%20%20%20%20markerColor%3A%20%27blue%27%2C%0A%20%20%20%20%20%20%20%20%20%20%20%20%20%20%20%20%20%20%20%20prefix%3A%20%27glyphicon%27%2C%0A%20%20%20%20%20%20%20%20%20%20%20%20%20%20%20%20%20%20%20%20extraClasses%3A%20%27fa-rotate-0%27%0A%20%20%20%20%20%20%20%20%20%20%20%20%20%20%20%20%20%20%20%20%7D%29%3B%0A%20%20%20%20%20%20%20%20%20%20%20%20%20%20%20%20marker_ca67719518f644bdae3a16e04a05a49a.setIcon%28icon_7cba964025834b90be62b6e0f807f8f9%29%3B%0A%20%20%20%20%20%20%20%20%20%20%20%20%0A%20%20%20%20%0A%20%20%20%20%20%20%20%20%20%20%20%20var%20popup_86e2012586dc40fcb9e62f4cef87dcb1%20%3D%20L.popup%28%7BmaxWidth%3A%20%27100%25%27%0A%20%20%20%20%20%20%20%20%20%20%20%20%0A%20%20%20%20%20%20%20%20%20%20%20%20%7D%29%3B%0A%0A%20%20%20%20%20%20%20%20%20%20%20%20%0A%20%20%20%20%20%20%20%20%20%20%20%20%20%20%20%20var%20html_8271e4265b0f4a86a4bb497aa6221926%20%3D%20%24%28%60%3Cdiv%20id%3D%22html_8271e4265b0f4a86a4bb497aa6221926%22%20style%3D%22width%3A%20100.0%25%3B%20height%3A%20100.0%25%3B%22%3EPERU%20MEX%20MARIA%20BELEN%3C/div%3E%60%29%5B0%5D%3B%0A%20%20%20%20%20%20%20%20%20%20%20%20%20%20%20%20popup_86e2012586dc40fcb9e62f4cef87dcb1.setContent%28html_8271e4265b0f4a86a4bb497aa6221926%29%3B%0A%20%20%20%20%20%20%20%20%20%20%20%20%0A%0A%20%20%20%20%20%20%20%20%20%20%20%20marker_ca67719518f644bdae3a16e04a05a49a.bindPopup%28popup_86e2012586dc40fcb9e62f4cef87dcb1%29%0A%20%20%20%20%20%20%20%20%20%20%20%20%3B%0A%0A%20%20%20%20%20%20%20%20%20%20%20%20%0A%20%20%20%20%20%20%20%20%0A%20%20%20%20%0A%20%20%20%20%20%20%20%20var%20marker_661307da55ea48f9af8f88de770d988c%20%3D%20L.marker%28%0A%20%20%20%20%20%20%20%20%20%20%20%20%5B-17.1961%2C%20-70.93405%5D%2C%0A%20%20%20%20%20%20%20%20%20%20%20%20%7B%0A%20%20%20%20%20%20%20%20%20%20%20%20%20%20%20%20icon%3A%20new%20L.Icon.Default%28%29%2C%0A%20%20%20%20%20%20%20%20%20%20%20%20%20%20%20%20%7D%0A%20%20%20%20%20%20%20%20%20%20%20%20%29.addTo%28map_abe81338d3234c9bb74de8da0809d050%29%3B%0A%20%20%20%20%20%20%20%20%0A%20%20%20%20%0A%0A%20%20%20%20%20%20%20%20%20%20%20%20%20%20%20%20var%20icon_ce6f8a67f70b4a06a5891f357d9c7dd8%20%3D%20L.AwesomeMarkers.icon%28%7B%0A%20%20%20%20%20%20%20%20%20%20%20%20%20%20%20%20%20%20%20%20icon%3A%20%27ok-sign%27%2C%0A%20%20%20%20%20%20%20%20%20%20%20%20%20%20%20%20%20%20%20%20iconColor%3A%20%27white%27%2C%0A%20%20%20%20%20%20%20%20%20%20%20%20%20%20%20%20%20%20%20%20markerColor%3A%20%27blue%27%2C%0A%20%20%20%20%20%20%20%20%20%20%20%20%20%20%20%20%20%20%20%20prefix%3A%20%27glyphicon%27%2C%0A%20%20%20%20%20%20%20%20%20%20%20%20%20%20%20%20%20%20%20%20extraClasses%3A%20%27fa-rotate-0%27%0A%20%20%20%20%20%20%20%20%20%20%20%20%20%20%20%20%20%20%20%20%7D%29%3B%0A%20%20%20%20%20%20%20%20%20%20%20%20%20%20%20%20marker_661307da55ea48f9af8f88de770d988c.setIcon%28icon_ce6f8a67f70b4a06a5891f357d9c7dd8%29%3B%0A%20%20%20%20%20%20%20%20%20%20%20%20%0A%20%20%20%20%0A%20%20%20%20%20%20%20%20%20%20%20%20var%20popup_ba227d969cd24d2fb8db4b257e967fb2%20%3D%20L.popup%28%7BmaxWidth%3A%20%27100%25%27%0A%20%20%20%20%20%20%20%20%20%20%20%20%0A%20%20%20%20%20%20%20%20%20%20%20%20%7D%29%3B%0A%0A%20%20%20%20%20%20%20%20%20%20%20%20%0A%20%20%20%20%20%20%20%20%20%20%20%20%20%20%20%20var%20html_222268c256474f4b8c34cda56a620da9%20%3D%20%24%28%60%3Cdiv%20id%3D%22html_222268c256474f4b8c34cda56a620da9%22%20style%3D%22width%3A%20100.0%25%3B%20height%3A%20100.0%25%3B%22%3EROBERT%20GAGNE%3C/div%3E%60%29%5B0%5D%3B%0A%20%20%20%20%20%20%20%20%20%20%20%20%20%20%20%20popup_ba227d969cd24d2fb8db4b257e967fb2.setContent%28html_222268c256474f4b8c34cda56a620da9%29%3B%0A%20%20%20%20%20%20%20%20%20%20%20%20%0A%0A%20%20%20%20%20%20%20%20%20%20%20%20marker_661307da55ea48f9af8f88de770d988c.bindPopup%28popup_ba227d969cd24d2fb8db4b257e967fb2%29%0A%20%20%20%20%20%20%20%20%20%20%20%20%3B%0A%0A%20%20%20%20%20%20%20%20%20%20%20%20%0A%20%20%20%20%20%20%20%20%0A%20%20%20%20%0A%20%20%20%20%20%20%20%20var%20marker_793f4fdc38eb489d849d4abf5934be1d%20%3D%20L.marker%28%0A%20%20%20%20%20%20%20%20%20%20%20%20%5B-17.19454%2C%20-70.93556%5D%2C%0A%20%20%20%20%20%20%20%20%20%20%20%20%7B%0A%20%20%20%20%20%20%20%20%20%20%20%20%20%20%20%20icon%3A%20new%20L.Icon.Default%28%29%2C%0A%20%20%20%20%20%20%20%20%20%20%20%20%20%20%20%20%7D%0A%20%20%20%20%20%20%20%20%20%20%20%20%29.addTo%28map_abe81338d3234c9bb74de8da0809d050%29%3B%0A%20%20%20%20%20%20%20%20%0A%20%20%20%20%0A%0A%20%20%20%20%20%20%20%20%20%20%20%20%20%20%20%20var%20icon_2f7d248b8601454c85a4560cebc4d202%20%3D%20L.AwesomeMarkers.icon%28%7B%0A%20%20%20%20%20%20%20%20%20%20%20%20%20%20%20%20%20%20%20%20icon%3A%20%27ok-sign%27%2C%0A%20%20%20%20%20%20%20%20%20%20%20%20%20%20%20%20%20%20%20%20iconColor%3A%20%27white%27%2C%0A%20%20%20%20%20%20%20%20%20%20%20%20%20%20%20%20%20%20%20%20markerColor%3A%20%27blue%27%2C%0A%20%20%20%20%20%20%20%20%20%20%20%20%20%20%20%20%20%20%20%20prefix%3A%20%27glyphicon%27%2C%0A%20%20%20%20%20%20%20%20%20%20%20%20%20%20%20%20%20%20%20%20extraClasses%3A%20%27fa-rotate-0%27%0A%20%20%20%20%20%20%20%20%20%20%20%20%20%20%20%20%20%20%20%20%7D%29%3B%0A%20%20%20%20%20%20%20%20%20%20%20%20%20%20%20%20marker_793f4fdc38eb489d849d4abf5934be1d.setIcon%28icon_2f7d248b8601454c85a4560cebc4d202%29%3B%0A%20%20%20%20%20%20%20%20%20%20%20%20%0A%20%20%20%20%0A%20%20%20%20%20%20%20%20%20%20%20%20var%20popup_206ca0599f984011bbc8c2dc6ac16c48%20%3D%20L.popup%28%7BmaxWidth%3A%20%27100%25%27%0A%20%20%20%20%20%20%20%20%20%20%20%20%0A%20%20%20%20%20%20%20%20%20%20%20%20%7D%29%3B%0A%0A%20%20%20%20%20%20%20%20%20%20%20%20%0A%20%20%20%20%20%20%20%20%20%20%20%20%20%20%20%20var%20html_b0f0c09e4dd74a3a9faf84cdd7c376ef%20%3D%20%24%28%60%3Cdiv%20id%3D%22html_b0f0c09e4dd74a3a9faf84cdd7c376ef%22%20style%3D%22width%3A%20100.0%25%3B%20height%3A%20100.0%25%3B%22%3ESANTA%20MARIA%20EUFRASIA%20INFOTEC%3C/div%3E%60%29%5B0%5D%3B%0A%20%20%20%20%20%20%20%20%20%20%20%20%20%20%20%20popup_206ca0599f984011bbc8c2dc6ac16c48.setContent%28html_b0f0c09e4dd74a3a9faf84cdd7c376ef%29%3B%0A%20%20%20%20%20%20%20%20%20%20%20%20%0A%0A%20%20%20%20%20%20%20%20%20%20%20%20marker_793f4fdc38eb489d849d4abf5934be1d.bindPopup%28popup_206ca0599f984011bbc8c2dc6ac16c48%29%0A%20%20%20%20%20%20%20%20%20%20%20%20%3B%0A%0A%20%20%20%20%20%20%20%20%20%20%20%20%0A%20%20%20%20%20%20%20%20%0A%20%20%20%20%0A%20%20%20%20%20%20%20%20var%20marker_50a20a168dbe4a70981468b19bd55951%20%3D%20L.marker%28%0A%20%20%20%20%20%20%20%20%20%20%20%20%5B-17.197020000000002%2C%20-70.91508%5D%2C%0A%20%20%20%20%20%20%20%20%20%20%20%20%7B%0A%20%20%20%20%20%20%20%20%20%20%20%20%20%20%20%20icon%3A%20new%20L.Icon.Default%28%29%2C%0A%20%20%20%20%20%20%20%20%20%20%20%20%20%20%20%20%7D%0A%20%20%20%20%20%20%20%20%20%20%20%20%29.addTo%28map_abe81338d3234c9bb74de8da0809d050%29%3B%0A%20%20%20%20%20%20%20%20%0A%20%20%20%20%0A%0A%20%20%20%20%20%20%20%20%20%20%20%20%20%20%20%20var%20icon_61a67bd364f94b5daf9ee43cb8d22dc3%20%3D%20L.AwesomeMarkers.icon%28%7B%0A%20%20%20%20%20%20%20%20%20%20%20%20%20%20%20%20%20%20%20%20icon%3A%20%27ok-sign%27%2C%0A%20%20%20%20%20%20%20%20%20%20%20%20%20%20%20%20%20%20%20%20iconColor%3A%20%27white%27%2C%0A%20%20%20%20%20%20%20%20%20%20%20%20%20%20%20%20%20%20%20%20markerColor%3A%20%27blue%27%2C%0A%20%20%20%20%20%20%20%20%20%20%20%20%20%20%20%20%20%20%20%20prefix%3A%20%27glyphicon%27%2C%0A%20%20%20%20%20%20%20%20%20%20%20%20%20%20%20%20%20%20%20%20extraClasses%3A%20%27fa-rotate-0%27%0A%20%20%20%20%20%20%20%20%20%20%20%20%20%20%20%20%20%20%20%20%7D%29%3B%0A%20%20%20%20%20%20%20%20%20%20%20%20%20%20%20%20marker_50a20a168dbe4a70981468b19bd55951.setIcon%28icon_61a67bd364f94b5daf9ee43cb8d22dc3%29%3B%0A%20%20%20%20%20%20%20%20%20%20%20%20%0A%20%20%20%20%0A%20%20%20%20%20%20%20%20%20%20%20%20var%20popup_058ef300d10d490cba5c760ec2ffb353%20%3D%20L.popup%28%7BmaxWidth%3A%20%27100%25%27%0A%20%20%20%20%20%20%20%20%20%20%20%20%0A%20%20%20%20%20%20%20%20%20%20%20%20%7D%29%3B%0A%0A%20%20%20%20%20%20%20%20%20%20%20%20%0A%20%20%20%20%20%20%20%20%20%20%20%20%20%20%20%20var%20html_f5eb151398db44359b31f1b0230116c6%20%3D%20%24%28%60%3Cdiv%20id%3D%22html_f5eb151398db44359b31f1b0230116c6%22%20style%3D%22width%3A%20100.0%25%3B%20height%3A%20100.0%25%3B%22%3EVIRGEN%20DE%20GUADALUPE%3C/div%3E%60%29%5B0%5D%3B%0A%20%20%20%20%20%20%20%20%20%20%20%20%20%20%20%20popup_058ef300d10d490cba5c760ec2ffb353.setContent%28html_f5eb151398db44359b31f1b0230116c6%29%3B%0A%20%20%20%20%20%20%20%20%20%20%20%20%0A%0A%20%20%20%20%20%20%20%20%20%20%20%20marker_50a20a168dbe4a70981468b19bd55951.bindPopup%28popup_058ef300d10d490cba5c760ec2ffb353%29%0A%20%20%20%20%20%20%20%20%20%20%20%20%3B%0A%0A%20%20%20%20%20%20%20%20%20%20%20%20%0A%20%20%20%20%20%20%20%20%0A%20%20%20%20%0A%20%20%20%20%20%20%20%20var%20marker_e04203d8ba82478d9afda2779bc6f09a%20%3D%20L.marker%28%0A%20%20%20%20%20%20%20%20%20%20%20%20%5B-17.20934%2C%20-70.94385%5D%2C%0A%20%20%20%20%20%20%20%20%20%20%20%20%7B%0A%20%20%20%20%20%20%20%20%20%20%20%20%20%20%20%20icon%3A%20new%20L.Icon.Default%28%29%2C%0A%20%20%20%20%20%20%20%20%20%20%20%20%20%20%20%20%7D%0A%20%20%20%20%20%20%20%20%20%20%20%20%29.addTo%28map_abe81338d3234c9bb74de8da0809d050%29%3B%0A%20%20%20%20%20%20%20%20%0A%20%20%20%20%0A%0A%20%20%20%20%20%20%20%20%20%20%20%20%20%20%20%20var%20icon_273583f13cf94da9af832f8eeede5e5b%20%3D%20L.AwesomeMarkers.icon%28%7B%0A%20%20%20%20%20%20%20%20%20%20%20%20%20%20%20%20%20%20%20%20icon%3A%20%27ok-sign%27%2C%0A%20%20%20%20%20%20%20%20%20%20%20%20%20%20%20%20%20%20%20%20iconColor%3A%20%27white%27%2C%0A%20%20%20%20%20%20%20%20%20%20%20%20%20%20%20%20%20%20%20%20markerColor%3A%20%27blue%27%2C%0A%20%20%20%20%20%20%20%20%20%20%20%20%20%20%20%20%20%20%20%20prefix%3A%20%27glyphicon%27%2C%0A%20%20%20%20%20%20%20%20%20%20%20%20%20%20%20%20%20%20%20%20extraClasses%3A%20%27fa-rotate-0%27%0A%20%20%20%20%20%20%20%20%20%20%20%20%20%20%20%20%20%20%20%20%7D%29%3B%0A%20%20%20%20%20%20%20%20%20%20%20%20%20%20%20%20marker_e04203d8ba82478d9afda2779bc6f09a.setIcon%28icon_273583f13cf94da9af832f8eeede5e5b%29%3B%0A%20%20%20%20%20%20%20%20%20%20%20%20%0A%20%20%20%20%0A%20%20%20%20%20%20%20%20%20%20%20%20var%20popup_87f4888d356b4f159af83b96593da3d3%20%3D%20L.popup%28%7BmaxWidth%3A%20%27100%25%27%0A%20%20%20%20%20%20%20%20%20%20%20%20%0A%20%20%20%20%20%20%20%20%20%20%20%20%7D%29%3B%0A%0A%20%20%20%20%20%20%20%20%20%20%20%20%0A%20%20%20%20%20%20%20%20%20%20%20%20%20%20%20%20var%20html_d2b4a676a2a647ad98aee51bd47efa86%20%3D%20%24%28%60%3Cdiv%20id%3D%22html_d2b4a676a2a647ad98aee51bd47efa86%22%20style%3D%22width%3A%20100.0%25%3B%20height%3A%20100.0%25%3B%22%3ELORD%20BYRON%3C/div%3E%60%29%5B0%5D%3B%0A%20%20%20%20%20%20%20%20%20%20%20%20%20%20%20%20popup_87f4888d356b4f159af83b96593da3d3.setContent%28html_d2b4a676a2a647ad98aee51bd47efa86%29%3B%0A%20%20%20%20%20%20%20%20%20%20%20%20%0A%0A%20%20%20%20%20%20%20%20%20%20%20%20marker_e04203d8ba82478d9afda2779bc6f09a.bindPopup%28popup_87f4888d356b4f159af83b96593da3d3%29%0A%20%20%20%20%20%20%20%20%20%20%20%20%3B%0A%0A%20%20%20%20%20%20%20%20%20%20%20%20%0A%20%20%20%20%20%20%20%20%0A%20%20%20%20%0A%20%20%20%20%20%20%20%20var%20marker_23164a72ad3a4b7787261da4d4ae98be%20%3D%20L.marker%28%0A%20%20%20%20%20%20%20%20%20%20%20%20%5B-17.20901%2C%20-70.95671999999999%5D%2C%0A%20%20%20%20%20%20%20%20%20%20%20%20%7B%0A%20%20%20%20%20%20%20%20%20%20%20%20%20%20%20%20icon%3A%20new%20L.Icon.Default%28%29%2C%0A%20%20%20%20%20%20%20%20%20%20%20%20%20%20%20%20%7D%0A%20%20%20%20%20%20%20%20%20%20%20%20%29.addTo%28map_abe81338d3234c9bb74de8da0809d050%29%3B%0A%20%20%20%20%20%20%20%20%0A%20%20%20%20%0A%0A%20%20%20%20%20%20%20%20%20%20%20%20%20%20%20%20var%20icon_ffb418fc50d544b2b34e4c3065b1d7a8%20%3D%20L.AwesomeMarkers.icon%28%7B%0A%20%20%20%20%20%20%20%20%20%20%20%20%20%20%20%20%20%20%20%20icon%3A%20%27ok-sign%27%2C%0A%20%20%20%20%20%20%20%20%20%20%20%20%20%20%20%20%20%20%20%20iconColor%3A%20%27white%27%2C%0A%20%20%20%20%20%20%20%20%20%20%20%20%20%20%20%20%20%20%20%20markerColor%3A%20%27blue%27%2C%0A%20%20%20%20%20%20%20%20%20%20%20%20%20%20%20%20%20%20%20%20prefix%3A%20%27glyphicon%27%2C%0A%20%20%20%20%20%20%20%20%20%20%20%20%20%20%20%20%20%20%20%20extraClasses%3A%20%27fa-rotate-0%27%0A%20%20%20%20%20%20%20%20%20%20%20%20%20%20%20%20%20%20%20%20%7D%29%3B%0A%20%20%20%20%20%20%20%20%20%20%20%20%20%20%20%20marker_23164a72ad3a4b7787261da4d4ae98be.setIcon%28icon_ffb418fc50d544b2b34e4c3065b1d7a8%29%3B%0A%20%20%20%20%20%20%20%20%20%20%20%20%0A%20%20%20%20%0A%20%20%20%20%20%20%20%20%20%20%20%20var%20popup_bdf24a2f9f2d4ba99468eb66140567e1%20%3D%20L.popup%28%7BmaxWidth%3A%20%27100%25%27%0A%20%20%20%20%20%20%20%20%20%20%20%20%0A%20%20%20%20%20%20%20%20%20%20%20%20%7D%29%3B%0A%0A%20%20%20%20%20%20%20%20%20%20%20%20%0A%20%20%20%20%20%20%20%20%20%20%20%20%20%20%20%20var%20html_5ec7ac2daec44aa49ccb2e4869a8812d%20%3D%20%24%28%60%3Cdiv%20id%3D%22html_5ec7ac2daec44aa49ccb2e4869a8812d%22%20style%3D%22width%3A%20100.0%25%3B%20height%3A%20100.0%25%3B%22%3ESAN%20MARTIN%20DE%20PORRAS%3C/div%3E%60%29%5B0%5D%3B%0A%20%20%20%20%20%20%20%20%20%20%20%20%20%20%20%20popup_bdf24a2f9f2d4ba99468eb66140567e1.setContent%28html_5ec7ac2daec44aa49ccb2e4869a8812d%29%3B%0A%20%20%20%20%20%20%20%20%20%20%20%20%0A%0A%20%20%20%20%20%20%20%20%20%20%20%20marker_23164a72ad3a4b7787261da4d4ae98be.bindPopup%28popup_bdf24a2f9f2d4ba99468eb66140567e1%29%0A%20%20%20%20%20%20%20%20%20%20%20%20%3B%0A%0A%20%20%20%20%20%20%20%20%20%20%20%20%0A%20%20%20%20%20%20%20%20%0A%20%20%20%20%0A%20%20%20%20%20%20%20%20var%20marker_b66b2614d9d84f81a7e020987875c90f%20%3D%20L.marker%28%0A%20%20%20%20%20%20%20%20%20%20%20%20%5B-17.19612%2C%20-70.94639000000001%5D%2C%0A%20%20%20%20%20%20%20%20%20%20%20%20%7B%0A%20%20%20%20%20%20%20%20%20%20%20%20%20%20%20%20icon%3A%20new%20L.Icon.Default%28%29%2C%0A%20%20%20%20%20%20%20%20%20%20%20%20%20%20%20%20%7D%0A%20%20%20%20%20%20%20%20%20%20%20%20%29.addTo%28map_abe81338d3234c9bb74de8da0809d050%29%3B%0A%20%20%20%20%20%20%20%20%0A%20%20%20%20%0A%0A%20%20%20%20%20%20%20%20%20%20%20%20%20%20%20%20var%20icon_ac566ef0cdfd4779b45075f7c87a77e4%20%3D%20L.AwesomeMarkers.icon%28%7B%0A%20%20%20%20%20%20%20%20%20%20%20%20%20%20%20%20%20%20%20%20icon%3A%20%27ok-sign%27%2C%0A%20%20%20%20%20%20%20%20%20%20%20%20%20%20%20%20%20%20%20%20iconColor%3A%20%27white%27%2C%0A%20%20%20%20%20%20%20%20%20%20%20%20%20%20%20%20%20%20%20%20markerColor%3A%20%27blue%27%2C%0A%20%20%20%20%20%20%20%20%20%20%20%20%20%20%20%20%20%20%20%20prefix%3A%20%27glyphicon%27%2C%0A%20%20%20%20%20%20%20%20%20%20%20%20%20%20%20%20%20%20%20%20extraClasses%3A%20%27fa-rotate-0%27%0A%20%20%20%20%20%20%20%20%20%20%20%20%20%20%20%20%20%20%20%20%7D%29%3B%0A%20%20%20%20%20%20%20%20%20%20%20%20%20%20%20%20marker_b66b2614d9d84f81a7e020987875c90f.setIcon%28icon_ac566ef0cdfd4779b45075f7c87a77e4%29%3B%0A%20%20%20%20%20%20%20%20%20%20%20%20%0A%20%20%20%20%0A%20%20%20%20%20%20%20%20%20%20%20%20var%20popup_5e9e44672fc2470188549f2fb8cf22f1%20%3D%20L.popup%28%7BmaxWidth%3A%20%27100%25%27%0A%20%20%20%20%20%20%20%20%20%20%20%20%0A%20%20%20%20%20%20%20%20%20%20%20%20%7D%29%3B%0A%0A%20%20%20%20%20%20%20%20%20%20%20%20%0A%20%20%20%20%20%20%20%20%20%20%20%20%20%20%20%20var%20html_34728c14c99a4037a5bdc5dcc88c1d89%20%3D%20%24%28%60%3Cdiv%20id%3D%22html_34728c14c99a4037a5bdc5dcc88c1d89%22%20style%3D%22width%3A%20100.0%25%3B%20height%3A%20100.0%25%3B%22%3EGRUPO%20ITEP%3C/div%3E%60%29%5B0%5D%3B%0A%20%20%20%20%20%20%20%20%20%20%20%20%20%20%20%20popup_5e9e44672fc2470188549f2fb8cf22f1.setContent%28html_34728c14c99a4037a5bdc5dcc88c1d89%29%3B%0A%20%20%20%20%20%20%20%20%20%20%20%20%0A%0A%20%20%20%20%20%20%20%20%20%20%20%20marker_b66b2614d9d84f81a7e020987875c90f.bindPopup%28popup_5e9e44672fc2470188549f2fb8cf22f1%29%0A%20%20%20%20%20%20%20%20%20%20%20%20%3B%0A%0A%20%20%20%20%20%20%20%20%20%20%20%20%0A%20%20%20%20%20%20%20%20%0A%20%20%20%20%0A%20%20%20%20%20%20%20%20var%20marker_92500a0ec438448098bb400671a0a1bd%20%3D%20L.marker%28%0A%20%20%20%20%20%20%20%20%20%20%20%20%5B-17.19124%2C%20-70.95063%5D%2C%0A%20%20%20%20%20%20%20%20%20%20%20%20%7B%0A%20%20%20%20%20%20%20%20%20%20%20%20%20%20%20%20icon%3A%20new%20L.Icon.Default%28%29%2C%0A%20%20%20%20%20%20%20%20%20%20%20%20%20%20%20%20%7D%0A%20%20%20%20%20%20%20%20%20%20%20%20%29.addTo%28map_abe81338d3234c9bb74de8da0809d050%29%3B%0A%20%20%20%20%20%20%20%20%0A%20%20%20%20%0A%0A%20%20%20%20%20%20%20%20%20%20%20%20%20%20%20%20var%20icon_73b6ed241836417a83b620c31ddc68da%20%3D%20L.AwesomeMarkers.icon%28%7B%0A%20%20%20%20%20%20%20%20%20%20%20%20%20%20%20%20%20%20%20%20icon%3A%20%27ok-sign%27%2C%0A%20%20%20%20%20%20%20%20%20%20%20%20%20%20%20%20%20%20%20%20iconColor%3A%20%27white%27%2C%0A%20%20%20%20%20%20%20%20%20%20%20%20%20%20%20%20%20%20%20%20markerColor%3A%20%27blue%27%2C%0A%20%20%20%20%20%20%20%20%20%20%20%20%20%20%20%20%20%20%20%20prefix%3A%20%27glyphicon%27%2C%0A%20%20%20%20%20%20%20%20%20%20%20%20%20%20%20%20%20%20%20%20extraClasses%3A%20%27fa-rotate-0%27%0A%20%20%20%20%20%20%20%20%20%20%20%20%20%20%20%20%20%20%20%20%7D%29%3B%0A%20%20%20%20%20%20%20%20%20%20%20%20%20%20%20%20marker_92500a0ec438448098bb400671a0a1bd.setIcon%28icon_73b6ed241836417a83b620c31ddc68da%29%3B%0A%20%20%20%20%20%20%20%20%20%20%20%20%0A%20%20%20%20%0A%20%20%20%20%20%20%20%20%20%20%20%20var%20popup_3dac9237605f4fd08f735ee005c340cb%20%3D%20L.popup%28%7BmaxWidth%3A%20%27100%25%27%0A%20%20%20%20%20%20%20%20%20%20%20%20%0A%20%20%20%20%20%20%20%20%20%20%20%20%7D%29%3B%0A%0A%20%20%20%20%20%20%20%20%20%20%20%20%0A%20%20%20%20%20%20%20%20%20%20%20%20%20%20%20%20var%20html_6429527794d746b0b76e9a1ed9457d0d%20%3D%20%24%28%60%3Cdiv%20id%3D%22html_6429527794d746b0b76e9a1ed9457d0d%22%20style%3D%22width%3A%20100.0%25%3B%20height%3A%20100.0%25%3B%22%3EMITCHELL%20%26%20PORTER%3C/div%3E%60%29%5B0%5D%3B%0A%20%20%20%20%20%20%20%20%20%20%20%20%20%20%20%20popup_3dac9237605f4fd08f735ee005c340cb.setContent%28html_6429527794d746b0b76e9a1ed9457d0d%29%3B%0A%20%20%20%20%20%20%20%20%20%20%20%20%0A%0A%20%20%20%20%20%20%20%20%20%20%20%20marker_92500a0ec438448098bb400671a0a1bd.bindPopup%28popup_3dac9237605f4fd08f735ee005c340cb%29%0A%20%20%20%20%20%20%20%20%20%20%20%20%3B%0A%0A%20%20%20%20%20%20%20%20%20%20%20%20%0A%20%20%20%20%20%20%20%20%0A%3C/script%3E onload=\"this.contentDocument.open();this.contentDocument.write(    decodeURIComponent(this.getAttribute('data-html')));this.contentDocument.close();\" allowfullscreen webkitallowfullscreen mozallowfullscreen></iframe></div></div>"
            ],
            "text/plain": [
              "<folium.folium.Map at 0x7f3fa784e6d0>"
            ]
          },
          "metadata": {},
          "execution_count": 8
        }
      ]
    },
    {
      "cell_type": "code",
      "metadata": {
        "colab": {
          "base_uri": "https://localhost:8080/"
        },
        "id": "pw8cVGXHAEVu",
        "outputId": "a82ee949-169d-4920-c907-6c85ad380de7"
      },
      "source": [
        "import math\n",
        "\n",
        "def haversine(lat1, lon1, lat2, lon2):\n",
        "    rad=math.pi/180\n",
        "    dlat=lat2-lat1\n",
        "    dlon=lon2-lon1\n",
        "    R=6372.795477598\n",
        "    a=(math.sin(rad*dlat/2))**2 + math.cos(rad*lat1)*math.cos(rad*lat2)*(math.sin(rad*dlon/2))**2\n",
        "    distancia=2*R*math.asin(math.sqrt(a))\n",
        "    return distancia\n",
        "\n",
        "print(haversine(-17.19202, -70.93874, -17.19111, -70.92896))"
      ],
      "execution_count": 10,
      "outputs": [
        {
          "output_type": "stream",
          "name": "stdout",
          "text": [
            "1.0441098339821444\n"
          ]
        }
      ]
    },
    {
      "cell_type": "code",
      "metadata": {
        "colab": {
          "base_uri": "https://localhost:8080/"
        },
        "id": "4iKeLYVZ_P1R",
        "outputId": "8a570550-f1fc-4cce-8860-7a4f22af122f"
      },
      "source": [
        "c = 0\n",
        "la = []\n",
        "lo = []\n",
        "for index, row in df.iterrows():\n",
        "    la.append(row['Latitud'])\n",
        "    lo.append(row['Longitud'])\n",
        "    c = c + 1\n",
        "\n",
        "print(la)\n",
        "print(lo)\n",
        "print(c)\n",
        "\n",
        "d = c\n",
        "distancias = [[0] * c for i in range(c)]\n",
        "for i in range(c):\n",
        "    for j in range(d):\n",
        "        distancias[i][j]=(haversine(la[i], lo[i], la[j], lo[j]))\n",
        "\n",
        "for row in distancias:\n",
        "    print(' '.join([str(elem) for elem in row]))"
      ],
      "execution_count": 11,
      "outputs": [
        {
          "output_type": "stream",
          "name": "stdout",
          "text": [
            "[-17.19202, -17.191110000000002, -17.19125, -17.1908, -17.19325, -17.19657, -17.18723, -17.19353, -17.189020000000003, -17.189420000000002, -17.188229999999997, -17.1904, -17.188679999999998, -17.19108, -17.1872, -17.18897, -17.191470000000002, -17.196360000000002, -17.1961, -17.19454, -17.197020000000002, -17.20934, -17.20901, -17.19612, -17.19124]\n",
            "[-70.93874, -70.92896, -70.93304, -70.92845, -70.93365, -70.93493000000001, -70.92546, -70.93808, -70.94032, -70.93798000000001, -70.93521, -70.93139000000001, -70.9282, -70.94926, -70.92659, -70.92709, -70.92777, -70.936, -70.93405, -70.93556, -70.91508, -70.94385, -70.95671999999999, -70.94639000000001, -70.95063]\n",
            "25\n",
            "0.0 1.044109833982106 0.6116893206662838 1.1017724512963745 0.5578791914236744 0.6480787164115719 1.5083330630926743 0.18200507696056964 0.3735338286368389 0.30025211309262045 0.5642646748316457 0.8015060431136366 1.179961040120837 1.1227013966651578 1.3979217913747315 1.283541929508995 1.1672410445841366 0.5637223244577727 0.6740015852236987 0.43901569613190405 2.5747750847679085 2.00148871555237 2.6871449643643253 0.9320370914896636 1.266369159905465\n",
            "1.044109833982106 0.0 0.4338085524459146 0.0642305625832887 0.5522693160216104 0.8781812456475667 0.5696970568214479 1.0057465836018011 1.2292682299234696 0.9767027053612032 0.7373313583740905 0.2700117953004709 0.2820863458526103 2.1570227972992275 0.5025463108623246 0.31006130068801274 0.1326343793274329 0.9489714641084582 0.774955332485138 0.7983454670483532 1.61468759255207 2.571846773095724 3.558617910163595 1.9340530992428386 2.3026369213015725\n",
            "0.6116893206662838 0.4338085524459146 0.0 0.49028205086346344 0.23170304336482894 0.6248734496232451 0.9212242347845151 0.59254174945714 0.8123485505540915 0.562994946957225 0.4074285711398263 0.1991907428306144 0.5883901595573342 1.7235940984249833 0.8201499251554902 0.68119745750948 0.5605087835458432 0.6495851132055777 0.550018796766129 0.45343832316540755 2.0133714709024133 2.3168342120738687 3.198845176120993 1.5184162915392296 1.869062147651562\n",
            "1.1017724512963745 0.0642305625832887 0.49028205086346344 0.0 0.616078653999698 0.941253773560666 0.5085390387175143 1.0673534854547018 1.2767245690437572 1.0242029374641342 0.7730927584399347 0.3155490568033657 0.23729129845191857 2.2114325203483047 0.4465350990350226 0.24962676132610606 0.10379899586879501 1.0129239954057248 0.8375995288080815 0.86243695203296 1.5801371116214262 2.632454258954062 3.6228252017743565 1.9959573942171513 2.357292688996732\n",
            "0.5578791914236744 0.5522693160216104 0.23170304336482894 0.616078653999698 0.0 0.39352121177972754 1.0980325327489349 0.4717424854206795 0.8506841325551601 0.6270235652489778 0.58244151232386 0.3976846253748351 0.7705400602155001 1.6761334455442818 1.007764066108171 0.8440950343755248 0.6554059488726418 0.4266216337338365 0.31983145432893706 0.248545728219103 2.0172163373685437 2.0922046752651102 3.0135074342890737 1.3908189432432905 1.818033580107108\n",
            "0.6480787164115719 0.8781812456475667 0.6248734496232451 0.941253773560666 0.39352121177972754 0.0 1.446290771108438 0.4757693330764155 1.0164659859928333 0.8587661730173057 0.9281040309385076 0.7825896117557591 1.132039331616452 1.6405218801428634 1.3680192742492472 1.1868172209362813 0.9489874853748663 0.11606641152297684 0.10712492013653395 0.23550335720499965 2.109733373126627 1.7075294151322147 2.69715369041902 1.2187006977096753 1.7704196582384362\n",
            "1.5083330630926743 0.5696970568214479 0.9212242347845151 0.5085390387175143 1.0980325327489349 1.446290771108438 0.0 1.5130161697962015 1.5915089492222139 1.3524755799257597 1.0419795097646232 0.7220524629282207 0.33283430194754954 2.5649454090415267 0.12011945395965314 0.2597194868804078 0.5316528640498432 1.5117906941544415 1.3440385442514564 1.346413011162674 1.5499025399886794 3.1409897022815896 4.111049152620194 2.4338663378196275 2.7114545054226173\n",
            "0.18200507696056964 1.0057465836018011 0.59254174945714 1.0673534854547018 0.4717424854206795 0.4757693330764155 1.5130161697962015 0.0 0.5552338470335383 0.45726341791423813 0.6637084600663621 0.7915288431161697 1.1803079295500623 1.2188015438334294 1.4093612928469186 1.2731531350427572 1.1192075169369111 0.3846113673908654 0.5148523434477313 0.29037455827660313 2.4744963187490034 1.8622920240131673 2.6243117980034945 0.928784146803482 1.3576253024903608\n",
            "0.3735338286368389 1.2292682299234696 0.8123485505540915 1.2767245690437572 0.8506841325551601 1.0164659859928333 1.5915089492222139 0.5552338470335383 0.0 0.25259329247569356 0.5500450933712123 0.9612178328952504 1.288407426557634 0.9771862506897617 1.4729113089945207 1.4058090813936597 1.3610914518476644 0.936598081287839 1.0314971355553428 0.7954706255412354 2.825661688035541 2.291028251195087 2.824893042805983 1.0196225154863667 1.1229995713934802\n",
            "0.30025211309262045 0.9767027053612032 0.562994946957225 1.0242029374641342 0.6270235652489778 0.8587661730173057 1.3524755799257597 0.45726341791423813 0.25259329247569356 0.0 0.3227268311516371 0.7086721438508766 1.0424608055872724 1.2127238302901904 1.2352188783306421 1.158234245692509 1.1085915402790958 0.8000676262706005 0.8522998686486214 0.6248417911793469 2.575912225707593 2.301740085561136 2.9516890224552967 1.1635694437926585 1.3593163084999174\n",
            "0.5642646748316457 0.7373313583740905 0.4074285711398263 0.7730927584399347 0.58244151232386 0.9281040309385076 1.0419795097646232 0.6637084600663621 0.5500450933712123 0.3227268311516371 0.0 0.472244633858619 0.7465529879314482 1.5262076010679397 0.9230900741761411 0.8667366185726844 0.8688219421062029 0.9081573279232762 0.8839860131475267 0.7028223689325339 2.351789796782255 2.5210727306628167 3.2504655981308685 1.4769423924039582 1.6723512132073424\n",
            "0.8015060431136366 0.2700117953004709 0.1991907428306144 0.3155490568033657 0.3976846253748351 0.7825896117557591 0.7220524629282207 0.7915288431161697 0.9612178328952504 0.7086721438508766 0.472244633858619 0.0 0.38922387856116675 1.900324702294823 0.6219512816790745 0.48380170169356584 0.40264183564604433 0.824251412698942 0.6941388410335585 0.6390357719814399 1.8829646676042617 2.4880887388993966 3.395296230273958 1.7161265234169938 2.046524464990513\n",
            "1.179961040120837 0.2820863458526103 0.5883901595573342 0.23729129845191857 0.7705400602155001 1.132039331616452 0.33283430194754954 1.1803079295500623 1.288407426557634 1.0424608055872724 0.7465529879314482 0.38922387856116675 0.0 2.2536557323010573 0.23741392534680852 0.12227793229176152 0.3136669344967691 1.1902085383076373 1.0332012370621675 1.0180509865575142 1.6745007485774672 2.836473996696452 3.781010907306922 2.1025047644301504 2.4003111299486473\n",
            "1.1227013966651578 2.1570227972992275 1.7235940984249833 2.2114325203483047 1.6761334455442818 1.6405218801428634 2.5649454090415267 1.2188015438334294 0.9771862506897617 1.2127238302901904 1.5262076010679397 1.900324702294823 2.2536557323010573 0.0 2.447227299612721 2.36739607498839 2.2838759937243807 1.5264440089652345 1.709883197711059 1.5057205080176639 3.691416864126126 2.11076956035777 2.146033202518392 0.6381592545871859 0.14665600763680756\n",
            "1.3979217913747315 0.5025463108623246 0.8201499251554902 0.4465350990350226 1.007764066108171 1.3680192742492472 0.12011945395965314 1.4093612928469186 1.4729113089945207 1.2352188783306421 0.9230900741761411 0.6219512816790745 0.23741392534680852 2.447227299612721 0.0 0.2039135256149482 0.4912083556393279 1.4275055381341695 1.2681736666426036 1.254975248969326 1.6397419032332257 3.0704135852658028 4.016681284821353 2.326084985864184 2.5936697609999353\n",
            "1.283541929508995 0.31006130068801274 0.68119745750948 0.24962676132610606 0.8440950343755248 1.1868172209362813 0.2597194868804078 1.2731531350427572 1.4058090813936597 1.158234245692509 0.8667366185726844 0.48380170169356584 0.12227793229176152 2.36739607498839 0.2039135256149482 0.0 0.2873000618439814 1.253772061369619 1.084362944413472 1.092615470872716 1.5589135118490955 2.881756878304762 3.857447371776642 2.1995486182561836 2.5140174035630074\n",
            "1.1672410445841366 0.1326343793274329 0.5605087835458432 0.10379899586879501 0.6554059488726418 0.9489874853748663 0.5316528640498432 1.1192075169369111 1.3610914518476644 1.1085915402790958 0.8688219421062029 0.40264183564604433 0.3136669344967691 2.2838759937243807 0.4912083556393279 0.2873000618439814 0.0 1.0298271414784517 0.8428947196229468 0.8954009202756916 1.4829686268595292 2.621007144179344 3.642495753930707 2.0449642000872754 2.429169827230546\n",
            "0.5637223244577727 0.9489714641084582 0.6495851132055777 1.0129239954057248 0.4266216337338365 0.11606641152297684 1.5117906941544415 0.3846113673908654 0.936598081287839 0.8000676262706005 0.9081573279232762 0.824251412698942 1.1902085383076373 1.5264440089652345 1.4275055381341695 1.253772061369619 1.0298271414784517 0.0 0.2092041064656622 0.20776040905891266 2.2240443299564485 1.6673284229749952 2.61272490008931 1.1043038372052068 1.6555471728019024\n",
            "0.6740015852236987 0.774955332485138 0.550018796766129 0.8375995288080815 0.31983145432893706 0.10712492013653395 1.3440385442514564 0.5148523434477313 1.0314971355553428 0.8522998686486214 0.8839860131475267 0.6941388410335585 1.0332012370621675 1.709883197711059 1.2681736666426036 1.084362944413472 0.8428947196229468 0.2092041064656622 0.0 0.23632442537208082 2.0182344922570037 1.8035707294969487 2.8042354352241268 1.3111796496477832 1.842785646488846\n",
            "0.43901569613190405 0.7983454670483532 0.45343832316540755 0.86243695203296 0.248545728219103 0.23550335720499965 1.346413011162674 0.29037455827660313 0.7954706255412354 0.6248417911793469 0.7028223689325339 0.6390357719814399 1.0180509865575142 1.5057205080176639 1.254975248969326 1.092615470872716 0.8954009202756916 0.20776040905891266 0.23632442537208082 0.0 2.1935045721595454 1.8669894948192094 2.764965741437797 1.1640803744307588 1.6428086312261987\n",
            "2.5747750847679085 1.61468759255207 2.0133714709024133 1.5801371116214262 2.0172163373685437 2.109733373126627 1.5499025399886794 2.4744963187490034 2.825661688035541 2.575912225707593 2.351789796782255 1.8829646676042617 1.6745007485774672 3.691416864126126 1.6397419032332257 1.5589135118490955 1.4829686268595292 2.2240443299564485 2.0182344922570037 2.1935045721595454 0.0 3.349908006495885 4.620887314151216 3.3283188201033216 3.831697218104239\n",
            "2.00148871555237 2.571846773095724 2.3168342120738687 2.632454258954062 2.0922046752651102 1.7075294151322147 3.1409897022815896 1.8622920240131673 2.291028251195087 2.301740085561136 2.5210727306628167 2.4880887388993966 2.836473996696452 2.11076956035777 3.0704135852658028 2.881756878304762 2.621007144179344 1.6673284229749952 1.8035707294969487 1.8669894948192094 3.349908006495885 0.0 1.3678885285918843 1.4949723342261785 2.1382034680000785\n",
            "2.6871449643643253 3.558617910163595 3.198845176120993 3.6228252017743565 3.0135074342890737 2.69715369041902 4.111049152620194 2.6243117980034945 2.824893042805983 2.9516890224552967 3.2504655981308685 3.395296230273958 3.781010907306922 2.146033202518392 4.016681284821353 3.857447371776642 3.642495753930707 2.61272490008931 2.8042354352241268 2.764965741437797 4.620887314151216 1.3678885285918843 0.0 1.805594308588761 2.0797165471902463\n",
            "0.9320370914896636 1.9340530992428386 1.5184162915392296 1.9959573942171513 1.3908189432432905 1.2187006977096753 2.4338663378196275 0.928784146803482 1.0196225154863667 1.1635694437926585 1.4769423924039582 1.7161265234169938 2.1025047644301504 0.6381592545871859 2.326084985864184 2.1995486182561836 2.0449642000872754 1.1043038372052068 1.3111796496477832 1.1640803744307588 3.3283188201033216 1.4949723342261785 1.805594308588761 0.0 0.705398159730419\n",
            "1.266369159905465 2.3026369213015725 1.869062147651562 2.357292688996732 1.818033580107108 1.7704196582384362 2.7114545054226173 1.3576253024903608 1.1229995713934802 1.3593163084999174 1.6723512132073424 2.046524464990513 2.4003111299486473 0.14665600763680756 2.5936697609999353 2.5140174035630074 2.429169827230546 1.6555471728019024 1.842785646488846 1.6428086312261987 3.831697218104239 2.1382034680000785 2.0797165471902463 0.705398159730419 0.0\n"
          ]
        }
      ]
    },
    {
      "cell_type": "code",
      "metadata": {
        "colab": {
          "base_uri": "https://localhost:8080/"
        },
        "id": "y3eS8W1g_Zeq",
        "outputId": "4d090329-5dbe-4d87-bbb3-e859be2bc4a5"
      },
      "source": [
        "\"\"\"Simple Travelling Salesperson Problem (TSP) between cities.\"\"\"\n",
        "\n",
        "from ortools.constraint_solver import routing_enums_pb2\n",
        "from ortools.constraint_solver import pywrapcp\n",
        "import folium\n",
        "from folium import plugins\n",
        "import pandas as pd\n",
        "import matplotlib.pyplot as plt\n",
        "import seaborn as sns\n",
        "import math\n",
        "\n",
        "%matplotlib inline\n",
        "\n",
        "def create_data_model():\n",
        "    def haversine(lat1, lon1, lat2, lon2):\n",
        "        rad=math.pi/180\n",
        "        dlat=lat2-lat1\n",
        "        dlon=lon2-lon1\n",
        "        R=6372.795477598\n",
        "        a=(math.sin(rad*dlat/2))**2 + math.cos(rad*lat1)*math.cos(rad*lat2)*(math.sin(rad*dlon/2))**2\n",
        "        distancia=2*R*math.asin(math.sqrt(a))\n",
        "        return distancia\n",
        "    df = pd.read_excel('datos1.xlsx', sheet_name=2)\n",
        "    c = 0\n",
        "    la = []\n",
        "    lo = []\n",
        "    for index, row in df.iterrows():\n",
        "        la.append(row['Latitud'])\n",
        "        lo.append(row['Longitud'])\n",
        "        c = c + 1\n",
        "    d = c\n",
        "    data = {}    \n",
        "    data['distance_matrix'] = [[0] * c for i in range(c)]\n",
        "    for i in range(c):\n",
        "        for j in range(d):\n",
        "            data['distance_matrix'][i][j]=(haversine(la[i], lo[i], la[j], lo[j]))  \n",
        "    \n",
        "    data['num_vehicles'] = 1\n",
        "    data['depot'] = 0\n",
        "    return data\n",
        "\n",
        "\n",
        "def print_solution(manager, routing, solution):\n",
        "    \"\"\"Prints solution on console.\"\"\"\n",
        "    print('Objective: {} Km'.format(solution.ObjectiveValue()))\n",
        "    index = routing.Start(0)\n",
        "    plan_output = 'Route for vehicle 0:\\n'\n",
        "    route_distance = 0\n",
        "    while not routing.IsEnd(index):\n",
        "        plan_output += ' {} ->'.format(manager.IndexToNode(index))\n",
        "        previous_index = index\n",
        "        index = solution.Value(routing.NextVar(index))\n",
        "        route_distance += routing.GetArcCostForVehicle(previous_index, index, 0)\n",
        "    plan_output += ' {}\\n'.format(manager.IndexToNode(index))\n",
        "    print(plan_output)\n",
        "    plan_output += 'Route distance: {}Km\\n'.format(route_distance)\n",
        "\n",
        "\n",
        "def main():\n",
        "    \"\"\"Entry point of the program.\"\"\"\n",
        "    # Instantiate the data problem.\n",
        "    data = create_data_model()\n",
        "\n",
        "    # Create the routing index manager.\n",
        "    manager = pywrapcp.RoutingIndexManager(len(data['distance_matrix']),\n",
        "                                           data['num_vehicles'], data['depot'])\n",
        "\n",
        "    # Create Routing Model.\n",
        "    routing = pywrapcp.RoutingModel(manager)\n",
        "\n",
        "\n",
        "    def distance_callback(from_index, to_index):\n",
        "        \"\"\"Returns the distance between the two nodes.\"\"\"\n",
        "        # Convert from routing variable Index to distance matrix NodeIndex.\n",
        "        from_node = manager.IndexToNode(from_index)\n",
        "        to_node = manager.IndexToNode(to_index)\n",
        "        return data['distance_matrix'][from_node][to_node]\n",
        "\n",
        "    transit_callback_index = routing.RegisterTransitCallback(distance_callback)\n",
        "\n",
        "    # Define cost of each arc.\n",
        "    routing.SetArcCostEvaluatorOfAllVehicles(transit_callback_index)\n",
        "\n",
        "    # Setting first solution heuristic.\n",
        "    search_parameters = pywrapcp.DefaultRoutingSearchParameters()\n",
        "    search_parameters.first_solution_strategy = (\n",
        "        routing_enums_pb2.FirstSolutionStrategy.PATH_CHEAPEST_ARC)\n",
        "\n",
        "    # Solve the problem.\n",
        "    solution = routing.SolveWithParameters(search_parameters)\n",
        "\n",
        "    # Print solution on console.\n",
        "    if solution:\n",
        "        print_solution(manager, routing, solution)\n",
        "\n",
        "\n",
        "if __name__ == '__main__':\n",
        "    main()"
      ],
      "execution_count": 13,
      "outputs": [
        {
          "output_type": "stream",
          "name": "stdout",
          "text": [
            "Objective: 7 Km\n",
            "Route for vehicle 0:\n",
            " 0 -> 23 -> 24 -> 13 -> 8 -> 19 -> 18 -> 17 -> 11 -> 16 -> 15 -> 14 -> 12 -> 10 -> 9 -> 7 -> 5 -> 4 -> 3 -> 6 -> 2 -> 1 -> 20 -> 21 -> 22 -> 0\n",
            "\n"
          ]
        }
      ]
    }
  ]
}