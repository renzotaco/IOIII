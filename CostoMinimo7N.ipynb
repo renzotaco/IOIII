{
  "nbformat": 4,
  "nbformat_minor": 0,
  "metadata": {
    "colab": {
      "name": "CostoMinimo3.ipynb",
      "provenance": []
    },
    "kernelspec": {
      "name": "python3",
      "display_name": "Python 3"
    },
    "language_info": {
      "name": "python"
    }
  },
  "cells": [
    {
      "cell_type": "code",
      "metadata": {
        "id": "gsddQ8-Y-Ran"
      },
      "source": [
        "# Importar la librería de Google OR-Tools\n",
        "from __future__ import print_function\n",
        "from ortools.graph import pywrapgraph"
      ],
      "execution_count": 3,
      "outputs": []
    },
    {
      "cell_type": "code",
      "metadata": {
        "id": "MWbXLM2S--Pv"
      },
      "source": [
        "nodos_fuente  = [ 0, 0, 1, 1, 2, 2, 2, 3, 3, 4, 4, 4, 5, 5, 6, 6, 6, 7, 7]\n",
        "nodos_destino = [ 1, 2, 2, 3, 1, 3, 4, 5, 6, 3, 6, 7, 6, 8, 5, 7, 8, 6, 8]\n",
        "capacidades   = [ 1, 1, 1, 1, 1, 1, 1, 1, 1, 1, 1, 1, 1, 1, 1, 1, 1, 1, 1]\n",
        "distancia     = [ 4, 2, 2, 7, 4, 9, 6, 1, 5, 2, 3, 2, 1, 5, 4, 3, 6, 2, 6]\n",
        "\n",
        "suministros = [1, 0, 0, 0, 0, 0, 0, 0, -1]"
      ],
      "execution_count": 4,
      "outputs": []
    },
    {
      "cell_type": "code",
      "metadata": {
        "id": "oLWgl9lZRVV3"
      },
      "source": [
        "nodos_fuente  = [ 0, 0, 0, 1, 1, 1, 2, 2, 2, 2, 2, 3, 3, 3, 3, 3, 4, 4, 4, 4, 4, 5, 5, 5, 5, 6, 6, 6]\n",
        "nodos_destino = [ 1, 2, 3, 0, 2, 4, 0, 1, 3, 4, 5, 0, 2, 4, 5, 6, 1, 2, 3, 5, 6, 2, 3, 4, 6, 3, 4, 5]\n",
        "capacidades   = [ 1, 1, 1, 1, 1, 1, 1, 1, 1, 1, 1, 1, 1, 1, 1, 1, 1, 1, 1, 1, 1, 1, 1, 1, 1, 1, 1, 1]\n",
        "\n",
        "suministros = [1, 0, 0, 0, 0, 0, -1]"
      ],
      "execution_count": 13,
      "outputs": []
    },
    {
      "cell_type": "code",
      "metadata": {
        "id": "Wg9afard-_wt"
      },
      "source": [
        "# Crea una instancia para el solucionador\n",
        "min_cost_flow = pywrapgraph.SimpleMinCostFlow()\n",
        "\n",
        "# Define cada arco del problema\n",
        "for i in range(0, len(nodos_fuente)):\n",
        "  min_cost_flow.AddArcWithCapacityAndUnitCost(nodos_fuente[i], nodos_destino[i],\n",
        "                                              capacidades[i], distancia[i])\n",
        "\n",
        "# Define los suministros para cada nodo.\n",
        "for i in range(0, len(suministros)):\n",
        "  min_cost_flow.SetNodeSupply(i, suministros[i])"
      ],
      "execution_count": 15,
      "outputs": []
    },
    {
      "cell_type": "code",
      "metadata": {
        "colab": {
          "base_uri": "https://localhost:8080/"
        },
        "id": "ylPX01O6_AMd",
        "outputId": "b37cf8f1-b3b4-430b-acfc-4ae6042592e6"
      },
      "source": [
        "# Encuentra el costo mínimo entre el nodo 0 y el nodo 8\n",
        "if min_cost_flow.Solve() == min_cost_flow.OPTIMAL:\n",
        "  print('Distancia mínima:', min_cost_flow.OptimalCost())\n",
        "  print('')\n",
        "  print(' Arco Flujo / Capacidad Distancia')\n",
        "  for i in range(min_cost_flow.NumArcs()):\n",
        "    cost = min_cost_flow.Flow(i) * min_cost_flow.UnitCost(i)\n",
        "    print('%1s -> %1s %3s / %3s %3s' % (\n",
        "        min_cost_flow.Tail(i),\n",
        "        min_cost_flow.Head(i),\n",
        "        min_cost_flow.Flow(i),\n",
        "        min_cost_flow.Capacity(i),\n",
        "        cost))\n",
        "else:\n",
        "  print('Hubo un problema con la entrada de flujo de distancia mínima.')"
      ],
      "execution_count": 16,
      "outputs": [
        {
          "output_type": "stream",
          "name": "stdout",
          "text": [
            "Distancia mínima: 7\n",
            "\n",
            " Arco Flujo / Capacidad Distancia\n",
            "0 -> 1   1 /   1   2\n",
            "0 -> 2   0 /   1   0\n",
            "0 -> 3   0 /   1   0\n",
            "1 -> 0   0 /   1   0\n",
            "1 -> 2   0 /   1   0\n",
            "1 -> 4   1 /   1   3\n",
            "2 -> 0   0 /   1   0\n",
            "2 -> 1   0 /   1   0\n",
            "2 -> 3   0 /   1   0\n",
            "2 -> 4   0 /   1   0\n",
            "2 -> 5   0 /   1   0\n",
            "3 -> 0   0 /   1   0\n",
            "3 -> 2   0 /   1   0\n",
            "3 -> 4   0 /   1   0\n",
            "3 -> 5   0 /   1   0\n",
            "3 -> 6   0 /   1   0\n",
            "4 -> 1   0 /   1   0\n",
            "4 -> 2   0 /   1   0\n",
            "4 -> 3   0 /   1   0\n",
            "4 -> 5   0 /   1   0\n",
            "4 -> 6   1 /   1   2\n",
            "5 -> 2   0 /   1   0\n",
            "5 -> 3   0 /   1   0\n",
            "5 -> 4   0 /   1   0\n",
            "5 -> 6   0 /   1   0\n",
            "6 -> 3   0 /   1   0\n",
            "6 -> 4   0 /   1   0\n",
            "6 -> 5   0 /   1   0\n"
          ]
        }
      ]
    },
    {
      "cell_type": "code",
      "metadata": {
        "id": "xGORgXZTvfoK"
      },
      "source": [
        "!pip install ortool"
      ],
      "execution_count": null,
      "outputs": []
    }
  ]
}